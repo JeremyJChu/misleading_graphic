{
  "nbformat": 4,
  "nbformat_minor": 0,
  "metadata": {
    "colab": {
      "name": "misleading-graphic.ipynb",
      "provenance": [],
      "authorship_tag": "ABX9TyOKTyK1Q/JhsI78XKBin7gv",
      "include_colab_link": true
    },
    "kernelspec": {
      "name": "python3",
      "display_name": "Python 3"
    }
  },
  "cells": [
    {
      "cell_type": "markdown",
      "metadata": {
        "id": "view-in-github",
        "colab_type": "text"
      },
      "source": [
        "<a href=\"https://colab.research.google.com/github/JeremyJChu/misleading_graphic/blob/main/output/notebooks/misleading_graphic.ipynb\" target=\"_parent\"><img src=\"https://colab.research.google.com/assets/colab-badge.svg\" alt=\"Open In Colab\"/></a>"
      ]
    },
    {
      "cell_type": "markdown",
      "metadata": {
        "id": "qrw0l0az5qfm"
      },
      "source": [
        "# **Making a Misleading Graphic Targetting Immigrants**"
      ]
    },
    {
      "cell_type": "markdown",
      "metadata": {
        "id": "12T4tV7k54MK"
      },
      "source": [
        "Author: Jeremy Chu (An Asian Immigrant)"
      ]
    },
    {
      "cell_type": "code",
      "metadata": {
        "colab": {
          "base_uri": "https://localhost:8080/"
        },
        "id": "oL4XDPjfwZk9",
        "outputId": "3403c905-be9b-4e0b-8008-55a4e9bea0ee"
      },
      "source": [
        "!pip install geopandas"
      ],
      "execution_count": 1,
      "outputs": [
        {
          "output_type": "stream",
          "text": [
            "Collecting geopandas\n",
            "\u001b[?25l  Downloading https://files.pythonhosted.org/packages/d7/bf/e9cefb69d39155d122b6ddca53893b61535fa6ffdad70bf5ef708977f53f/geopandas-0.9.0-py2.py3-none-any.whl (994kB)\n",
            "\u001b[K     |████████████████████████████████| 1.0MB 5.6MB/s \n",
            "\u001b[?25hCollecting pyproj>=2.2.0\n",
            "\u001b[?25l  Downloading https://files.pythonhosted.org/packages/b1/72/d52e9ca81caef056062d71991b0e9b1d16af042245627c5d0e4916a36c4f/pyproj-3.0.1-cp37-cp37m-manylinux2010_x86_64.whl (6.5MB)\n",
            "\u001b[K     |████████████████████████████████| 6.5MB 12.5MB/s \n",
            "\u001b[?25hCollecting fiona>=1.8\n",
            "\u001b[?25l  Downloading https://files.pythonhosted.org/packages/47/c2/67d1d0acbaaee3b03e5e22e3b96c33219cb5dd392531c9ff9cee7c2eb3e4/Fiona-1.8.18-cp37-cp37m-manylinux1_x86_64.whl (14.8MB)\n",
            "\u001b[K     |████████████████████████████████| 14.8MB 264kB/s \n",
            "\u001b[?25hRequirement already satisfied: shapely>=1.6 in /usr/local/lib/python3.7/dist-packages (from geopandas) (1.7.1)\n",
            "Requirement already satisfied: pandas>=0.24.0 in /usr/local/lib/python3.7/dist-packages (from geopandas) (1.1.5)\n",
            "Requirement already satisfied: certifi in /usr/local/lib/python3.7/dist-packages (from pyproj>=2.2.0->geopandas) (2020.12.5)\n",
            "Requirement already satisfied: six>=1.7 in /usr/local/lib/python3.7/dist-packages (from fiona>=1.8->geopandas) (1.15.0)\n",
            "Requirement already satisfied: attrs>=17 in /usr/local/lib/python3.7/dist-packages (from fiona>=1.8->geopandas) (20.3.0)\n",
            "Collecting click-plugins>=1.0\n",
            "  Downloading https://files.pythonhosted.org/packages/e9/da/824b92d9942f4e472702488857914bdd50f73021efea15b4cad9aca8ecef/click_plugins-1.1.1-py2.py3-none-any.whl\n",
            "Collecting munch\n",
            "  Downloading https://files.pythonhosted.org/packages/cc/ab/85d8da5c9a45e072301beb37ad7f833cd344e04c817d97e0cc75681d248f/munch-2.5.0-py2.py3-none-any.whl\n",
            "Requirement already satisfied: click<8,>=4.0 in /usr/local/lib/python3.7/dist-packages (from fiona>=1.8->geopandas) (7.1.2)\n",
            "Collecting cligj>=0.5\n",
            "  Downloading https://files.pythonhosted.org/packages/42/1e/947eadf10d6804bf276eb8a038bd5307996dceaaa41cfd21b7a15ec62f5d/cligj-0.7.1-py3-none-any.whl\n",
            "Requirement already satisfied: numpy>=1.15.4 in /usr/local/lib/python3.7/dist-packages (from pandas>=0.24.0->geopandas) (1.19.5)\n",
            "Requirement already satisfied: pytz>=2017.2 in /usr/local/lib/python3.7/dist-packages (from pandas>=0.24.0->geopandas) (2018.9)\n",
            "Requirement already satisfied: python-dateutil>=2.7.3 in /usr/local/lib/python3.7/dist-packages (from pandas>=0.24.0->geopandas) (2.8.1)\n",
            "Installing collected packages: pyproj, click-plugins, munch, cligj, fiona, geopandas\n",
            "Successfully installed click-plugins-1.1.1 cligj-0.7.1 fiona-1.8.18 geopandas-0.9.0 munch-2.5.0 pyproj-3.0.1\n"
          ],
          "name": "stdout"
        }
      ]
    },
    {
      "cell_type": "code",
      "metadata": {
        "id": "2gBOeLnMz6yy"
      },
      "source": [
        "# Importing library and packages\n",
        "\n",
        "import pandas as pd\n",
        "import numpy as np\n",
        "import geopandas as gpd\n",
        "import seaborn as sns\n",
        "import matplotlib.pyplot as plt\n",
        "import plotly.graph_objects as go\n",
        "from plotly.subplots import make_subplots\n",
        "import plotly.express as px"
      ],
      "execution_count": 2,
      "outputs": []
    },
    {
      "cell_type": "code",
      "metadata": {
        "id": "oAPOb92ZEQp0"
      },
      "source": [
        "# Reading data\n",
        "df = pd.read_csv(\"https://raw.githubusercontent.com/JeremyJChu/misleading_graphic/main/inputs/data/14100083.csv\")\n",
        "df2 = pd.read_csv('https://raw.githubusercontent.com/JeremyJChu/misleading_graphic/main/inputs/data/06_neighbourhood-profiles_cleaned%20copy.csv')"
      ],
      "execution_count": 3,
      "outputs": []
    },
    {
      "cell_type": "markdown",
      "metadata": {
        "id": "vhonlMxH49Hf"
      },
      "source": [
        "# Preamble\n",
        "\n"
      ]
    },
    {
      "cell_type": "markdown",
      "metadata": {
        "id": "VlWAWL__5_X4"
      },
      "source": [
        "No racist intent is behind the making of this graphic. This was an experiment to test how legitimate data could transform into racist propaganda. The audience was set to be an older, more racist group of Canadians who have already subscribed to a more anti-immigration rhetoric following COVID-19. Please do not redistribute the graph without permission from the author. \n",
        "\n",
        "**Data**\n",
        "\n",
        "Two datasets were used for this project.\n",
        "\n",
        "1. Labour force characteristics by immigrant status, annual from Statistics Canada [Link](https://www150.statcan.gc.ca/t1/tbl1/en/tv.action?pid=1410008301)\n",
        "\n",
        "2. Neighbourhood Profiles from Open Data Toronto [Link](https://open.toronto.ca/dataset/neighbourhood-profiles/)"
      ]
    },
    {
      "cell_type": "markdown",
      "metadata": {
        "id": "G3hGeS-Ipykd"
      },
      "source": [
        "# Section 1: First Graph"
      ]
    },
    {
      "cell_type": "code",
      "metadata": {
        "id": "fUOfsnc8GWd6"
      },
      "source": [
        "# Filtering data to only show Toronto \n",
        "to_df = df[df['GEO'] == 'Toronto, Ontario']\n",
        "to_df = to_df[to_df['Age group'] == '15 years and over']"
      ],
      "execution_count": 4,
      "outputs": []
    },
    {
      "cell_type": "code",
      "metadata": {
        "colab": {
          "base_uri": "https://localhost:8080/"
        },
        "id": "6pN5Erf1-vF-",
        "outputId": "c08db17a-181a-446b-b0c5-fb75bbfe4f11"
      },
      "source": [
        "# My data explaratory steps. Checking to see what labour force characteristics there are.\n",
        "print(to_df['Labour force characteristics'].unique())"
      ],
      "execution_count": 5,
      "outputs": [
        {
          "output_type": "stream",
          "text": [
            "['Population' 'Labour force' 'Employment' 'Full-time employment'\n",
            " 'Part-time employment' 'Unemployment' 'Not in labour force'\n",
            " 'Unemployment rate' 'Participation rate' 'Employment rate']\n"
          ],
          "name": "stdout"
        }
      ]
    },
    {
      "cell_type": "code",
      "metadata": {
        "id": "jxYAC4TvGkXq"
      },
      "source": [
        "# As I was uncertain as to whether employment/unemployment rate or raw numbers would be more misleading, I made dataset subsets of each.\n",
        "unemr_df = to_df[(to_df['UOM'] == 'Percentage') & (to_df['Labour force characteristics'] == 'Unemployment rate')]\n",
        "emr_df = to_df[(to_df['UOM'] == 'Percentage') & (to_df['Labour force characteristics'] == 'Employment rate')]\n",
        "unem_df = to_df[to_df['Labour force characteristics'] == 'Unemployment']\n",
        "em_df = to_df[to_df['Labour force characteristics'] == 'Employment']"
      ],
      "execution_count": 6,
      "outputs": []
    },
    {
      "cell_type": "code",
      "metadata": {
        "colab": {
          "base_uri": "https://localhost:8080/",
          "height": 542
        },
        "id": "-sdVo7_b97XC",
        "outputId": "6994254c-b2ae-4a7e-95f4-850d6197b2e0"
      },
      "source": [
        "# Here are my initial exploration drafts\n",
        "# Unemployment Rate Graph\n",
        "fig = px.line(unemr_df, x = \"REF_DATE\", y = \"VALUE\", color=\"Immigrant status\")\n",
        "fig.show()"
      ],
      "execution_count": 7,
      "outputs": [
        {
          "output_type": "display_data",
          "data": {
            "text/html": [
              "<html>\n",
              "<head><meta charset=\"utf-8\" /></head>\n",
              "<body>\n",
              "    <div>\n",
              "            <script src=\"https://cdnjs.cloudflare.com/ajax/libs/mathjax/2.7.5/MathJax.js?config=TeX-AMS-MML_SVG\"></script><script type=\"text/javascript\">if (window.MathJax) {MathJax.Hub.Config({SVG: {font: \"STIX-Web\"}});}</script>\n",
              "                <script type=\"text/javascript\">window.PlotlyConfig = {MathJaxConfig: 'local'};</script>\n",
              "        <script src=\"https://cdn.plot.ly/plotly-latest.min.js\"></script>    \n",
              "            <div id=\"ce575570-d110-4a8a-8ecf-511ff4aeb423\" class=\"plotly-graph-div\" style=\"height:525px; width:100%;\"></div>\n",
              "            <script type=\"text/javascript\">\n",
              "                \n",
              "                    window.PLOTLYENV=window.PLOTLYENV || {};\n",
              "                    \n",
              "                if (document.getElementById(\"ce575570-d110-4a8a-8ecf-511ff4aeb423\")) {\n",
              "                    Plotly.newPlot(\n",
              "                        'ce575570-d110-4a8a-8ecf-511ff4aeb423',\n",
              "                        [{\"hoverlabel\": {\"namelength\": 0}, \"hovertemplate\": \"Immigrant status=Total population<br>REF_DATE=%{x}<br>VALUE=%{y}\", \"legendgroup\": \"Immigrant status=Total population\", \"line\": {\"color\": \"#636efa\", \"dash\": \"solid\"}, \"mode\": \"lines\", \"name\": \"Immigrant status=Total population\", \"showlegend\": true, \"type\": \"scatter\", \"x\": [2006, 2007, 2008, 2009, 2010, 2011, 2012, 2013, 2014, 2015, 2016, 2017, 2018, 2019, 2020], \"xaxis\": \"x\", \"y\": [6.6, 6.9, 6.9, 9.6, 9.2, 8.4, 8.7, 8.2, 8.0, 7.1, 7.0, 6.5, 6.2, 6.0, 10.8], \"yaxis\": \"y\"}, {\"hoverlabel\": {\"namelength\": 0}, \"hovertemplate\": \"Immigrant status=Landed immigrants<br>REF_DATE=%{x}<br>VALUE=%{y}\", \"legendgroup\": \"Immigrant status=Landed immigrants\", \"line\": {\"color\": \"#EF553B\", \"dash\": \"solid\"}, \"mode\": \"lines\", \"name\": \"Immigrant status=Landed immigrants\", \"showlegend\": true, \"type\": \"scatter\", \"x\": [2006, 2007, 2008, 2009, 2010, 2011, 2012, 2013, 2014, 2015, 2016, 2017, 2018, 2019, 2020], \"xaxis\": \"x\", \"y\": [7.2, 7.8, 7.9, 11.1, 10.7, 9.0, 8.9, 8.5, 8.4, 6.9, 7.0, 6.4, 6.1, 5.8, 10.3], \"yaxis\": \"y\"}, {\"hoverlabel\": {\"namelength\": 0}, \"hovertemplate\": \"Immigrant status=Immigrants, landed 5 or less years earlier<br>REF_DATE=%{x}<br>VALUE=%{y}\", \"legendgroup\": \"Immigrant status=Immigrants, landed 5 or less years earlier\", \"line\": {\"color\": \"#00cc96\", \"dash\": \"solid\"}, \"mode\": \"lines\", \"name\": \"Immigrant status=Immigrants, landed 5 or less years earlier\", \"showlegend\": true, \"type\": \"scatter\", \"x\": [2006, 2007, 2008, 2009, 2010, 2011, 2012, 2013, 2014, 2015, 2016, 2017, 2018, 2019, 2020], \"xaxis\": \"x\", \"y\": [12.4, 13.2, 13.1, 15.8, 19.3, 14.7, 15.0, 14.3, 14.8, 10.8, 11.7, 9.4, 9.3, 9.1, 12.6], \"yaxis\": \"y\"}, {\"hoverlabel\": {\"namelength\": 0}, \"hovertemplate\": \"Immigrant status=Immigrants, landed more than 5 to 10 years earlier<br>REF_DATE=%{x}<br>VALUE=%{y}\", \"legendgroup\": \"Immigrant status=Immigrants, landed more than 5 to 10 years earlier\", \"line\": {\"color\": \"#ab63fa\", \"dash\": \"solid\"}, \"mode\": \"lines\", \"name\": \"Immigrant status=Immigrants, landed more than 5 to 10 years earlier\", \"showlegend\": true, \"type\": \"scatter\", \"x\": [2006, 2007, 2008, 2009, 2010, 2011, 2012, 2013, 2014, 2015, 2016, 2017, 2018, 2019, 2020], \"xaxis\": \"x\", \"y\": [9.4, 8.9, 9.0, 15.1, 11.8, 9.2, 10.1, 10.1, 12.1, 9.0, 8.3, 7.3, 7.0, 7.5, 13.1], \"yaxis\": \"y\"}, {\"hoverlabel\": {\"namelength\": 0}, \"hovertemplate\": \"Immigrant status=Immigrants, landed more than 10 years earlier<br>REF_DATE=%{x}<br>VALUE=%{y}\", \"legendgroup\": \"Immigrant status=Immigrants, landed more than 10 years earlier\", \"line\": {\"color\": \"#FFA15A\", \"dash\": \"solid\"}, \"mode\": \"lines\", \"name\": \"Immigrant status=Immigrants, landed more than 10 years earlier\", \"showlegend\": true, \"type\": \"scatter\", \"x\": [2006, 2007, 2008, 2009, 2010, 2011, 2012, 2013, 2014, 2015, 2016, 2017, 2018, 2019, 2020], \"xaxis\": \"x\", \"y\": [5.5, 6.4, 6.5, 9.3, 8.8, 8.1, 7.5, 7.3, 6.7, 5.9, 6.1, 5.7, 5.4, 4.9, 9.4], \"yaxis\": \"y\"}, {\"hoverlabel\": {\"namelength\": 0}, \"hovertemplate\": \"Immigrant status=Born in Canada<br>REF_DATE=%{x}<br>VALUE=%{y}\", \"legendgroup\": \"Immigrant status=Born in Canada\", \"line\": {\"color\": \"#19d3f3\", \"dash\": \"solid\"}, \"mode\": \"lines\", \"name\": \"Immigrant status=Born in Canada\", \"showlegend\": true, \"type\": \"scatter\", \"x\": [2006, 2007, 2008, 2009, 2010, 2011, 2012, 2013, 2014, 2015, 2016, 2017, 2018, 2019, 2020], \"xaxis\": \"x\", \"y\": [5.9, 5.7, 5.9, 8.2, 7.6, 7.7, 8.5, 7.8, 7.6, 7.2, 6.7, 6.5, 6.1, 6.2, 11.2], \"yaxis\": \"y\"}],\n",
              "                        {\"legend\": {\"tracegroupgap\": 0}, \"margin\": {\"t\": 60}, \"template\": {\"data\": {\"bar\": [{\"error_x\": {\"color\": \"#2a3f5f\"}, \"error_y\": {\"color\": \"#2a3f5f\"}, \"marker\": {\"line\": {\"color\": \"#E5ECF6\", \"width\": 0.5}}, \"type\": \"bar\"}], \"barpolar\": [{\"marker\": {\"line\": {\"color\": \"#E5ECF6\", \"width\": 0.5}}, \"type\": \"barpolar\"}], \"carpet\": [{\"aaxis\": {\"endlinecolor\": \"#2a3f5f\", \"gridcolor\": \"white\", \"linecolor\": \"white\", \"minorgridcolor\": \"white\", \"startlinecolor\": \"#2a3f5f\"}, \"baxis\": {\"endlinecolor\": \"#2a3f5f\", \"gridcolor\": \"white\", \"linecolor\": \"white\", \"minorgridcolor\": \"white\", \"startlinecolor\": \"#2a3f5f\"}, \"type\": \"carpet\"}], \"choropleth\": [{\"colorbar\": {\"outlinewidth\": 0, \"ticks\": \"\"}, \"type\": \"choropleth\"}], \"contour\": [{\"colorbar\": {\"outlinewidth\": 0, \"ticks\": \"\"}, \"colorscale\": [[0.0, \"#0d0887\"], [0.1111111111111111, \"#46039f\"], [0.2222222222222222, \"#7201a8\"], [0.3333333333333333, \"#9c179e\"], [0.4444444444444444, \"#bd3786\"], [0.5555555555555556, \"#d8576b\"], [0.6666666666666666, \"#ed7953\"], [0.7777777777777778, \"#fb9f3a\"], [0.8888888888888888, \"#fdca26\"], [1.0, \"#f0f921\"]], \"type\": \"contour\"}], \"contourcarpet\": [{\"colorbar\": {\"outlinewidth\": 0, \"ticks\": \"\"}, \"type\": \"contourcarpet\"}], \"heatmap\": [{\"colorbar\": {\"outlinewidth\": 0, \"ticks\": \"\"}, \"colorscale\": [[0.0, \"#0d0887\"], [0.1111111111111111, \"#46039f\"], [0.2222222222222222, \"#7201a8\"], [0.3333333333333333, \"#9c179e\"], [0.4444444444444444, \"#bd3786\"], [0.5555555555555556, \"#d8576b\"], [0.6666666666666666, \"#ed7953\"], [0.7777777777777778, \"#fb9f3a\"], [0.8888888888888888, \"#fdca26\"], [1.0, \"#f0f921\"]], \"type\": \"heatmap\"}], \"heatmapgl\": [{\"colorbar\": {\"outlinewidth\": 0, \"ticks\": \"\"}, \"colorscale\": [[0.0, \"#0d0887\"], [0.1111111111111111, \"#46039f\"], [0.2222222222222222, \"#7201a8\"], [0.3333333333333333, \"#9c179e\"], [0.4444444444444444, \"#bd3786\"], [0.5555555555555556, \"#d8576b\"], [0.6666666666666666, \"#ed7953\"], [0.7777777777777778, \"#fb9f3a\"], [0.8888888888888888, \"#fdca26\"], [1.0, \"#f0f921\"]], \"type\": \"heatmapgl\"}], \"histogram\": [{\"marker\": {\"colorbar\": {\"outlinewidth\": 0, \"ticks\": \"\"}}, \"type\": \"histogram\"}], \"histogram2d\": [{\"colorbar\": {\"outlinewidth\": 0, \"ticks\": \"\"}, \"colorscale\": [[0.0, \"#0d0887\"], [0.1111111111111111, \"#46039f\"], [0.2222222222222222, \"#7201a8\"], [0.3333333333333333, \"#9c179e\"], [0.4444444444444444, \"#bd3786\"], [0.5555555555555556, \"#d8576b\"], [0.6666666666666666, \"#ed7953\"], [0.7777777777777778, \"#fb9f3a\"], [0.8888888888888888, \"#fdca26\"], [1.0, \"#f0f921\"]], \"type\": \"histogram2d\"}], \"histogram2dcontour\": [{\"colorbar\": {\"outlinewidth\": 0, \"ticks\": \"\"}, \"colorscale\": [[0.0, \"#0d0887\"], [0.1111111111111111, \"#46039f\"], [0.2222222222222222, \"#7201a8\"], [0.3333333333333333, \"#9c179e\"], [0.4444444444444444, \"#bd3786\"], [0.5555555555555556, \"#d8576b\"], [0.6666666666666666, \"#ed7953\"], [0.7777777777777778, \"#fb9f3a\"], [0.8888888888888888, \"#fdca26\"], [1.0, \"#f0f921\"]], \"type\": \"histogram2dcontour\"}], \"mesh3d\": [{\"colorbar\": {\"outlinewidth\": 0, \"ticks\": \"\"}, \"type\": \"mesh3d\"}], \"parcoords\": [{\"line\": {\"colorbar\": {\"outlinewidth\": 0, \"ticks\": \"\"}}, \"type\": \"parcoords\"}], \"pie\": [{\"automargin\": true, \"type\": \"pie\"}], \"scatter\": [{\"marker\": {\"colorbar\": {\"outlinewidth\": 0, \"ticks\": \"\"}}, \"type\": \"scatter\"}], \"scatter3d\": [{\"line\": {\"colorbar\": {\"outlinewidth\": 0, \"ticks\": \"\"}}, \"marker\": {\"colorbar\": {\"outlinewidth\": 0, \"ticks\": \"\"}}, \"type\": \"scatter3d\"}], \"scattercarpet\": [{\"marker\": {\"colorbar\": {\"outlinewidth\": 0, \"ticks\": \"\"}}, \"type\": \"scattercarpet\"}], \"scattergeo\": [{\"marker\": {\"colorbar\": {\"outlinewidth\": 0, \"ticks\": \"\"}}, \"type\": \"scattergeo\"}], \"scattergl\": [{\"marker\": {\"colorbar\": {\"outlinewidth\": 0, \"ticks\": \"\"}}, \"type\": \"scattergl\"}], \"scattermapbox\": [{\"marker\": {\"colorbar\": {\"outlinewidth\": 0, \"ticks\": \"\"}}, \"type\": \"scattermapbox\"}], \"scatterpolar\": [{\"marker\": {\"colorbar\": {\"outlinewidth\": 0, \"ticks\": \"\"}}, \"type\": \"scatterpolar\"}], \"scatterpolargl\": [{\"marker\": {\"colorbar\": {\"outlinewidth\": 0, \"ticks\": \"\"}}, \"type\": \"scatterpolargl\"}], \"scatterternary\": [{\"marker\": {\"colorbar\": {\"outlinewidth\": 0, \"ticks\": \"\"}}, \"type\": \"scatterternary\"}], \"surface\": [{\"colorbar\": {\"outlinewidth\": 0, \"ticks\": \"\"}, \"colorscale\": [[0.0, \"#0d0887\"], [0.1111111111111111, \"#46039f\"], [0.2222222222222222, \"#7201a8\"], [0.3333333333333333, \"#9c179e\"], [0.4444444444444444, \"#bd3786\"], [0.5555555555555556, \"#d8576b\"], [0.6666666666666666, \"#ed7953\"], [0.7777777777777778, \"#fb9f3a\"], [0.8888888888888888, \"#fdca26\"], [1.0, \"#f0f921\"]], \"type\": \"surface\"}], \"table\": [{\"cells\": {\"fill\": {\"color\": \"#EBF0F8\"}, \"line\": {\"color\": \"white\"}}, \"header\": {\"fill\": {\"color\": \"#C8D4E3\"}, \"line\": {\"color\": \"white\"}}, \"type\": \"table\"}]}, \"layout\": {\"annotationdefaults\": {\"arrowcolor\": \"#2a3f5f\", \"arrowhead\": 0, \"arrowwidth\": 1}, \"coloraxis\": {\"colorbar\": {\"outlinewidth\": 0, \"ticks\": \"\"}}, \"colorscale\": {\"diverging\": [[0, \"#8e0152\"], [0.1, \"#c51b7d\"], [0.2, \"#de77ae\"], [0.3, \"#f1b6da\"], [0.4, \"#fde0ef\"], [0.5, \"#f7f7f7\"], [0.6, \"#e6f5d0\"], [0.7, \"#b8e186\"], [0.8, \"#7fbc41\"], [0.9, \"#4d9221\"], [1, \"#276419\"]], \"sequential\": [[0.0, \"#0d0887\"], [0.1111111111111111, \"#46039f\"], [0.2222222222222222, \"#7201a8\"], [0.3333333333333333, \"#9c179e\"], [0.4444444444444444, \"#bd3786\"], [0.5555555555555556, \"#d8576b\"], [0.6666666666666666, \"#ed7953\"], [0.7777777777777778, \"#fb9f3a\"], [0.8888888888888888, \"#fdca26\"], [1.0, \"#f0f921\"]], \"sequentialminus\": [[0.0, \"#0d0887\"], [0.1111111111111111, \"#46039f\"], [0.2222222222222222, \"#7201a8\"], [0.3333333333333333, \"#9c179e\"], [0.4444444444444444, \"#bd3786\"], [0.5555555555555556, \"#d8576b\"], [0.6666666666666666, \"#ed7953\"], [0.7777777777777778, \"#fb9f3a\"], [0.8888888888888888, \"#fdca26\"], [1.0, \"#f0f921\"]]}, \"colorway\": [\"#636efa\", \"#EF553B\", \"#00cc96\", \"#ab63fa\", \"#FFA15A\", \"#19d3f3\", \"#FF6692\", \"#B6E880\", \"#FF97FF\", \"#FECB52\"], \"font\": {\"color\": \"#2a3f5f\"}, \"geo\": {\"bgcolor\": \"white\", \"lakecolor\": \"white\", \"landcolor\": \"#E5ECF6\", \"showlakes\": true, \"showland\": true, \"subunitcolor\": \"white\"}, \"hoverlabel\": {\"align\": \"left\"}, \"hovermode\": \"closest\", \"mapbox\": {\"style\": \"light\"}, \"paper_bgcolor\": \"white\", \"plot_bgcolor\": \"#E5ECF6\", \"polar\": {\"angularaxis\": {\"gridcolor\": \"white\", \"linecolor\": \"white\", \"ticks\": \"\"}, \"bgcolor\": \"#E5ECF6\", \"radialaxis\": {\"gridcolor\": \"white\", \"linecolor\": \"white\", \"ticks\": \"\"}}, \"scene\": {\"xaxis\": {\"backgroundcolor\": \"#E5ECF6\", \"gridcolor\": \"white\", \"gridwidth\": 2, \"linecolor\": \"white\", \"showbackground\": true, \"ticks\": \"\", \"zerolinecolor\": \"white\"}, \"yaxis\": {\"backgroundcolor\": \"#E5ECF6\", \"gridcolor\": \"white\", \"gridwidth\": 2, \"linecolor\": \"white\", \"showbackground\": true, \"ticks\": \"\", \"zerolinecolor\": \"white\"}, \"zaxis\": {\"backgroundcolor\": \"#E5ECF6\", \"gridcolor\": \"white\", \"gridwidth\": 2, \"linecolor\": \"white\", \"showbackground\": true, \"ticks\": \"\", \"zerolinecolor\": \"white\"}}, \"shapedefaults\": {\"line\": {\"color\": \"#2a3f5f\"}}, \"ternary\": {\"aaxis\": {\"gridcolor\": \"white\", \"linecolor\": \"white\", \"ticks\": \"\"}, \"baxis\": {\"gridcolor\": \"white\", \"linecolor\": \"white\", \"ticks\": \"\"}, \"bgcolor\": \"#E5ECF6\", \"caxis\": {\"gridcolor\": \"white\", \"linecolor\": \"white\", \"ticks\": \"\"}}, \"title\": {\"x\": 0.05}, \"xaxis\": {\"automargin\": true, \"gridcolor\": \"white\", \"linecolor\": \"white\", \"ticks\": \"\", \"title\": {\"standoff\": 15}, \"zerolinecolor\": \"white\", \"zerolinewidth\": 2}, \"yaxis\": {\"automargin\": true, \"gridcolor\": \"white\", \"linecolor\": \"white\", \"ticks\": \"\", \"title\": {\"standoff\": 15}, \"zerolinecolor\": \"white\", \"zerolinewidth\": 2}}}, \"xaxis\": {\"anchor\": \"y\", \"domain\": [0.0, 1.0], \"title\": {\"text\": \"REF_DATE\"}}, \"yaxis\": {\"anchor\": \"x\", \"domain\": [0.0, 1.0], \"title\": {\"text\": \"VALUE\"}}},\n",
              "                        {\"responsive\": true}\n",
              "                    ).then(function(){\n",
              "                            \n",
              "var gd = document.getElementById('ce575570-d110-4a8a-8ecf-511ff4aeb423');\n",
              "var x = new MutationObserver(function (mutations, observer) {{\n",
              "        var display = window.getComputedStyle(gd).display;\n",
              "        if (!display || display === 'none') {{\n",
              "            console.log([gd, 'removed!']);\n",
              "            Plotly.purge(gd);\n",
              "            observer.disconnect();\n",
              "        }}\n",
              "}});\n",
              "\n",
              "// Listen for the removal of the full notebook cells\n",
              "var notebookContainer = gd.closest('#notebook-container');\n",
              "if (notebookContainer) {{\n",
              "    x.observe(notebookContainer, {childList: true});\n",
              "}}\n",
              "\n",
              "// Listen for the clearing of the current output cell\n",
              "var outputEl = gd.closest('.output');\n",
              "if (outputEl) {{\n",
              "    x.observe(outputEl, {childList: true});\n",
              "}}\n",
              "\n",
              "                        })\n",
              "                };\n",
              "                \n",
              "            </script>\n",
              "        </div>\n",
              "</body>\n",
              "</html>"
            ]
          },
          "metadata": {
            "tags": []
          }
        }
      ]
    },
    {
      "cell_type": "markdown",
      "metadata": {
        "id": "U2pHcyi8jv04"
      },
      "source": [
        "**Graph 1 Key Takeaway:** Higher unemployment numbers for Born in Canada vs Landed Immigrants"
      ]
    },
    {
      "cell_type": "code",
      "metadata": {
        "colab": {
          "base_uri": "https://localhost:8080/",
          "height": 542
        },
        "id": "Lhxnb5Ts-2nP",
        "outputId": "c20b3874-d449-49c7-ca47-3273ce7b124b"
      },
      "source": [
        "# Employment Rate Graph\n",
        "fig2 = px.line(emr_df, x = \"REF_DATE\", y = \"VALUE\", color=\"Immigrant status\")\n",
        "fig2.show()"
      ],
      "execution_count": 8,
      "outputs": [
        {
          "output_type": "display_data",
          "data": {
            "text/html": [
              "<html>\n",
              "<head><meta charset=\"utf-8\" /></head>\n",
              "<body>\n",
              "    <div>\n",
              "            <script src=\"https://cdnjs.cloudflare.com/ajax/libs/mathjax/2.7.5/MathJax.js?config=TeX-AMS-MML_SVG\"></script><script type=\"text/javascript\">if (window.MathJax) {MathJax.Hub.Config({SVG: {font: \"STIX-Web\"}});}</script>\n",
              "                <script type=\"text/javascript\">window.PlotlyConfig = {MathJaxConfig: 'local'};</script>\n",
              "        <script src=\"https://cdn.plot.ly/plotly-latest.min.js\"></script>    \n",
              "            <div id=\"bfbee9e9-c338-4a93-88ed-5777c3d30f38\" class=\"plotly-graph-div\" style=\"height:525px; width:100%;\"></div>\n",
              "            <script type=\"text/javascript\">\n",
              "                \n",
              "                    window.PLOTLYENV=window.PLOTLYENV || {};\n",
              "                    \n",
              "                if (document.getElementById(\"bfbee9e9-c338-4a93-88ed-5777c3d30f38\")) {\n",
              "                    Plotly.newPlot(\n",
              "                        'bfbee9e9-c338-4a93-88ed-5777c3d30f38',\n",
              "                        [{\"hoverlabel\": {\"namelength\": 0}, \"hovertemplate\": \"Immigrant status=Total population<br>REF_DATE=%{x}<br>VALUE=%{y}\", \"legendgroup\": \"Immigrant status=Total population\", \"line\": {\"color\": \"#636efa\", \"dash\": \"solid\"}, \"mode\": \"lines\", \"name\": \"Immigrant status=Total population\", \"showlegend\": true, \"type\": \"scatter\", \"x\": [2006, 2007, 2008, 2009, 2010, 2011, 2012, 2013, 2014, 2015, 2016, 2017, 2018, 2019, 2020], \"xaxis\": \"x\", \"y\": [63.9, 64.0, 63.8, 61.6, 61.7, 61.6, 61.1, 62.6, 61.4, 62.2, 61.8, 62.0, 61.7, 62.6, 58.6], \"yaxis\": \"y\"}, {\"hoverlabel\": {\"namelength\": 0}, \"hovertemplate\": \"Immigrant status=Landed immigrants<br>REF_DATE=%{x}<br>VALUE=%{y}\", \"legendgroup\": \"Immigrant status=Landed immigrants\", \"line\": {\"color\": \"#EF553B\", \"dash\": \"solid\"}, \"mode\": \"lines\", \"name\": \"Immigrant status=Landed immigrants\", \"showlegend\": true, \"type\": \"scatter\", \"x\": [2006, 2007, 2008, 2009, 2010, 2011, 2012, 2013, 2014, 2015, 2016, 2017, 2018, 2019, 2020], \"xaxis\": \"x\", \"y\": [59.8, 59.8, 58.7, 56.6, 57.0, 56.8, 57.8, 59.0, 56.8, 58.9, 59.1, 59.4, 59.5, 60.6, 57.3], \"yaxis\": \"y\"}, {\"hoverlabel\": {\"namelength\": 0}, \"hovertemplate\": \"Immigrant status=Immigrants, landed 5 or less years earlier<br>REF_DATE=%{x}<br>VALUE=%{y}\", \"legendgroup\": \"Immigrant status=Immigrants, landed 5 or less years earlier\", \"line\": {\"color\": \"#00cc96\", \"dash\": \"solid\"}, \"mode\": \"lines\", \"name\": \"Immigrant status=Immigrants, landed 5 or less years earlier\", \"showlegend\": true, \"type\": \"scatter\", \"x\": [2006, 2007, 2008, 2009, 2010, 2011, 2012, 2013, 2014, 2015, 2016, 2017, 2018, 2019, 2020], \"xaxis\": \"x\", \"y\": [57.5, 56.9, 57.9, 56.2, 54.2, 52.3, 55.4, 56.9, 53.6, 54.3, 54.6, 57.9, 59.8, 59.6, 62.3], \"yaxis\": \"y\"}, {\"hoverlabel\": {\"namelength\": 0}, \"hovertemplate\": \"Immigrant status=Immigrants, landed more than 5 to 10 years earlier<br>REF_DATE=%{x}<br>VALUE=%{y}\", \"legendgroup\": \"Immigrant status=Immigrants, landed more than 5 to 10 years earlier\", \"line\": {\"color\": \"#ab63fa\", \"dash\": \"solid\"}, \"mode\": \"lines\", \"name\": \"Immigrant status=Immigrants, landed more than 5 to 10 years earlier\", \"showlegend\": true, \"type\": \"scatter\", \"x\": [2006, 2007, 2008, 2009, 2010, 2011, 2012, 2013, 2014, 2015, 2016, 2017, 2018, 2019, 2020], \"xaxis\": \"x\", \"y\": [65.5, 65.6, 61.6, 58.9, 62.3, 64.0, 63.9, 64.8, 60.3, 62.3, 62.8, 63.5, 64.5, 67.0, 59.9], \"yaxis\": \"y\"}, {\"hoverlabel\": {\"namelength\": 0}, \"hovertemplate\": \"Immigrant status=Immigrants, landed more than 10 years earlier<br>REF_DATE=%{x}<br>VALUE=%{y}\", \"legendgroup\": \"Immigrant status=Immigrants, landed more than 10 years earlier\", \"line\": {\"color\": \"#FFA15A\", \"dash\": \"solid\"}, \"mode\": \"lines\", \"name\": \"Immigrant status=Immigrants, landed more than 10 years earlier\", \"showlegend\": true, \"type\": \"scatter\", \"x\": [2006, 2007, 2008, 2009, 2010, 2011, 2012, 2013, 2014, 2015, 2016, 2017, 2018, 2019, 2020], \"xaxis\": \"x\", \"y\": [58.9, 59.0, 58.2, 56.2, 56.4, 56.1, 56.9, 58.1, 56.7, 58.9, 59.0, 58.9, 58.6, 59.7, 56.1], \"yaxis\": \"y\"}, {\"hoverlabel\": {\"namelength\": 0}, \"hovertemplate\": \"Immigrant status=Born in Canada<br>REF_DATE=%{x}<br>VALUE=%{y}\", \"legendgroup\": \"Immigrant status=Born in Canada\", \"line\": {\"color\": \"#19d3f3\", \"dash\": \"solid\"}, \"mode\": \"lines\", \"name\": \"Immigrant status=Born in Canada\", \"showlegend\": true, \"type\": \"scatter\", \"x\": [2006, 2007, 2008, 2009, 2010, 2011, 2012, 2013, 2014, 2015, 2016, 2017, 2018, 2019, 2020], \"xaxis\": \"x\", \"y\": [69.1, 69.4, 70.1, 67.3, 67.0, 67.1, 65.1, 66.4, 66.5, 66.3, 66.1, 65.8, 65.0, 65.7, 60.6], \"yaxis\": \"y\"}],\n",
              "                        {\"legend\": {\"tracegroupgap\": 0}, \"margin\": {\"t\": 60}, \"template\": {\"data\": {\"bar\": [{\"error_x\": {\"color\": \"#2a3f5f\"}, \"error_y\": {\"color\": \"#2a3f5f\"}, \"marker\": {\"line\": {\"color\": \"#E5ECF6\", \"width\": 0.5}}, \"type\": \"bar\"}], \"barpolar\": [{\"marker\": {\"line\": {\"color\": \"#E5ECF6\", \"width\": 0.5}}, \"type\": \"barpolar\"}], \"carpet\": [{\"aaxis\": {\"endlinecolor\": \"#2a3f5f\", \"gridcolor\": \"white\", \"linecolor\": \"white\", \"minorgridcolor\": \"white\", \"startlinecolor\": \"#2a3f5f\"}, \"baxis\": {\"endlinecolor\": \"#2a3f5f\", \"gridcolor\": \"white\", \"linecolor\": \"white\", \"minorgridcolor\": \"white\", \"startlinecolor\": \"#2a3f5f\"}, \"type\": \"carpet\"}], \"choropleth\": [{\"colorbar\": {\"outlinewidth\": 0, \"ticks\": \"\"}, \"type\": \"choropleth\"}], \"contour\": [{\"colorbar\": {\"outlinewidth\": 0, \"ticks\": \"\"}, \"colorscale\": [[0.0, \"#0d0887\"], [0.1111111111111111, \"#46039f\"], [0.2222222222222222, \"#7201a8\"], [0.3333333333333333, \"#9c179e\"], [0.4444444444444444, \"#bd3786\"], [0.5555555555555556, \"#d8576b\"], [0.6666666666666666, \"#ed7953\"], [0.7777777777777778, \"#fb9f3a\"], [0.8888888888888888, \"#fdca26\"], [1.0, \"#f0f921\"]], \"type\": \"contour\"}], \"contourcarpet\": [{\"colorbar\": {\"outlinewidth\": 0, \"ticks\": \"\"}, \"type\": \"contourcarpet\"}], \"heatmap\": [{\"colorbar\": {\"outlinewidth\": 0, \"ticks\": \"\"}, \"colorscale\": [[0.0, \"#0d0887\"], [0.1111111111111111, \"#46039f\"], [0.2222222222222222, \"#7201a8\"], [0.3333333333333333, \"#9c179e\"], [0.4444444444444444, \"#bd3786\"], [0.5555555555555556, \"#d8576b\"], [0.6666666666666666, \"#ed7953\"], [0.7777777777777778, \"#fb9f3a\"], [0.8888888888888888, \"#fdca26\"], [1.0, \"#f0f921\"]], \"type\": \"heatmap\"}], \"heatmapgl\": [{\"colorbar\": {\"outlinewidth\": 0, \"ticks\": \"\"}, \"colorscale\": [[0.0, \"#0d0887\"], [0.1111111111111111, \"#46039f\"], [0.2222222222222222, \"#7201a8\"], [0.3333333333333333, \"#9c179e\"], [0.4444444444444444, \"#bd3786\"], [0.5555555555555556, \"#d8576b\"], [0.6666666666666666, \"#ed7953\"], [0.7777777777777778, \"#fb9f3a\"], [0.8888888888888888, \"#fdca26\"], [1.0, \"#f0f921\"]], \"type\": \"heatmapgl\"}], \"histogram\": [{\"marker\": {\"colorbar\": {\"outlinewidth\": 0, \"ticks\": \"\"}}, \"type\": \"histogram\"}], \"histogram2d\": [{\"colorbar\": {\"outlinewidth\": 0, \"ticks\": \"\"}, \"colorscale\": [[0.0, \"#0d0887\"], [0.1111111111111111, \"#46039f\"], [0.2222222222222222, \"#7201a8\"], [0.3333333333333333, \"#9c179e\"], [0.4444444444444444, \"#bd3786\"], [0.5555555555555556, \"#d8576b\"], [0.6666666666666666, \"#ed7953\"], [0.7777777777777778, \"#fb9f3a\"], [0.8888888888888888, \"#fdca26\"], [1.0, \"#f0f921\"]], \"type\": \"histogram2d\"}], \"histogram2dcontour\": [{\"colorbar\": {\"outlinewidth\": 0, \"ticks\": \"\"}, \"colorscale\": [[0.0, \"#0d0887\"], [0.1111111111111111, \"#46039f\"], [0.2222222222222222, \"#7201a8\"], [0.3333333333333333, \"#9c179e\"], [0.4444444444444444, \"#bd3786\"], [0.5555555555555556, \"#d8576b\"], [0.6666666666666666, \"#ed7953\"], [0.7777777777777778, \"#fb9f3a\"], [0.8888888888888888, \"#fdca26\"], [1.0, \"#f0f921\"]], \"type\": \"histogram2dcontour\"}], \"mesh3d\": [{\"colorbar\": {\"outlinewidth\": 0, \"ticks\": \"\"}, \"type\": \"mesh3d\"}], \"parcoords\": [{\"line\": {\"colorbar\": {\"outlinewidth\": 0, \"ticks\": \"\"}}, \"type\": \"parcoords\"}], \"pie\": [{\"automargin\": true, \"type\": \"pie\"}], \"scatter\": [{\"marker\": {\"colorbar\": {\"outlinewidth\": 0, \"ticks\": \"\"}}, \"type\": \"scatter\"}], \"scatter3d\": [{\"line\": {\"colorbar\": {\"outlinewidth\": 0, \"ticks\": \"\"}}, \"marker\": {\"colorbar\": {\"outlinewidth\": 0, \"ticks\": \"\"}}, \"type\": \"scatter3d\"}], \"scattercarpet\": [{\"marker\": {\"colorbar\": {\"outlinewidth\": 0, \"ticks\": \"\"}}, \"type\": \"scattercarpet\"}], \"scattergeo\": [{\"marker\": {\"colorbar\": {\"outlinewidth\": 0, \"ticks\": \"\"}}, \"type\": \"scattergeo\"}], \"scattergl\": [{\"marker\": {\"colorbar\": {\"outlinewidth\": 0, \"ticks\": \"\"}}, \"type\": \"scattergl\"}], \"scattermapbox\": [{\"marker\": {\"colorbar\": {\"outlinewidth\": 0, \"ticks\": \"\"}}, \"type\": \"scattermapbox\"}], \"scatterpolar\": [{\"marker\": {\"colorbar\": {\"outlinewidth\": 0, \"ticks\": \"\"}}, \"type\": \"scatterpolar\"}], \"scatterpolargl\": [{\"marker\": {\"colorbar\": {\"outlinewidth\": 0, \"ticks\": \"\"}}, \"type\": \"scatterpolargl\"}], \"scatterternary\": [{\"marker\": {\"colorbar\": {\"outlinewidth\": 0, \"ticks\": \"\"}}, \"type\": \"scatterternary\"}], \"surface\": [{\"colorbar\": {\"outlinewidth\": 0, \"ticks\": \"\"}, \"colorscale\": [[0.0, \"#0d0887\"], [0.1111111111111111, \"#46039f\"], [0.2222222222222222, \"#7201a8\"], [0.3333333333333333, \"#9c179e\"], [0.4444444444444444, \"#bd3786\"], [0.5555555555555556, \"#d8576b\"], [0.6666666666666666, \"#ed7953\"], [0.7777777777777778, \"#fb9f3a\"], [0.8888888888888888, \"#fdca26\"], [1.0, \"#f0f921\"]], \"type\": \"surface\"}], \"table\": [{\"cells\": {\"fill\": {\"color\": \"#EBF0F8\"}, \"line\": {\"color\": \"white\"}}, \"header\": {\"fill\": {\"color\": \"#C8D4E3\"}, \"line\": {\"color\": \"white\"}}, \"type\": \"table\"}]}, \"layout\": {\"annotationdefaults\": {\"arrowcolor\": \"#2a3f5f\", \"arrowhead\": 0, \"arrowwidth\": 1}, \"coloraxis\": {\"colorbar\": {\"outlinewidth\": 0, \"ticks\": \"\"}}, \"colorscale\": {\"diverging\": [[0, \"#8e0152\"], [0.1, \"#c51b7d\"], [0.2, \"#de77ae\"], [0.3, \"#f1b6da\"], [0.4, \"#fde0ef\"], [0.5, \"#f7f7f7\"], [0.6, \"#e6f5d0\"], [0.7, \"#b8e186\"], [0.8, \"#7fbc41\"], [0.9, \"#4d9221\"], [1, \"#276419\"]], \"sequential\": [[0.0, \"#0d0887\"], [0.1111111111111111, \"#46039f\"], [0.2222222222222222, \"#7201a8\"], [0.3333333333333333, \"#9c179e\"], [0.4444444444444444, \"#bd3786\"], [0.5555555555555556, \"#d8576b\"], [0.6666666666666666, \"#ed7953\"], [0.7777777777777778, \"#fb9f3a\"], [0.8888888888888888, \"#fdca26\"], [1.0, \"#f0f921\"]], \"sequentialminus\": [[0.0, \"#0d0887\"], [0.1111111111111111, \"#46039f\"], [0.2222222222222222, \"#7201a8\"], [0.3333333333333333, \"#9c179e\"], [0.4444444444444444, \"#bd3786\"], [0.5555555555555556, \"#d8576b\"], [0.6666666666666666, \"#ed7953\"], [0.7777777777777778, \"#fb9f3a\"], [0.8888888888888888, \"#fdca26\"], [1.0, \"#f0f921\"]]}, \"colorway\": [\"#636efa\", \"#EF553B\", \"#00cc96\", \"#ab63fa\", \"#FFA15A\", \"#19d3f3\", \"#FF6692\", \"#B6E880\", \"#FF97FF\", \"#FECB52\"], \"font\": {\"color\": \"#2a3f5f\"}, \"geo\": {\"bgcolor\": \"white\", \"lakecolor\": \"white\", \"landcolor\": \"#E5ECF6\", \"showlakes\": true, \"showland\": true, \"subunitcolor\": \"white\"}, \"hoverlabel\": {\"align\": \"left\"}, \"hovermode\": \"closest\", \"mapbox\": {\"style\": \"light\"}, \"paper_bgcolor\": \"white\", \"plot_bgcolor\": \"#E5ECF6\", \"polar\": {\"angularaxis\": {\"gridcolor\": \"white\", \"linecolor\": \"white\", \"ticks\": \"\"}, \"bgcolor\": \"#E5ECF6\", \"radialaxis\": {\"gridcolor\": \"white\", \"linecolor\": \"white\", \"ticks\": \"\"}}, \"scene\": {\"xaxis\": {\"backgroundcolor\": \"#E5ECF6\", \"gridcolor\": \"white\", \"gridwidth\": 2, \"linecolor\": \"white\", \"showbackground\": true, \"ticks\": \"\", \"zerolinecolor\": \"white\"}, \"yaxis\": {\"backgroundcolor\": \"#E5ECF6\", \"gridcolor\": \"white\", \"gridwidth\": 2, \"linecolor\": \"white\", \"showbackground\": true, \"ticks\": \"\", \"zerolinecolor\": \"white\"}, \"zaxis\": {\"backgroundcolor\": \"#E5ECF6\", \"gridcolor\": \"white\", \"gridwidth\": 2, \"linecolor\": \"white\", \"showbackground\": true, \"ticks\": \"\", \"zerolinecolor\": \"white\"}}, \"shapedefaults\": {\"line\": {\"color\": \"#2a3f5f\"}}, \"ternary\": {\"aaxis\": {\"gridcolor\": \"white\", \"linecolor\": \"white\", \"ticks\": \"\"}, \"baxis\": {\"gridcolor\": \"white\", \"linecolor\": \"white\", \"ticks\": \"\"}, \"bgcolor\": \"#E5ECF6\", \"caxis\": {\"gridcolor\": \"white\", \"linecolor\": \"white\", \"ticks\": \"\"}}, \"title\": {\"x\": 0.05}, \"xaxis\": {\"automargin\": true, \"gridcolor\": \"white\", \"linecolor\": \"white\", \"ticks\": \"\", \"title\": {\"standoff\": 15}, \"zerolinecolor\": \"white\", \"zerolinewidth\": 2}, \"yaxis\": {\"automargin\": true, \"gridcolor\": \"white\", \"linecolor\": \"white\", \"ticks\": \"\", \"title\": {\"standoff\": 15}, \"zerolinecolor\": \"white\", \"zerolinewidth\": 2}}}, \"xaxis\": {\"anchor\": \"y\", \"domain\": [0.0, 1.0], \"title\": {\"text\": \"REF_DATE\"}}, \"yaxis\": {\"anchor\": \"x\", \"domain\": [0.0, 1.0], \"title\": {\"text\": \"VALUE\"}}},\n",
              "                        {\"responsive\": true}\n",
              "                    ).then(function(){\n",
              "                            \n",
              "var gd = document.getElementById('bfbee9e9-c338-4a93-88ed-5777c3d30f38');\n",
              "var x = new MutationObserver(function (mutations, observer) {{\n",
              "        var display = window.getComputedStyle(gd).display;\n",
              "        if (!display || display === 'none') {{\n",
              "            console.log([gd, 'removed!']);\n",
              "            Plotly.purge(gd);\n",
              "            observer.disconnect();\n",
              "        }}\n",
              "}});\n",
              "\n",
              "// Listen for the removal of the full notebook cells\n",
              "var notebookContainer = gd.closest('#notebook-container');\n",
              "if (notebookContainer) {{\n",
              "    x.observe(notebookContainer, {childList: true});\n",
              "}}\n",
              "\n",
              "// Listen for the clearing of the current output cell\n",
              "var outputEl = gd.closest('.output');\n",
              "if (outputEl) {{\n",
              "    x.observe(outputEl, {childList: true});\n",
              "}}\n",
              "\n",
              "                        })\n",
              "                };\n",
              "                \n",
              "            </script>\n",
              "        </div>\n",
              "</body>\n",
              "</html>"
            ]
          },
          "metadata": {
            "tags": []
          }
        }
      ]
    },
    {
      "cell_type": "markdown",
      "metadata": {
        "id": "YUxpuiX2j86a"
      },
      "source": [
        "**Graph 2 Key Takeaway:** Vastly higher employment rate of Canadians over Landed imigrants. "
      ]
    },
    {
      "cell_type": "code",
      "metadata": {
        "colab": {
          "base_uri": "https://localhost:8080/",
          "height": 542
        },
        "id": "0ERiPu6y_OVP",
        "outputId": "a75b7ad9-7097-48d5-85fa-23beb5b5ede0"
      },
      "source": [
        "# Unemployment Numbers Graph\n",
        "fig3 = px.line(unem_df, x = \"REF_DATE\", y = \"VALUE\", color=\"Immigrant status\")\n",
        "fig3.show()"
      ],
      "execution_count": 9,
      "outputs": [
        {
          "output_type": "display_data",
          "data": {
            "text/html": [
              "<html>\n",
              "<head><meta charset=\"utf-8\" /></head>\n",
              "<body>\n",
              "    <div>\n",
              "            <script src=\"https://cdnjs.cloudflare.com/ajax/libs/mathjax/2.7.5/MathJax.js?config=TeX-AMS-MML_SVG\"></script><script type=\"text/javascript\">if (window.MathJax) {MathJax.Hub.Config({SVG: {font: \"STIX-Web\"}});}</script>\n",
              "                <script type=\"text/javascript\">window.PlotlyConfig = {MathJaxConfig: 'local'};</script>\n",
              "        <script src=\"https://cdn.plot.ly/plotly-latest.min.js\"></script>    \n",
              "            <div id=\"9deda3bd-5c2d-4c2b-a217-2201a7e79e64\" class=\"plotly-graph-div\" style=\"height:525px; width:100%;\"></div>\n",
              "            <script type=\"text/javascript\">\n",
              "                \n",
              "                    window.PLOTLYENV=window.PLOTLYENV || {};\n",
              "                    \n",
              "                if (document.getElementById(\"9deda3bd-5c2d-4c2b-a217-2201a7e79e64\")) {\n",
              "                    Plotly.newPlot(\n",
              "                        '9deda3bd-5c2d-4c2b-a217-2201a7e79e64',\n",
              "                        [{\"hoverlabel\": {\"namelength\": 0}, \"hovertemplate\": \"Immigrant status=Total population<br>REF_DATE=%{x}<br>VALUE=%{y}\", \"legendgroup\": \"Immigrant status=Total population\", \"line\": {\"color\": \"#636efa\", \"dash\": \"solid\"}, \"mode\": \"lines\", \"name\": \"Immigrant status=Total population\", \"showlegend\": true, \"type\": \"scatter\", \"x\": [2006, 2007, 2008, 2009, 2010, 2011, 2012, 2013, 2014, 2015, 2016, 2017, 2018, 2019, 2020], \"xaxis\": \"x\", \"y\": [195.4, 207.3, 211.8, 298.9, 289.8, 266.9, 280.5, 271.8, 265.9, 236.7, 237.2, 223.9, 214.2, 217.9, 389.9], \"yaxis\": \"y\"}, {\"hoverlabel\": {\"namelength\": 0}, \"hovertemplate\": \"Immigrant status=Landed immigrants<br>REF_DATE=%{x}<br>VALUE=%{y}\", \"legendgroup\": \"Immigrant status=Landed immigrants\", \"line\": {\"color\": \"#EF553B\", \"dash\": \"solid\"}, \"mode\": \"lines\", \"name\": \"Immigrant status=Landed immigrants\", \"showlegend\": true, \"type\": \"scatter\", \"x\": [2006, 2007, 2008, 2009, 2010, 2011, 2012, 2013, 2014, 2015, 2016, 2017, 2018, 2019, 2020], \"xaxis\": \"x\", \"y\": [104.3, 116.5, 116.3, 163.6, 159.7, 137.8, 138.0, 134.0, 133.0, 112.7, 121.5, 110.7, 108.5, 108.8, 193.2], \"yaxis\": \"y\"}, {\"hoverlabel\": {\"namelength\": 0}, \"hovertemplate\": \"Immigrant status=Immigrants, landed 5 or less years earlier<br>REF_DATE=%{x}<br>VALUE=%{y}\", \"legendgroup\": \"Immigrant status=Immigrants, landed 5 or less years earlier\", \"line\": {\"color\": \"#00cc96\", \"dash\": \"solid\"}, \"mode\": \"lines\", \"name\": \"Immigrant status=Immigrants, landed 5 or less years earlier\", \"showlegend\": true, \"type\": \"scatter\", \"x\": [2006, 2007, 2008, 2009, 2010, 2011, 2012, 2013, 2014, 2015, 2016, 2017, 2018, 2019, 2020], \"xaxis\": \"x\", \"y\": [25.9, 28.1, 28.1, 30.2, 38.3, 26.0, 27.4, 24.5, 24.8, 17.9, 20.0, 18.9, 18.8, 19.7, 26.7], \"yaxis\": \"y\"}, {\"hoverlabel\": {\"namelength\": 0}, \"hovertemplate\": \"Immigrant status=Immigrants, landed more than 5 to 10 years earlier<br>REF_DATE=%{x}<br>VALUE=%{y}\", \"legendgroup\": \"Immigrant status=Immigrants, landed more than 5 to 10 years earlier\", \"line\": {\"color\": \"#ab63fa\", \"dash\": \"solid\"}, \"mode\": \"lines\", \"name\": \"Immigrant status=Immigrants, landed more than 5 to 10 years earlier\", \"showlegend\": true, \"type\": \"scatter\", \"x\": [2006, 2007, 2008, 2009, 2010, 2011, 2012, 2013, 2014, 2015, 2016, 2017, 2018, 2019, 2020], \"xaxis\": \"x\", \"y\": [24.4, 23.4, 23.2, 37.0, 29.4, 24.3, 27.7, 25.5, 29.3, 23.0, 20.9, 17.3, 17.9, 21.4, 35.8], \"yaxis\": \"y\"}, {\"hoverlabel\": {\"namelength\": 0}, \"hovertemplate\": \"Immigrant status=Immigrants, landed more than 10 years earlier<br>REF_DATE=%{x}<br>VALUE=%{y}\", \"legendgroup\": \"Immigrant status=Immigrants, landed more than 10 years earlier\", \"line\": {\"color\": \"#FFA15A\", \"dash\": \"solid\"}, \"mode\": \"lines\", \"name\": \"Immigrant status=Immigrants, landed more than 10 years earlier\", \"showlegend\": true, \"type\": \"scatter\", \"x\": [2006, 2007, 2008, 2009, 2010, 2011, 2012, 2013, 2014, 2015, 2016, 2017, 2018, 2019, 2020], \"xaxis\": \"x\", \"y\": [54.0, 64.9, 65.0, 96.5, 92.0, 87.5, 82.9, 84.1, 78.9, 71.8, 80.6, 74.5, 71.8, 67.8, 130.6], \"yaxis\": \"y\"}, {\"hoverlabel\": {\"namelength\": 0}, \"hovertemplate\": \"Immigrant status=Born in Canada<br>REF_DATE=%{x}<br>VALUE=%{y}\", \"legendgroup\": \"Immigrant status=Born in Canada\", \"line\": {\"color\": \"#19d3f3\", \"dash\": \"solid\"}, \"mode\": \"lines\", \"name\": \"Immigrant status=Born in Canada\", \"showlegend\": true, \"type\": \"scatter\", \"x\": [2006, 2007, 2008, 2009, 2010, 2011, 2012, 2013, 2014, 2015, 2016, 2017, 2018, 2019, 2020], \"xaxis\": \"x\", \"y\": [85.3, 83.9, 90.1, 130.1, 122.3, 123.2, 136.0, 130.0, 125.1, 117.2, 103.8, 101.8, 96.8, 99.6, 182.8], \"yaxis\": \"y\"}],\n",
              "                        {\"legend\": {\"tracegroupgap\": 0}, \"margin\": {\"t\": 60}, \"template\": {\"data\": {\"bar\": [{\"error_x\": {\"color\": \"#2a3f5f\"}, \"error_y\": {\"color\": \"#2a3f5f\"}, \"marker\": {\"line\": {\"color\": \"#E5ECF6\", \"width\": 0.5}}, \"type\": \"bar\"}], \"barpolar\": [{\"marker\": {\"line\": {\"color\": \"#E5ECF6\", \"width\": 0.5}}, \"type\": \"barpolar\"}], \"carpet\": [{\"aaxis\": {\"endlinecolor\": \"#2a3f5f\", \"gridcolor\": \"white\", \"linecolor\": \"white\", \"minorgridcolor\": \"white\", \"startlinecolor\": \"#2a3f5f\"}, \"baxis\": {\"endlinecolor\": \"#2a3f5f\", \"gridcolor\": \"white\", \"linecolor\": \"white\", \"minorgridcolor\": \"white\", \"startlinecolor\": \"#2a3f5f\"}, \"type\": \"carpet\"}], \"choropleth\": [{\"colorbar\": {\"outlinewidth\": 0, \"ticks\": \"\"}, \"type\": \"choropleth\"}], \"contour\": [{\"colorbar\": {\"outlinewidth\": 0, \"ticks\": \"\"}, \"colorscale\": [[0.0, \"#0d0887\"], [0.1111111111111111, \"#46039f\"], [0.2222222222222222, \"#7201a8\"], [0.3333333333333333, \"#9c179e\"], [0.4444444444444444, \"#bd3786\"], [0.5555555555555556, \"#d8576b\"], [0.6666666666666666, \"#ed7953\"], [0.7777777777777778, \"#fb9f3a\"], [0.8888888888888888, \"#fdca26\"], [1.0, \"#f0f921\"]], \"type\": \"contour\"}], \"contourcarpet\": [{\"colorbar\": {\"outlinewidth\": 0, \"ticks\": \"\"}, \"type\": \"contourcarpet\"}], \"heatmap\": [{\"colorbar\": {\"outlinewidth\": 0, \"ticks\": \"\"}, \"colorscale\": [[0.0, \"#0d0887\"], [0.1111111111111111, \"#46039f\"], [0.2222222222222222, \"#7201a8\"], [0.3333333333333333, \"#9c179e\"], [0.4444444444444444, \"#bd3786\"], [0.5555555555555556, \"#d8576b\"], [0.6666666666666666, \"#ed7953\"], [0.7777777777777778, \"#fb9f3a\"], [0.8888888888888888, \"#fdca26\"], [1.0, \"#f0f921\"]], \"type\": \"heatmap\"}], \"heatmapgl\": [{\"colorbar\": {\"outlinewidth\": 0, \"ticks\": \"\"}, \"colorscale\": [[0.0, \"#0d0887\"], [0.1111111111111111, \"#46039f\"], [0.2222222222222222, \"#7201a8\"], [0.3333333333333333, \"#9c179e\"], [0.4444444444444444, \"#bd3786\"], [0.5555555555555556, \"#d8576b\"], [0.6666666666666666, \"#ed7953\"], [0.7777777777777778, \"#fb9f3a\"], [0.8888888888888888, \"#fdca26\"], [1.0, \"#f0f921\"]], \"type\": \"heatmapgl\"}], \"histogram\": [{\"marker\": {\"colorbar\": {\"outlinewidth\": 0, \"ticks\": \"\"}}, \"type\": \"histogram\"}], \"histogram2d\": [{\"colorbar\": {\"outlinewidth\": 0, \"ticks\": \"\"}, \"colorscale\": [[0.0, \"#0d0887\"], [0.1111111111111111, \"#46039f\"], [0.2222222222222222, \"#7201a8\"], [0.3333333333333333, \"#9c179e\"], [0.4444444444444444, \"#bd3786\"], [0.5555555555555556, \"#d8576b\"], [0.6666666666666666, \"#ed7953\"], [0.7777777777777778, \"#fb9f3a\"], [0.8888888888888888, \"#fdca26\"], [1.0, \"#f0f921\"]], \"type\": \"histogram2d\"}], \"histogram2dcontour\": [{\"colorbar\": {\"outlinewidth\": 0, \"ticks\": \"\"}, \"colorscale\": [[0.0, \"#0d0887\"], [0.1111111111111111, \"#46039f\"], [0.2222222222222222, \"#7201a8\"], [0.3333333333333333, \"#9c179e\"], [0.4444444444444444, \"#bd3786\"], [0.5555555555555556, \"#d8576b\"], [0.6666666666666666, \"#ed7953\"], [0.7777777777777778, \"#fb9f3a\"], [0.8888888888888888, \"#fdca26\"], [1.0, \"#f0f921\"]], \"type\": \"histogram2dcontour\"}], \"mesh3d\": [{\"colorbar\": {\"outlinewidth\": 0, \"ticks\": \"\"}, \"type\": \"mesh3d\"}], \"parcoords\": [{\"line\": {\"colorbar\": {\"outlinewidth\": 0, \"ticks\": \"\"}}, \"type\": \"parcoords\"}], \"pie\": [{\"automargin\": true, \"type\": \"pie\"}], \"scatter\": [{\"marker\": {\"colorbar\": {\"outlinewidth\": 0, \"ticks\": \"\"}}, \"type\": \"scatter\"}], \"scatter3d\": [{\"line\": {\"colorbar\": {\"outlinewidth\": 0, \"ticks\": \"\"}}, \"marker\": {\"colorbar\": {\"outlinewidth\": 0, \"ticks\": \"\"}}, \"type\": \"scatter3d\"}], \"scattercarpet\": [{\"marker\": {\"colorbar\": {\"outlinewidth\": 0, \"ticks\": \"\"}}, \"type\": \"scattercarpet\"}], \"scattergeo\": [{\"marker\": {\"colorbar\": {\"outlinewidth\": 0, \"ticks\": \"\"}}, \"type\": \"scattergeo\"}], \"scattergl\": [{\"marker\": {\"colorbar\": {\"outlinewidth\": 0, \"ticks\": \"\"}}, \"type\": \"scattergl\"}], \"scattermapbox\": [{\"marker\": {\"colorbar\": {\"outlinewidth\": 0, \"ticks\": \"\"}}, \"type\": \"scattermapbox\"}], \"scatterpolar\": [{\"marker\": {\"colorbar\": {\"outlinewidth\": 0, \"ticks\": \"\"}}, \"type\": \"scatterpolar\"}], \"scatterpolargl\": [{\"marker\": {\"colorbar\": {\"outlinewidth\": 0, \"ticks\": \"\"}}, \"type\": \"scatterpolargl\"}], \"scatterternary\": [{\"marker\": {\"colorbar\": {\"outlinewidth\": 0, \"ticks\": \"\"}}, \"type\": \"scatterternary\"}], \"surface\": [{\"colorbar\": {\"outlinewidth\": 0, \"ticks\": \"\"}, \"colorscale\": [[0.0, \"#0d0887\"], [0.1111111111111111, \"#46039f\"], [0.2222222222222222, \"#7201a8\"], [0.3333333333333333, \"#9c179e\"], [0.4444444444444444, \"#bd3786\"], [0.5555555555555556, \"#d8576b\"], [0.6666666666666666, \"#ed7953\"], [0.7777777777777778, \"#fb9f3a\"], [0.8888888888888888, \"#fdca26\"], [1.0, \"#f0f921\"]], \"type\": \"surface\"}], \"table\": [{\"cells\": {\"fill\": {\"color\": \"#EBF0F8\"}, \"line\": {\"color\": \"white\"}}, \"header\": {\"fill\": {\"color\": \"#C8D4E3\"}, \"line\": {\"color\": \"white\"}}, \"type\": \"table\"}]}, \"layout\": {\"annotationdefaults\": {\"arrowcolor\": \"#2a3f5f\", \"arrowhead\": 0, \"arrowwidth\": 1}, \"coloraxis\": {\"colorbar\": {\"outlinewidth\": 0, \"ticks\": \"\"}}, \"colorscale\": {\"diverging\": [[0, \"#8e0152\"], [0.1, \"#c51b7d\"], [0.2, \"#de77ae\"], [0.3, \"#f1b6da\"], [0.4, \"#fde0ef\"], [0.5, \"#f7f7f7\"], [0.6, \"#e6f5d0\"], [0.7, \"#b8e186\"], [0.8, \"#7fbc41\"], [0.9, \"#4d9221\"], [1, \"#276419\"]], \"sequential\": [[0.0, \"#0d0887\"], [0.1111111111111111, \"#46039f\"], [0.2222222222222222, \"#7201a8\"], [0.3333333333333333, \"#9c179e\"], [0.4444444444444444, \"#bd3786\"], [0.5555555555555556, \"#d8576b\"], [0.6666666666666666, \"#ed7953\"], [0.7777777777777778, \"#fb9f3a\"], [0.8888888888888888, \"#fdca26\"], [1.0, \"#f0f921\"]], \"sequentialminus\": [[0.0, \"#0d0887\"], [0.1111111111111111, \"#46039f\"], [0.2222222222222222, \"#7201a8\"], [0.3333333333333333, \"#9c179e\"], [0.4444444444444444, \"#bd3786\"], [0.5555555555555556, \"#d8576b\"], [0.6666666666666666, \"#ed7953\"], [0.7777777777777778, \"#fb9f3a\"], [0.8888888888888888, \"#fdca26\"], [1.0, \"#f0f921\"]]}, \"colorway\": [\"#636efa\", \"#EF553B\", \"#00cc96\", \"#ab63fa\", \"#FFA15A\", \"#19d3f3\", \"#FF6692\", \"#B6E880\", \"#FF97FF\", \"#FECB52\"], \"font\": {\"color\": \"#2a3f5f\"}, \"geo\": {\"bgcolor\": \"white\", \"lakecolor\": \"white\", \"landcolor\": \"#E5ECF6\", \"showlakes\": true, \"showland\": true, \"subunitcolor\": \"white\"}, \"hoverlabel\": {\"align\": \"left\"}, \"hovermode\": \"closest\", \"mapbox\": {\"style\": \"light\"}, \"paper_bgcolor\": \"white\", \"plot_bgcolor\": \"#E5ECF6\", \"polar\": {\"angularaxis\": {\"gridcolor\": \"white\", \"linecolor\": \"white\", \"ticks\": \"\"}, \"bgcolor\": \"#E5ECF6\", \"radialaxis\": {\"gridcolor\": \"white\", \"linecolor\": \"white\", \"ticks\": \"\"}}, \"scene\": {\"xaxis\": {\"backgroundcolor\": \"#E5ECF6\", \"gridcolor\": \"white\", \"gridwidth\": 2, \"linecolor\": \"white\", \"showbackground\": true, \"ticks\": \"\", \"zerolinecolor\": \"white\"}, \"yaxis\": {\"backgroundcolor\": \"#E5ECF6\", \"gridcolor\": \"white\", \"gridwidth\": 2, \"linecolor\": \"white\", \"showbackground\": true, \"ticks\": \"\", \"zerolinecolor\": \"white\"}, \"zaxis\": {\"backgroundcolor\": \"#E5ECF6\", \"gridcolor\": \"white\", \"gridwidth\": 2, \"linecolor\": \"white\", \"showbackground\": true, \"ticks\": \"\", \"zerolinecolor\": \"white\"}}, \"shapedefaults\": {\"line\": {\"color\": \"#2a3f5f\"}}, \"ternary\": {\"aaxis\": {\"gridcolor\": \"white\", \"linecolor\": \"white\", \"ticks\": \"\"}, \"baxis\": {\"gridcolor\": \"white\", \"linecolor\": \"white\", \"ticks\": \"\"}, \"bgcolor\": \"#E5ECF6\", \"caxis\": {\"gridcolor\": \"white\", \"linecolor\": \"white\", \"ticks\": \"\"}}, \"title\": {\"x\": 0.05}, \"xaxis\": {\"automargin\": true, \"gridcolor\": \"white\", \"linecolor\": \"white\", \"ticks\": \"\", \"title\": {\"standoff\": 15}, \"zerolinecolor\": \"white\", \"zerolinewidth\": 2}, \"yaxis\": {\"automargin\": true, \"gridcolor\": \"white\", \"linecolor\": \"white\", \"ticks\": \"\", \"title\": {\"standoff\": 15}, \"zerolinecolor\": \"white\", \"zerolinewidth\": 2}}}, \"xaxis\": {\"anchor\": \"y\", \"domain\": [0.0, 1.0], \"title\": {\"text\": \"REF_DATE\"}}, \"yaxis\": {\"anchor\": \"x\", \"domain\": [0.0, 1.0], \"title\": {\"text\": \"VALUE\"}}},\n",
              "                        {\"responsive\": true}\n",
              "                    ).then(function(){\n",
              "                            \n",
              "var gd = document.getElementById('9deda3bd-5c2d-4c2b-a217-2201a7e79e64');\n",
              "var x = new MutationObserver(function (mutations, observer) {{\n",
              "        var display = window.getComputedStyle(gd).display;\n",
              "        if (!display || display === 'none') {{\n",
              "            console.log([gd, 'removed!']);\n",
              "            Plotly.purge(gd);\n",
              "            observer.disconnect();\n",
              "        }}\n",
              "}});\n",
              "\n",
              "// Listen for the removal of the full notebook cells\n",
              "var notebookContainer = gd.closest('#notebook-container');\n",
              "if (notebookContainer) {{\n",
              "    x.observe(notebookContainer, {childList: true});\n",
              "}}\n",
              "\n",
              "// Listen for the clearing of the current output cell\n",
              "var outputEl = gd.closest('.output');\n",
              "if (outputEl) {{\n",
              "    x.observe(outputEl, {childList: true});\n",
              "}}\n",
              "\n",
              "                        })\n",
              "                };\n",
              "                \n",
              "            </script>\n",
              "        </div>\n",
              "</body>\n",
              "</html>"
            ]
          },
          "metadata": {
            "tags": []
          }
        }
      ]
    },
    {
      "cell_type": "markdown",
      "metadata": {
        "id": "b527fUyckHf_"
      },
      "source": [
        "**Graph 3 Key Takeaway:** Similar unemploment numbers between Canadians and immigrants"
      ]
    },
    {
      "cell_type": "code",
      "metadata": {
        "colab": {
          "base_uri": "https://localhost:8080/",
          "height": 542
        },
        "id": "9SsKeIGX_zRZ",
        "outputId": "22ba2992-1f69-46c2-9b8a-a048015e5113"
      },
      "source": [
        "# Employment Numbers Graph\n",
        "fig4 = px.line(em_df, x = \"REF_DATE\", y = \"VALUE\", color=\"Immigrant status\")\n",
        "fig4.show()"
      ],
      "execution_count": 10,
      "outputs": [
        {
          "output_type": "display_data",
          "data": {
            "text/html": [
              "<html>\n",
              "<head><meta charset=\"utf-8\" /></head>\n",
              "<body>\n",
              "    <div>\n",
              "            <script src=\"https://cdnjs.cloudflare.com/ajax/libs/mathjax/2.7.5/MathJax.js?config=TeX-AMS-MML_SVG\"></script><script type=\"text/javascript\">if (window.MathJax) {MathJax.Hub.Config({SVG: {font: \"STIX-Web\"}});}</script>\n",
              "                <script type=\"text/javascript\">window.PlotlyConfig = {MathJaxConfig: 'local'};</script>\n",
              "        <script src=\"https://cdn.plot.ly/plotly-latest.min.js\"></script>    \n",
              "            <div id=\"f5559fd3-6858-4a90-9103-5623422988db\" class=\"plotly-graph-div\" style=\"height:525px; width:100%;\"></div>\n",
              "            <script type=\"text/javascript\">\n",
              "                \n",
              "                    window.PLOTLYENV=window.PLOTLYENV || {};\n",
              "                    \n",
              "                if (document.getElementById(\"f5559fd3-6858-4a90-9103-5623422988db\")) {\n",
              "                    Plotly.newPlot(\n",
              "                        'f5559fd3-6858-4a90-9103-5623422988db',\n",
              "                        [{\"hoverlabel\": {\"namelength\": 0}, \"hovertemplate\": \"Immigrant status=Total population<br>REF_DATE=%{x}<br>VALUE=%{y}\", \"legendgroup\": \"Immigrant status=Total population\", \"line\": {\"color\": \"#636efa\", \"dash\": \"solid\"}, \"mode\": \"lines\", \"name\": \"Immigrant status=Total population\", \"showlegend\": true, \"type\": \"scatter\", \"x\": [2006, 2007, 2008, 2009, 2010, 2011, 2012, 2013, 2014, 2015, 2016, 2017, 2018, 2019, 2020], \"xaxis\": \"x\", \"y\": [2760.6, 2816.7, 2858.6, 2811.6, 2873.3, 2916.7, 2942.9, 3061.1, 3043.4, 3114.1, 3140.1, 3206.7, 3262.4, 3385.7, 3221.8], \"yaxis\": \"y\"}, {\"hoverlabel\": {\"namelength\": 0}, \"hovertemplate\": \"Immigrant status=Landed immigrants<br>REF_DATE=%{x}<br>VALUE=%{y}\", \"legendgroup\": \"Immigrant status=Landed immigrants\", \"line\": {\"color\": \"#EF553B\", \"dash\": \"solid\"}, \"mode\": \"lines\", \"name\": \"Immigrant status=Landed immigrants\", \"showlegend\": true, \"type\": \"scatter\", \"x\": [2006, 2007, 2008, 2009, 2010, 2011, 2012, 2013, 2014, 2015, 2016, 2017, 2018, 2019, 2020], \"xaxis\": \"x\", \"y\": [1345.2, 1376.2, 1360.1, 1311.4, 1336.3, 1389.0, 1418.6, 1450.5, 1447.8, 1527.5, 1623.4, 1627.1, 1671.4, 1782.2, 1685.2], \"yaxis\": \"y\"}, {\"hoverlabel\": {\"namelength\": 0}, \"hovertemplate\": \"Immigrant status=Immigrants, landed 5 or less years earlier<br>REF_DATE=%{x}<br>VALUE=%{y}\", \"legendgroup\": \"Immigrant status=Immigrants, landed 5 or less years earlier\", \"line\": {\"color\": \"#00cc96\", \"dash\": \"solid\"}, \"mode\": \"lines\", \"name\": \"Immigrant status=Immigrants, landed 5 or less years earlier\", \"showlegend\": true, \"type\": \"scatter\", \"x\": [2006, 2007, 2008, 2009, 2010, 2011, 2012, 2013, 2014, 2015, 2016, 2017, 2018, 2019, 2020], \"xaxis\": \"x\", \"y\": [183.1, 185.3, 187.0, 160.7, 160.6, 150.9, 155.7, 147.0, 143.0, 148.0, 150.8, 182.1, 183.6, 197.6, 184.9], \"yaxis\": \"y\"}, {\"hoverlabel\": {\"namelength\": 0}, \"hovertemplate\": \"Immigrant status=Immigrants, landed more than 5 to 10 years earlier<br>REF_DATE=%{x}<br>VALUE=%{y}\", \"legendgroup\": \"Immigrant status=Immigrants, landed more than 5 to 10 years earlier\", \"line\": {\"color\": \"#ab63fa\", \"dash\": \"solid\"}, \"mode\": \"lines\", \"name\": \"Immigrant status=Immigrants, landed more than 5 to 10 years earlier\", \"showlegend\": true, \"type\": \"scatter\", \"x\": [2006, 2007, 2008, 2009, 2010, 2011, 2012, 2013, 2014, 2015, 2016, 2017, 2018, 2019, 2020], \"xaxis\": \"x\", \"y\": [235.5, 240.5, 233.5, 207.7, 220.1, 239.2, 245.9, 227.9, 213.7, 233.8, 229.5, 218.4, 238.7, 264.4, 237.9], \"yaxis\": \"y\"}, {\"hoverlabel\": {\"namelength\": 0}, \"hovertemplate\": \"Immigrant status=Immigrants, landed more than 10 years earlier<br>REF_DATE=%{x}<br>VALUE=%{y}\", \"legendgroup\": \"Immigrant status=Immigrants, landed more than 10 years earlier\", \"line\": {\"color\": \"#FFA15A\", \"dash\": \"solid\"}, \"mode\": \"lines\", \"name\": \"Immigrant status=Immigrants, landed more than 10 years earlier\", \"showlegend\": true, \"type\": \"scatter\", \"x\": [2006, 2007, 2008, 2009, 2010, 2011, 2012, 2013, 2014, 2015, 2016, 2017, 2018, 2019, 2020], \"xaxis\": \"x\", \"y\": [926.5, 950.4, 939.6, 943.0, 955.5, 998.9, 1017.1, 1075.6, 1091.1, 1145.7, 1243.1, 1226.6, 1249.1, 1320.2, 1262.4], \"yaxis\": \"y\"}, {\"hoverlabel\": {\"namelength\": 0}, \"hovertemplate\": \"Immigrant status=Born in Canada<br>REF_DATE=%{x}<br>VALUE=%{y}\", \"legendgroup\": \"Immigrant status=Born in Canada\", \"line\": {\"color\": \"#19d3f3\", \"dash\": \"solid\"}, \"mode\": \"lines\", \"name\": \"Immigrant status=Born in Canada\", \"showlegend\": true, \"type\": \"scatter\", \"x\": [2006, 2007, 2008, 2009, 2010, 2011, 2012, 2013, 2014, 2015, 2016, 2017, 2018, 2019, 2020], \"xaxis\": \"x\", \"y\": [1354.5, 1386.4, 1445.8, 1447.7, 1479.4, 1469.9, 1468.7, 1533.5, 1528.9, 1517.9, 1436.1, 1466.0, 1482.5, 1508.4, 1455.9], \"yaxis\": \"y\"}],\n",
              "                        {\"legend\": {\"tracegroupgap\": 0}, \"margin\": {\"t\": 60}, \"template\": {\"data\": {\"bar\": [{\"error_x\": {\"color\": \"#2a3f5f\"}, \"error_y\": {\"color\": \"#2a3f5f\"}, \"marker\": {\"line\": {\"color\": \"#E5ECF6\", \"width\": 0.5}}, \"type\": \"bar\"}], \"barpolar\": [{\"marker\": {\"line\": {\"color\": \"#E5ECF6\", \"width\": 0.5}}, \"type\": \"barpolar\"}], \"carpet\": [{\"aaxis\": {\"endlinecolor\": \"#2a3f5f\", \"gridcolor\": \"white\", \"linecolor\": \"white\", \"minorgridcolor\": \"white\", \"startlinecolor\": \"#2a3f5f\"}, \"baxis\": {\"endlinecolor\": \"#2a3f5f\", \"gridcolor\": \"white\", \"linecolor\": \"white\", \"minorgridcolor\": \"white\", \"startlinecolor\": \"#2a3f5f\"}, \"type\": \"carpet\"}], \"choropleth\": [{\"colorbar\": {\"outlinewidth\": 0, \"ticks\": \"\"}, \"type\": \"choropleth\"}], \"contour\": [{\"colorbar\": {\"outlinewidth\": 0, \"ticks\": \"\"}, \"colorscale\": [[0.0, \"#0d0887\"], [0.1111111111111111, \"#46039f\"], [0.2222222222222222, \"#7201a8\"], [0.3333333333333333, \"#9c179e\"], [0.4444444444444444, \"#bd3786\"], [0.5555555555555556, \"#d8576b\"], [0.6666666666666666, \"#ed7953\"], [0.7777777777777778, \"#fb9f3a\"], [0.8888888888888888, \"#fdca26\"], [1.0, \"#f0f921\"]], \"type\": \"contour\"}], \"contourcarpet\": [{\"colorbar\": {\"outlinewidth\": 0, \"ticks\": \"\"}, \"type\": \"contourcarpet\"}], \"heatmap\": [{\"colorbar\": {\"outlinewidth\": 0, \"ticks\": \"\"}, \"colorscale\": [[0.0, \"#0d0887\"], [0.1111111111111111, \"#46039f\"], [0.2222222222222222, \"#7201a8\"], [0.3333333333333333, \"#9c179e\"], [0.4444444444444444, \"#bd3786\"], [0.5555555555555556, \"#d8576b\"], [0.6666666666666666, \"#ed7953\"], [0.7777777777777778, \"#fb9f3a\"], [0.8888888888888888, \"#fdca26\"], [1.0, \"#f0f921\"]], \"type\": \"heatmap\"}], \"heatmapgl\": [{\"colorbar\": {\"outlinewidth\": 0, \"ticks\": \"\"}, \"colorscale\": [[0.0, \"#0d0887\"], [0.1111111111111111, \"#46039f\"], [0.2222222222222222, \"#7201a8\"], [0.3333333333333333, \"#9c179e\"], [0.4444444444444444, \"#bd3786\"], [0.5555555555555556, \"#d8576b\"], [0.6666666666666666, \"#ed7953\"], [0.7777777777777778, \"#fb9f3a\"], [0.8888888888888888, \"#fdca26\"], [1.0, \"#f0f921\"]], \"type\": \"heatmapgl\"}], \"histogram\": [{\"marker\": {\"colorbar\": {\"outlinewidth\": 0, \"ticks\": \"\"}}, \"type\": \"histogram\"}], \"histogram2d\": [{\"colorbar\": {\"outlinewidth\": 0, \"ticks\": \"\"}, \"colorscale\": [[0.0, \"#0d0887\"], [0.1111111111111111, \"#46039f\"], [0.2222222222222222, \"#7201a8\"], [0.3333333333333333, \"#9c179e\"], [0.4444444444444444, \"#bd3786\"], [0.5555555555555556, \"#d8576b\"], [0.6666666666666666, \"#ed7953\"], [0.7777777777777778, \"#fb9f3a\"], [0.8888888888888888, \"#fdca26\"], [1.0, \"#f0f921\"]], \"type\": \"histogram2d\"}], \"histogram2dcontour\": [{\"colorbar\": {\"outlinewidth\": 0, \"ticks\": \"\"}, \"colorscale\": [[0.0, \"#0d0887\"], [0.1111111111111111, \"#46039f\"], [0.2222222222222222, \"#7201a8\"], [0.3333333333333333, \"#9c179e\"], [0.4444444444444444, \"#bd3786\"], [0.5555555555555556, \"#d8576b\"], [0.6666666666666666, \"#ed7953\"], [0.7777777777777778, \"#fb9f3a\"], [0.8888888888888888, \"#fdca26\"], [1.0, \"#f0f921\"]], \"type\": \"histogram2dcontour\"}], \"mesh3d\": [{\"colorbar\": {\"outlinewidth\": 0, \"ticks\": \"\"}, \"type\": \"mesh3d\"}], \"parcoords\": [{\"line\": {\"colorbar\": {\"outlinewidth\": 0, \"ticks\": \"\"}}, \"type\": \"parcoords\"}], \"pie\": [{\"automargin\": true, \"type\": \"pie\"}], \"scatter\": [{\"marker\": {\"colorbar\": {\"outlinewidth\": 0, \"ticks\": \"\"}}, \"type\": \"scatter\"}], \"scatter3d\": [{\"line\": {\"colorbar\": {\"outlinewidth\": 0, \"ticks\": \"\"}}, \"marker\": {\"colorbar\": {\"outlinewidth\": 0, \"ticks\": \"\"}}, \"type\": \"scatter3d\"}], \"scattercarpet\": [{\"marker\": {\"colorbar\": {\"outlinewidth\": 0, \"ticks\": \"\"}}, \"type\": \"scattercarpet\"}], \"scattergeo\": [{\"marker\": {\"colorbar\": {\"outlinewidth\": 0, \"ticks\": \"\"}}, \"type\": \"scattergeo\"}], \"scattergl\": [{\"marker\": {\"colorbar\": {\"outlinewidth\": 0, \"ticks\": \"\"}}, \"type\": \"scattergl\"}], \"scattermapbox\": [{\"marker\": {\"colorbar\": {\"outlinewidth\": 0, \"ticks\": \"\"}}, \"type\": \"scattermapbox\"}], \"scatterpolar\": [{\"marker\": {\"colorbar\": {\"outlinewidth\": 0, \"ticks\": \"\"}}, \"type\": \"scatterpolar\"}], \"scatterpolargl\": [{\"marker\": {\"colorbar\": {\"outlinewidth\": 0, \"ticks\": \"\"}}, \"type\": \"scatterpolargl\"}], \"scatterternary\": [{\"marker\": {\"colorbar\": {\"outlinewidth\": 0, \"ticks\": \"\"}}, \"type\": \"scatterternary\"}], \"surface\": [{\"colorbar\": {\"outlinewidth\": 0, \"ticks\": \"\"}, \"colorscale\": [[0.0, \"#0d0887\"], [0.1111111111111111, \"#46039f\"], [0.2222222222222222, \"#7201a8\"], [0.3333333333333333, \"#9c179e\"], [0.4444444444444444, \"#bd3786\"], [0.5555555555555556, \"#d8576b\"], [0.6666666666666666, \"#ed7953\"], [0.7777777777777778, \"#fb9f3a\"], [0.8888888888888888, \"#fdca26\"], [1.0, \"#f0f921\"]], \"type\": \"surface\"}], \"table\": [{\"cells\": {\"fill\": {\"color\": \"#EBF0F8\"}, \"line\": {\"color\": \"white\"}}, \"header\": {\"fill\": {\"color\": \"#C8D4E3\"}, \"line\": {\"color\": \"white\"}}, \"type\": \"table\"}]}, \"layout\": {\"annotationdefaults\": {\"arrowcolor\": \"#2a3f5f\", \"arrowhead\": 0, \"arrowwidth\": 1}, \"coloraxis\": {\"colorbar\": {\"outlinewidth\": 0, \"ticks\": \"\"}}, \"colorscale\": {\"diverging\": [[0, \"#8e0152\"], [0.1, \"#c51b7d\"], [0.2, \"#de77ae\"], [0.3, \"#f1b6da\"], [0.4, \"#fde0ef\"], [0.5, \"#f7f7f7\"], [0.6, \"#e6f5d0\"], [0.7, \"#b8e186\"], [0.8, \"#7fbc41\"], [0.9, \"#4d9221\"], [1, \"#276419\"]], \"sequential\": [[0.0, \"#0d0887\"], [0.1111111111111111, \"#46039f\"], [0.2222222222222222, \"#7201a8\"], [0.3333333333333333, \"#9c179e\"], [0.4444444444444444, \"#bd3786\"], [0.5555555555555556, \"#d8576b\"], [0.6666666666666666, \"#ed7953\"], [0.7777777777777778, \"#fb9f3a\"], [0.8888888888888888, \"#fdca26\"], [1.0, \"#f0f921\"]], \"sequentialminus\": [[0.0, \"#0d0887\"], [0.1111111111111111, \"#46039f\"], [0.2222222222222222, \"#7201a8\"], [0.3333333333333333, \"#9c179e\"], [0.4444444444444444, \"#bd3786\"], [0.5555555555555556, \"#d8576b\"], [0.6666666666666666, \"#ed7953\"], [0.7777777777777778, \"#fb9f3a\"], [0.8888888888888888, \"#fdca26\"], [1.0, \"#f0f921\"]]}, \"colorway\": [\"#636efa\", \"#EF553B\", \"#00cc96\", \"#ab63fa\", \"#FFA15A\", \"#19d3f3\", \"#FF6692\", \"#B6E880\", \"#FF97FF\", \"#FECB52\"], \"font\": {\"color\": \"#2a3f5f\"}, \"geo\": {\"bgcolor\": \"white\", \"lakecolor\": \"white\", \"landcolor\": \"#E5ECF6\", \"showlakes\": true, \"showland\": true, \"subunitcolor\": \"white\"}, \"hoverlabel\": {\"align\": \"left\"}, \"hovermode\": \"closest\", \"mapbox\": {\"style\": \"light\"}, \"paper_bgcolor\": \"white\", \"plot_bgcolor\": \"#E5ECF6\", \"polar\": {\"angularaxis\": {\"gridcolor\": \"white\", \"linecolor\": \"white\", \"ticks\": \"\"}, \"bgcolor\": \"#E5ECF6\", \"radialaxis\": {\"gridcolor\": \"white\", \"linecolor\": \"white\", \"ticks\": \"\"}}, \"scene\": {\"xaxis\": {\"backgroundcolor\": \"#E5ECF6\", \"gridcolor\": \"white\", \"gridwidth\": 2, \"linecolor\": \"white\", \"showbackground\": true, \"ticks\": \"\", \"zerolinecolor\": \"white\"}, \"yaxis\": {\"backgroundcolor\": \"#E5ECF6\", \"gridcolor\": \"white\", \"gridwidth\": 2, \"linecolor\": \"white\", \"showbackground\": true, \"ticks\": \"\", \"zerolinecolor\": \"white\"}, \"zaxis\": {\"backgroundcolor\": \"#E5ECF6\", \"gridcolor\": \"white\", \"gridwidth\": 2, \"linecolor\": \"white\", \"showbackground\": true, \"ticks\": \"\", \"zerolinecolor\": \"white\"}}, \"shapedefaults\": {\"line\": {\"color\": \"#2a3f5f\"}}, \"ternary\": {\"aaxis\": {\"gridcolor\": \"white\", \"linecolor\": \"white\", \"ticks\": \"\"}, \"baxis\": {\"gridcolor\": \"white\", \"linecolor\": \"white\", \"ticks\": \"\"}, \"bgcolor\": \"#E5ECF6\", \"caxis\": {\"gridcolor\": \"white\", \"linecolor\": \"white\", \"ticks\": \"\"}}, \"title\": {\"x\": 0.05}, \"xaxis\": {\"automargin\": true, \"gridcolor\": \"white\", \"linecolor\": \"white\", \"ticks\": \"\", \"title\": {\"standoff\": 15}, \"zerolinecolor\": \"white\", \"zerolinewidth\": 2}, \"yaxis\": {\"automargin\": true, \"gridcolor\": \"white\", \"linecolor\": \"white\", \"ticks\": \"\", \"title\": {\"standoff\": 15}, \"zerolinecolor\": \"white\", \"zerolinewidth\": 2}}}, \"xaxis\": {\"anchor\": \"y\", \"domain\": [0.0, 1.0], \"title\": {\"text\": \"REF_DATE\"}}, \"yaxis\": {\"anchor\": \"x\", \"domain\": [0.0, 1.0], \"title\": {\"text\": \"VALUE\"}}},\n",
              "                        {\"responsive\": true}\n",
              "                    ).then(function(){\n",
              "                            \n",
              "var gd = document.getElementById('f5559fd3-6858-4a90-9103-5623422988db');\n",
              "var x = new MutationObserver(function (mutations, observer) {{\n",
              "        var display = window.getComputedStyle(gd).display;\n",
              "        if (!display || display === 'none') {{\n",
              "            console.log([gd, 'removed!']);\n",
              "            Plotly.purge(gd);\n",
              "            observer.disconnect();\n",
              "        }}\n",
              "}});\n",
              "\n",
              "// Listen for the removal of the full notebook cells\n",
              "var notebookContainer = gd.closest('#notebook-container');\n",
              "if (notebookContainer) {{\n",
              "    x.observe(notebookContainer, {childList: true});\n",
              "}}\n",
              "\n",
              "// Listen for the clearing of the current output cell\n",
              "var outputEl = gd.closest('.output');\n",
              "if (outputEl) {{\n",
              "    x.observe(outputEl, {childList: true});\n",
              "}}\n",
              "\n",
              "                        })\n",
              "                };\n",
              "                \n",
              "            </script>\n",
              "        </div>\n",
              "</body>\n",
              "</html>"
            ]
          },
          "metadata": {
            "tags": []
          }
        }
      ]
    },
    {
      "cell_type": "markdown",
      "metadata": {
        "id": "pz7xBmxTldLF"
      },
      "source": [
        "**Graph 4 Key Takeaway:** Immigrants show higher employment numbers than Canadians"
      ]
    },
    {
      "cell_type": "markdown",
      "metadata": {
        "id": "RplpGr8M-xOy"
      },
      "source": [
        "**Observation Notes**\n",
        "\n",
        "Taking inspiration from Faith Goldy, I wanted to paint immigrants in a negative light somehow. Ideally, I could go about it by having immigrants overtake Canadians in some way, or show that they were having a better time during COVID-19. Honestly, the latter has been debunked by research showing minorities being disproportionately affected by COVID and has been used in a different \"minorities spread COVID\" narrative instead. Since the topic is immigration/immigrants, I could not go that route but instead opted for the tried and true \"immigrants are taking our jobs\" rhetoric. \n",
        "\n",
        "Having a clearer racist topic in mind, I set my task into selecting the proper subset of data to work with. Ultimately I decided to go with employment numbers because I felt presenting data in a ratio form was too fair. I wanted to show disproportion in numbers rather than single digit difference in rates. And since immigrants had more employment numbers than Canadians, I could make a scandal out of it. In realtiy of course, the employment rate of Canadians is much higher than immigrants, but no one needs to know that. So employment numbers it was. "
      ]
    },
    {
      "cell_type": "code",
      "metadata": {
        "id": "pv6f0aU5PGU_"
      },
      "source": [
        "# More cleaning, getting rid of the 'Total Population' row.\n",
        "em_df = em_df[em_df['Immigrant status'] != 'Total population']"
      ],
      "execution_count": 11,
      "outputs": []
    },
    {
      "cell_type": "markdown",
      "metadata": {
        "id": "Ij7-UkbEAauu"
      },
      "source": [
        "**Making the Employment Graph**\n",
        "\n",
        "The code below details my creation of the employment numbers graph. I narrowed down the data points to only show employment numbers between Landed immigrantes and Born in Canada. The code also contains my attempts at making the values for landed immigrants a negative value to see how it would appear as a up and down bar chart. That didn't go over well and was subsequently removed from even my draft. \n",
        "\n",
        "My first iteration was a simply line graph comparing the 2. It did its job in showing that there was a gap in employment numbers between landed immigrants and those born in Canada, but it was a bit too simple for my liking. Of course, my goal was to incite more or less the older, racist population so the graph couldn't be too complex either. So I decided to go for a bar chart instead. There would be more things on the screen, and everyone knows how to read a bar chart."
      ]
    },
    {
      "cell_type": "code",
      "metadata": {
        "colab": {
          "base_uri": "https://localhost:8080/",
          "height": 542
        },
        "id": "kI79HSckP-WI",
        "outputId": "8e75ddb7-a450-486b-bee8-6a2eec19f801"
      },
      "source": [
        "# Data Massaging\n",
        "fig5_df = em_df[(em_df['Immigrant status'] == 'Born in Canada') | (em_df['Immigrant status'] == 'Landed immigrants')]\n",
        "fig5_df_im = em_df[(em_df['Immigrant status'] == 'Landed immigrants')]\n",
        "fig5_df_can = em_df[(em_df['Immigrant status'] == 'Born in Canada')]\n",
        "fig5_df_imnegative = fig5_df_im.copy()\n",
        "fig5_df_imnegative[\"VALUE\"] = -abs(fig5_df_imnegative[\"VALUE\"])\n",
        "\n",
        "# Creating a simple line chart\n",
        "fig5 = go.Figure()\n",
        "fig5.add_trace(go.Scatter(x=fig5_df_im[\"REF_DATE\"], y=fig5_df_im[\"VALUE\"], mode='lines',\n",
        "        #name=labels[i],\n",
        "        line=dict(color=\"red\"),\n",
        "        connectgaps=True,\n",
        "    ))\n",
        "fig5.add_trace(go.Scatter(x=fig5_df_can[\"REF_DATE\"], y=fig5_df_can[\"VALUE\"], mode='lines',\n",
        "        #name=labels[i],\n",
        "        line=dict(color=\"blue\"),\n",
        "        connectgaps=True,\n",
        "    ))\n",
        "\n",
        "fig5.show()"
      ],
      "execution_count": 12,
      "outputs": [
        {
          "output_type": "display_data",
          "data": {
            "text/html": [
              "<html>\n",
              "<head><meta charset=\"utf-8\" /></head>\n",
              "<body>\n",
              "    <div>\n",
              "            <script src=\"https://cdnjs.cloudflare.com/ajax/libs/mathjax/2.7.5/MathJax.js?config=TeX-AMS-MML_SVG\"></script><script type=\"text/javascript\">if (window.MathJax) {MathJax.Hub.Config({SVG: {font: \"STIX-Web\"}});}</script>\n",
              "                <script type=\"text/javascript\">window.PlotlyConfig = {MathJaxConfig: 'local'};</script>\n",
              "        <script src=\"https://cdn.plot.ly/plotly-latest.min.js\"></script>    \n",
              "            <div id=\"2f060736-57a2-41f1-a826-ab3c47bd4506\" class=\"plotly-graph-div\" style=\"height:525px; width:100%;\"></div>\n",
              "            <script type=\"text/javascript\">\n",
              "                \n",
              "                    window.PLOTLYENV=window.PLOTLYENV || {};\n",
              "                    \n",
              "                if (document.getElementById(\"2f060736-57a2-41f1-a826-ab3c47bd4506\")) {\n",
              "                    Plotly.newPlot(\n",
              "                        '2f060736-57a2-41f1-a826-ab3c47bd4506',\n",
              "                        [{\"connectgaps\": true, \"line\": {\"color\": \"red\"}, \"mode\": \"lines\", \"type\": \"scatter\", \"x\": [2006, 2007, 2008, 2009, 2010, 2011, 2012, 2013, 2014, 2015, 2016, 2017, 2018, 2019, 2020], \"y\": [1345.2, 1376.2, 1360.1, 1311.4, 1336.3, 1389.0, 1418.6, 1450.5, 1447.8, 1527.5, 1623.4, 1627.1, 1671.4, 1782.2, 1685.2]}, {\"connectgaps\": true, \"line\": {\"color\": \"blue\"}, \"mode\": \"lines\", \"type\": \"scatter\", \"x\": [2006, 2007, 2008, 2009, 2010, 2011, 2012, 2013, 2014, 2015, 2016, 2017, 2018, 2019, 2020], \"y\": [1354.5, 1386.4, 1445.8, 1447.7, 1479.4, 1469.9, 1468.7, 1533.5, 1528.9, 1517.9, 1436.1, 1466.0, 1482.5, 1508.4, 1455.9]}],\n",
              "                        {\"template\": {\"data\": {\"bar\": [{\"error_x\": {\"color\": \"#2a3f5f\"}, \"error_y\": {\"color\": \"#2a3f5f\"}, \"marker\": {\"line\": {\"color\": \"#E5ECF6\", \"width\": 0.5}}, \"type\": \"bar\"}], \"barpolar\": [{\"marker\": {\"line\": {\"color\": \"#E5ECF6\", \"width\": 0.5}}, \"type\": \"barpolar\"}], \"carpet\": [{\"aaxis\": {\"endlinecolor\": \"#2a3f5f\", \"gridcolor\": \"white\", \"linecolor\": \"white\", \"minorgridcolor\": \"white\", \"startlinecolor\": \"#2a3f5f\"}, \"baxis\": {\"endlinecolor\": \"#2a3f5f\", \"gridcolor\": \"white\", \"linecolor\": \"white\", \"minorgridcolor\": \"white\", \"startlinecolor\": \"#2a3f5f\"}, \"type\": \"carpet\"}], \"choropleth\": [{\"colorbar\": {\"outlinewidth\": 0, \"ticks\": \"\"}, \"type\": \"choropleth\"}], \"contour\": [{\"colorbar\": {\"outlinewidth\": 0, \"ticks\": \"\"}, \"colorscale\": [[0.0, \"#0d0887\"], [0.1111111111111111, \"#46039f\"], [0.2222222222222222, \"#7201a8\"], [0.3333333333333333, \"#9c179e\"], [0.4444444444444444, \"#bd3786\"], [0.5555555555555556, \"#d8576b\"], [0.6666666666666666, \"#ed7953\"], [0.7777777777777778, \"#fb9f3a\"], [0.8888888888888888, \"#fdca26\"], [1.0, \"#f0f921\"]], \"type\": \"contour\"}], \"contourcarpet\": [{\"colorbar\": {\"outlinewidth\": 0, \"ticks\": \"\"}, \"type\": \"contourcarpet\"}], \"heatmap\": [{\"colorbar\": {\"outlinewidth\": 0, \"ticks\": \"\"}, \"colorscale\": [[0.0, \"#0d0887\"], [0.1111111111111111, \"#46039f\"], [0.2222222222222222, \"#7201a8\"], [0.3333333333333333, \"#9c179e\"], [0.4444444444444444, \"#bd3786\"], [0.5555555555555556, \"#d8576b\"], [0.6666666666666666, \"#ed7953\"], [0.7777777777777778, \"#fb9f3a\"], [0.8888888888888888, \"#fdca26\"], [1.0, \"#f0f921\"]], \"type\": \"heatmap\"}], \"heatmapgl\": [{\"colorbar\": {\"outlinewidth\": 0, \"ticks\": \"\"}, \"colorscale\": [[0.0, \"#0d0887\"], [0.1111111111111111, \"#46039f\"], [0.2222222222222222, \"#7201a8\"], [0.3333333333333333, \"#9c179e\"], [0.4444444444444444, \"#bd3786\"], [0.5555555555555556, \"#d8576b\"], [0.6666666666666666, \"#ed7953\"], [0.7777777777777778, \"#fb9f3a\"], [0.8888888888888888, \"#fdca26\"], [1.0, \"#f0f921\"]], \"type\": \"heatmapgl\"}], \"histogram\": [{\"marker\": {\"colorbar\": {\"outlinewidth\": 0, \"ticks\": \"\"}}, \"type\": \"histogram\"}], \"histogram2d\": [{\"colorbar\": {\"outlinewidth\": 0, \"ticks\": \"\"}, \"colorscale\": [[0.0, \"#0d0887\"], [0.1111111111111111, \"#46039f\"], [0.2222222222222222, \"#7201a8\"], [0.3333333333333333, \"#9c179e\"], [0.4444444444444444, \"#bd3786\"], [0.5555555555555556, \"#d8576b\"], [0.6666666666666666, \"#ed7953\"], [0.7777777777777778, \"#fb9f3a\"], [0.8888888888888888, \"#fdca26\"], [1.0, \"#f0f921\"]], \"type\": \"histogram2d\"}], \"histogram2dcontour\": [{\"colorbar\": {\"outlinewidth\": 0, \"ticks\": \"\"}, \"colorscale\": [[0.0, \"#0d0887\"], [0.1111111111111111, \"#46039f\"], [0.2222222222222222, \"#7201a8\"], [0.3333333333333333, \"#9c179e\"], [0.4444444444444444, \"#bd3786\"], [0.5555555555555556, \"#d8576b\"], [0.6666666666666666, \"#ed7953\"], [0.7777777777777778, \"#fb9f3a\"], [0.8888888888888888, \"#fdca26\"], [1.0, \"#f0f921\"]], \"type\": \"histogram2dcontour\"}], \"mesh3d\": [{\"colorbar\": {\"outlinewidth\": 0, \"ticks\": \"\"}, \"type\": \"mesh3d\"}], \"parcoords\": [{\"line\": {\"colorbar\": {\"outlinewidth\": 0, \"ticks\": \"\"}}, \"type\": \"parcoords\"}], \"pie\": [{\"automargin\": true, \"type\": \"pie\"}], \"scatter\": [{\"marker\": {\"colorbar\": {\"outlinewidth\": 0, \"ticks\": \"\"}}, \"type\": \"scatter\"}], \"scatter3d\": [{\"line\": {\"colorbar\": {\"outlinewidth\": 0, \"ticks\": \"\"}}, \"marker\": {\"colorbar\": {\"outlinewidth\": 0, \"ticks\": \"\"}}, \"type\": \"scatter3d\"}], \"scattercarpet\": [{\"marker\": {\"colorbar\": {\"outlinewidth\": 0, \"ticks\": \"\"}}, \"type\": \"scattercarpet\"}], \"scattergeo\": [{\"marker\": {\"colorbar\": {\"outlinewidth\": 0, \"ticks\": \"\"}}, \"type\": \"scattergeo\"}], \"scattergl\": [{\"marker\": {\"colorbar\": {\"outlinewidth\": 0, \"ticks\": \"\"}}, \"type\": \"scattergl\"}], \"scattermapbox\": [{\"marker\": {\"colorbar\": {\"outlinewidth\": 0, \"ticks\": \"\"}}, \"type\": \"scattermapbox\"}], \"scatterpolar\": [{\"marker\": {\"colorbar\": {\"outlinewidth\": 0, \"ticks\": \"\"}}, \"type\": \"scatterpolar\"}], \"scatterpolargl\": [{\"marker\": {\"colorbar\": {\"outlinewidth\": 0, \"ticks\": \"\"}}, \"type\": \"scatterpolargl\"}], \"scatterternary\": [{\"marker\": {\"colorbar\": {\"outlinewidth\": 0, \"ticks\": \"\"}}, \"type\": \"scatterternary\"}], \"surface\": [{\"colorbar\": {\"outlinewidth\": 0, \"ticks\": \"\"}, \"colorscale\": [[0.0, \"#0d0887\"], [0.1111111111111111, \"#46039f\"], [0.2222222222222222, \"#7201a8\"], [0.3333333333333333, \"#9c179e\"], [0.4444444444444444, \"#bd3786\"], [0.5555555555555556, \"#d8576b\"], [0.6666666666666666, \"#ed7953\"], [0.7777777777777778, \"#fb9f3a\"], [0.8888888888888888, \"#fdca26\"], [1.0, \"#f0f921\"]], \"type\": \"surface\"}], \"table\": [{\"cells\": {\"fill\": {\"color\": \"#EBF0F8\"}, \"line\": {\"color\": \"white\"}}, \"header\": {\"fill\": {\"color\": \"#C8D4E3\"}, \"line\": {\"color\": \"white\"}}, \"type\": \"table\"}]}, \"layout\": {\"annotationdefaults\": {\"arrowcolor\": \"#2a3f5f\", \"arrowhead\": 0, \"arrowwidth\": 1}, \"coloraxis\": {\"colorbar\": {\"outlinewidth\": 0, \"ticks\": \"\"}}, \"colorscale\": {\"diverging\": [[0, \"#8e0152\"], [0.1, \"#c51b7d\"], [0.2, \"#de77ae\"], [0.3, \"#f1b6da\"], [0.4, \"#fde0ef\"], [0.5, \"#f7f7f7\"], [0.6, \"#e6f5d0\"], [0.7, \"#b8e186\"], [0.8, \"#7fbc41\"], [0.9, \"#4d9221\"], [1, \"#276419\"]], \"sequential\": [[0.0, \"#0d0887\"], [0.1111111111111111, \"#46039f\"], [0.2222222222222222, \"#7201a8\"], [0.3333333333333333, \"#9c179e\"], [0.4444444444444444, \"#bd3786\"], [0.5555555555555556, \"#d8576b\"], [0.6666666666666666, \"#ed7953\"], [0.7777777777777778, \"#fb9f3a\"], [0.8888888888888888, \"#fdca26\"], [1.0, \"#f0f921\"]], \"sequentialminus\": [[0.0, \"#0d0887\"], [0.1111111111111111, \"#46039f\"], [0.2222222222222222, \"#7201a8\"], [0.3333333333333333, \"#9c179e\"], [0.4444444444444444, \"#bd3786\"], [0.5555555555555556, \"#d8576b\"], [0.6666666666666666, \"#ed7953\"], [0.7777777777777778, \"#fb9f3a\"], [0.8888888888888888, \"#fdca26\"], [1.0, \"#f0f921\"]]}, \"colorway\": [\"#636efa\", \"#EF553B\", \"#00cc96\", \"#ab63fa\", \"#FFA15A\", \"#19d3f3\", \"#FF6692\", \"#B6E880\", \"#FF97FF\", \"#FECB52\"], \"font\": {\"color\": \"#2a3f5f\"}, \"geo\": {\"bgcolor\": \"white\", \"lakecolor\": \"white\", \"landcolor\": \"#E5ECF6\", \"showlakes\": true, \"showland\": true, \"subunitcolor\": \"white\"}, \"hoverlabel\": {\"align\": \"left\"}, \"hovermode\": \"closest\", \"mapbox\": {\"style\": \"light\"}, \"paper_bgcolor\": \"white\", \"plot_bgcolor\": \"#E5ECF6\", \"polar\": {\"angularaxis\": {\"gridcolor\": \"white\", \"linecolor\": \"white\", \"ticks\": \"\"}, \"bgcolor\": \"#E5ECF6\", \"radialaxis\": {\"gridcolor\": \"white\", \"linecolor\": \"white\", \"ticks\": \"\"}}, \"scene\": {\"xaxis\": {\"backgroundcolor\": \"#E5ECF6\", \"gridcolor\": \"white\", \"gridwidth\": 2, \"linecolor\": \"white\", \"showbackground\": true, \"ticks\": \"\", \"zerolinecolor\": \"white\"}, \"yaxis\": {\"backgroundcolor\": \"#E5ECF6\", \"gridcolor\": \"white\", \"gridwidth\": 2, \"linecolor\": \"white\", \"showbackground\": true, \"ticks\": \"\", \"zerolinecolor\": \"white\"}, \"zaxis\": {\"backgroundcolor\": \"#E5ECF6\", \"gridcolor\": \"white\", \"gridwidth\": 2, \"linecolor\": \"white\", \"showbackground\": true, \"ticks\": \"\", \"zerolinecolor\": \"white\"}}, \"shapedefaults\": {\"line\": {\"color\": \"#2a3f5f\"}}, \"ternary\": {\"aaxis\": {\"gridcolor\": \"white\", \"linecolor\": \"white\", \"ticks\": \"\"}, \"baxis\": {\"gridcolor\": \"white\", \"linecolor\": \"white\", \"ticks\": \"\"}, \"bgcolor\": \"#E5ECF6\", \"caxis\": {\"gridcolor\": \"white\", \"linecolor\": \"white\", \"ticks\": \"\"}}, \"title\": {\"x\": 0.05}, \"xaxis\": {\"automargin\": true, \"gridcolor\": \"white\", \"linecolor\": \"white\", \"ticks\": \"\", \"title\": {\"standoff\": 15}, \"zerolinecolor\": \"white\", \"zerolinewidth\": 2}, \"yaxis\": {\"automargin\": true, \"gridcolor\": \"white\", \"linecolor\": \"white\", \"ticks\": \"\", \"title\": {\"standoff\": 15}, \"zerolinecolor\": \"white\", \"zerolinewidth\": 2}}}},\n",
              "                        {\"responsive\": true}\n",
              "                    ).then(function(){\n",
              "                            \n",
              "var gd = document.getElementById('2f060736-57a2-41f1-a826-ab3c47bd4506');\n",
              "var x = new MutationObserver(function (mutations, observer) {{\n",
              "        var display = window.getComputedStyle(gd).display;\n",
              "        if (!display || display === 'none') {{\n",
              "            console.log([gd, 'removed!']);\n",
              "            Plotly.purge(gd);\n",
              "            observer.disconnect();\n",
              "        }}\n",
              "}});\n",
              "\n",
              "// Listen for the removal of the full notebook cells\n",
              "var notebookContainer = gd.closest('#notebook-container');\n",
              "if (notebookContainer) {{\n",
              "    x.observe(notebookContainer, {childList: true});\n",
              "}}\n",
              "\n",
              "// Listen for the clearing of the current output cell\n",
              "var outputEl = gd.closest('.output');\n",
              "if (outputEl) {{\n",
              "    x.observe(outputEl, {childList: true});\n",
              "}}\n",
              "\n",
              "                        })\n",
              "                };\n",
              "                \n",
              "            </script>\n",
              "        </div>\n",
              "</body>\n",
              "</html>"
            ]
          },
          "metadata": {
            "tags": []
          }
        }
      ]
    },
    {
      "cell_type": "markdown",
      "metadata": {
        "id": "o0GtqzUim5qY"
      },
      "source": [
        "**Draft 1:** Not bad, can see that immigrants gradually overtook Canadians. But it's lacking the impact I wanted. "
      ]
    },
    {
      "cell_type": "markdown",
      "metadata": {
        "id": "e18XJo67nExP"
      },
      "source": [
        "**Final Draft Part 1** \n",
        "\n",
        "Will explain why part 1 later. For better impact, as mentioned, I transitioned my data into a bar chart instead. I then manually altered the colour scale so that the nice blue for Canadians was dimming in colour as time passed while immigrants became a deeper and deeper red. To further hammer the point home, I overlayed my first line graph onto the bars so that everyone could see the trajectory of employment numbers at a glance. I got rid of all the grid lines because I didn't want my audience examining the numbers closely.\n",
        "\n",
        "For the y axis, I first debated whether I wanted to keep the number ticks at all. I experimented with removing them and while it becomes even more misleading, I felt it became too fake. Rather than an unintenional misleading graph, it was a too \"in-your-face\" attempt in misleading the public and lacked the sense of subtlety. I wanted a more official looking graph so I kept then numbers in.\n",
        "\n",
        "That didn't stop me from tweaking the y axis however. I settled on the range 1300 to 1800 because I could shrink the early years to be a much shorter bar, and then have the rise in immigrants be a much larger deal than it actually was. Coulded with the increasing red and diminishing blue, I wanted my audience to fixate on the end. Take a look below at what the result was. "
      ]
    },
    {
      "cell_type": "code",
      "metadata": {
        "colab": {
          "base_uri": "https://localhost:8080/",
          "height": 542
        },
        "id": "oViyqOET41F8",
        "outputId": "d6f1bc43-00fe-48b7-fdfd-962dae48dd16"
      },
      "source": [
        "# Creating my own colour scale\n",
        "immigrant_invasion = ['#f8cece','#f8cece','#f8cece','#f8cece','#f8cece','#ee7f81','#ee7f81','#ee7f81','#ee7f81','#e22529','#e22529','#e22529','#e22529','#e22529','#e22529']\n",
        "canadian_downfall = ['#231ac5','#231ac5','#231ac5','#231ac5','#231ac5','#231ac5','#231ac5','#7872ec','#7872ec','#7872ec','#7872ec','#7872ec','#7872ec','#bebbf6','#bebbf6']\n",
        "\n",
        "# Creating the graph\n",
        "fig6 = go.Figure()\n",
        "\n",
        "# First the bar charts, separately in their own trace so I could adjust their colours\n",
        "fig6.add_trace(go.Bar(x = fig5_df_can[\"REF_DATE\"],\n",
        "                      y = fig5_df_can[\"VALUE\"],\n",
        "                      marker_color = canadian_downfall,\n",
        "                      name='Immigrants',\n",
        "                      showlegend=False\n",
        "                      #width = 0.3\n",
        "                      ))\n",
        "fig6.add_trace(go.Bar(x = fig5_df_im[\"REF_DATE\"],\n",
        "                      y = fig5_df_im[\"VALUE\"],\n",
        "                      marker_color = immigrant_invasion,\n",
        "                      name='Canadians',\n",
        "                      showlegend=False\n",
        "                      #width = 0.3\n",
        "                      ))\n",
        "\n",
        "# Then adding in the line graph as a trend line\n",
        "fig6.add_trace(go.Scatter(x=fig5_df_im[\"REF_DATE\"], y=fig5_df_im[\"VALUE\"], mode='lines',\n",
        "        name='Immigrants',\n",
        "        line=dict(color=\"red\"),\n",
        "        connectgaps=True,\n",
        "        showlegend=False\n",
        "    ))\n",
        "fig6.add_trace(go.Scatter(x=fig5_df_can[\"REF_DATE\"], y=fig5_df_can[\"VALUE\"], mode='lines',\n",
        "        name='Canadians',\n",
        "        line=dict(color=\"blue\"),\n",
        "        connectgaps=True,\n",
        "        showlegend=False\n",
        "    ))\n",
        "\n",
        "# Squeezing the y axes so that differences are more pronounced\n",
        "fig6.update_yaxes(range=[1300, 1800],\n",
        "                  showgrid = False,\n",
        "                  #visible=False, \n",
        "                  showticklabels=True,\n",
        "                  title_text = \"Employment\")\n",
        "\n",
        "fig6.update_xaxes(dtick=\"Y1\",\n",
        "                  tickformat=\"Y\",)\n",
        "\n",
        "fig6.update_layout(#paper_bgcolor='#6b6266',\n",
        "                   plot_bgcolor='white'#,\n",
        "                   #title = \"Significantly More Immigrants are Employed than Canadians during COVID<br><br>\" +\n",
        "                   #\"From 2015 onwards, new immigrants have overtaken hardworking Canadians in employment numbers.<br>When COVID-19 hit, legitimate Canadians were struggling to find jobs. Immigrants enjoyed a 16% higher chance of finding a job than hardworking Canadians\"\n",
        "                   ) \n",
        "fig6.update_traces(aaxis_showgrid=False, selector=dict(type='carpet'))\n",
        "\n",
        "# Add Image, StatsCan logo for legitimacy\n",
        "fig6.add_layout_image(\n",
        "    dict(\n",
        "        source=\"https://raw.githubusercontent.com/JeremyJChu/misleading_graphic/main/inputs/images/STATS-Canada.jpeg\",\n",
        "        xref=\"paper\", yref=\"paper\",\n",
        "        x=1, y=1.05,\n",
        "        sizex=0.2, sizey=0.2,\n",
        "        xanchor=\"right\", yanchor=\"bottom\"\n",
        "    )\n",
        ")\n",
        "\n",
        "fig6.show()"
      ],
      "execution_count": 13,
      "outputs": [
        {
          "output_type": "display_data",
          "data": {
            "text/html": [
              "<html>\n",
              "<head><meta charset=\"utf-8\" /></head>\n",
              "<body>\n",
              "    <div>\n",
              "            <script src=\"https://cdnjs.cloudflare.com/ajax/libs/mathjax/2.7.5/MathJax.js?config=TeX-AMS-MML_SVG\"></script><script type=\"text/javascript\">if (window.MathJax) {MathJax.Hub.Config({SVG: {font: \"STIX-Web\"}});}</script>\n",
              "                <script type=\"text/javascript\">window.PlotlyConfig = {MathJaxConfig: 'local'};</script>\n",
              "        <script src=\"https://cdn.plot.ly/plotly-latest.min.js\"></script>    \n",
              "            <div id=\"9d5c0917-56fc-4e22-b59b-1ff7a0d45ce9\" class=\"plotly-graph-div\" style=\"height:525px; width:100%;\"></div>\n",
              "            <script type=\"text/javascript\">\n",
              "                \n",
              "                    window.PLOTLYENV=window.PLOTLYENV || {};\n",
              "                    \n",
              "                if (document.getElementById(\"9d5c0917-56fc-4e22-b59b-1ff7a0d45ce9\")) {\n",
              "                    Plotly.newPlot(\n",
              "                        '9d5c0917-56fc-4e22-b59b-1ff7a0d45ce9',\n",
              "                        [{\"marker\": {\"color\": [\"#231ac5\", \"#231ac5\", \"#231ac5\", \"#231ac5\", \"#231ac5\", \"#231ac5\", \"#231ac5\", \"#7872ec\", \"#7872ec\", \"#7872ec\", \"#7872ec\", \"#7872ec\", \"#7872ec\", \"#bebbf6\", \"#bebbf6\"]}, \"name\": \"Immigrants\", \"showlegend\": false, \"type\": \"bar\", \"x\": [2006, 2007, 2008, 2009, 2010, 2011, 2012, 2013, 2014, 2015, 2016, 2017, 2018, 2019, 2020], \"y\": [1354.5, 1386.4, 1445.8, 1447.7, 1479.4, 1469.9, 1468.7, 1533.5, 1528.9, 1517.9, 1436.1, 1466.0, 1482.5, 1508.4, 1455.9]}, {\"marker\": {\"color\": [\"#f8cece\", \"#f8cece\", \"#f8cece\", \"#f8cece\", \"#f8cece\", \"#ee7f81\", \"#ee7f81\", \"#ee7f81\", \"#ee7f81\", \"#e22529\", \"#e22529\", \"#e22529\", \"#e22529\", \"#e22529\", \"#e22529\"]}, \"name\": \"Canadians\", \"showlegend\": false, \"type\": \"bar\", \"x\": [2006, 2007, 2008, 2009, 2010, 2011, 2012, 2013, 2014, 2015, 2016, 2017, 2018, 2019, 2020], \"y\": [1345.2, 1376.2, 1360.1, 1311.4, 1336.3, 1389.0, 1418.6, 1450.5, 1447.8, 1527.5, 1623.4, 1627.1, 1671.4, 1782.2, 1685.2]}, {\"connectgaps\": true, \"line\": {\"color\": \"red\"}, \"mode\": \"lines\", \"name\": \"Immigrants\", \"showlegend\": false, \"type\": \"scatter\", \"x\": [2006, 2007, 2008, 2009, 2010, 2011, 2012, 2013, 2014, 2015, 2016, 2017, 2018, 2019, 2020], \"y\": [1345.2, 1376.2, 1360.1, 1311.4, 1336.3, 1389.0, 1418.6, 1450.5, 1447.8, 1527.5, 1623.4, 1627.1, 1671.4, 1782.2, 1685.2]}, {\"connectgaps\": true, \"line\": {\"color\": \"blue\"}, \"mode\": \"lines\", \"name\": \"Canadians\", \"showlegend\": false, \"type\": \"scatter\", \"x\": [2006, 2007, 2008, 2009, 2010, 2011, 2012, 2013, 2014, 2015, 2016, 2017, 2018, 2019, 2020], \"y\": [1354.5, 1386.4, 1445.8, 1447.7, 1479.4, 1469.9, 1468.7, 1533.5, 1528.9, 1517.9, 1436.1, 1466.0, 1482.5, 1508.4, 1455.9]}],\n",
              "                        {\"images\": [{\"sizex\": 0.2, \"sizey\": 0.2, \"source\": \"https://raw.githubusercontent.com/JeremyJChu/misleading_graphic/main/inputs/images/STATS-Canada.jpeg\", \"x\": 1, \"xanchor\": \"right\", \"xref\": \"paper\", \"y\": 1.05, \"yanchor\": \"bottom\", \"yref\": \"paper\"}], \"plot_bgcolor\": \"white\", \"template\": {\"data\": {\"bar\": [{\"error_x\": {\"color\": \"#2a3f5f\"}, \"error_y\": {\"color\": \"#2a3f5f\"}, \"marker\": {\"line\": {\"color\": \"#E5ECF6\", \"width\": 0.5}}, \"type\": \"bar\"}], \"barpolar\": [{\"marker\": {\"line\": {\"color\": \"#E5ECF6\", \"width\": 0.5}}, \"type\": \"barpolar\"}], \"carpet\": [{\"aaxis\": {\"endlinecolor\": \"#2a3f5f\", \"gridcolor\": \"white\", \"linecolor\": \"white\", \"minorgridcolor\": \"white\", \"startlinecolor\": \"#2a3f5f\"}, \"baxis\": {\"endlinecolor\": \"#2a3f5f\", \"gridcolor\": \"white\", \"linecolor\": \"white\", \"minorgridcolor\": \"white\", \"startlinecolor\": \"#2a3f5f\"}, \"type\": \"carpet\"}], \"choropleth\": [{\"colorbar\": {\"outlinewidth\": 0, \"ticks\": \"\"}, \"type\": \"choropleth\"}], \"contour\": [{\"colorbar\": {\"outlinewidth\": 0, \"ticks\": \"\"}, \"colorscale\": [[0.0, \"#0d0887\"], [0.1111111111111111, \"#46039f\"], [0.2222222222222222, \"#7201a8\"], [0.3333333333333333, \"#9c179e\"], [0.4444444444444444, \"#bd3786\"], [0.5555555555555556, \"#d8576b\"], [0.6666666666666666, \"#ed7953\"], [0.7777777777777778, \"#fb9f3a\"], [0.8888888888888888, \"#fdca26\"], [1.0, \"#f0f921\"]], \"type\": \"contour\"}], \"contourcarpet\": [{\"colorbar\": {\"outlinewidth\": 0, \"ticks\": \"\"}, \"type\": \"contourcarpet\"}], \"heatmap\": [{\"colorbar\": {\"outlinewidth\": 0, \"ticks\": \"\"}, \"colorscale\": [[0.0, \"#0d0887\"], [0.1111111111111111, \"#46039f\"], [0.2222222222222222, \"#7201a8\"], [0.3333333333333333, \"#9c179e\"], [0.4444444444444444, \"#bd3786\"], [0.5555555555555556, \"#d8576b\"], [0.6666666666666666, \"#ed7953\"], [0.7777777777777778, \"#fb9f3a\"], [0.8888888888888888, \"#fdca26\"], [1.0, \"#f0f921\"]], \"type\": \"heatmap\"}], \"heatmapgl\": [{\"colorbar\": {\"outlinewidth\": 0, \"ticks\": \"\"}, \"colorscale\": [[0.0, \"#0d0887\"], [0.1111111111111111, \"#46039f\"], [0.2222222222222222, \"#7201a8\"], [0.3333333333333333, \"#9c179e\"], [0.4444444444444444, \"#bd3786\"], [0.5555555555555556, \"#d8576b\"], [0.6666666666666666, \"#ed7953\"], [0.7777777777777778, \"#fb9f3a\"], [0.8888888888888888, \"#fdca26\"], [1.0, \"#f0f921\"]], \"type\": \"heatmapgl\"}], \"histogram\": [{\"marker\": {\"colorbar\": {\"outlinewidth\": 0, \"ticks\": \"\"}}, \"type\": \"histogram\"}], \"histogram2d\": [{\"colorbar\": {\"outlinewidth\": 0, \"ticks\": \"\"}, \"colorscale\": [[0.0, \"#0d0887\"], [0.1111111111111111, \"#46039f\"], [0.2222222222222222, \"#7201a8\"], [0.3333333333333333, \"#9c179e\"], [0.4444444444444444, \"#bd3786\"], [0.5555555555555556, \"#d8576b\"], [0.6666666666666666, \"#ed7953\"], [0.7777777777777778, \"#fb9f3a\"], [0.8888888888888888, \"#fdca26\"], [1.0, \"#f0f921\"]], \"type\": \"histogram2d\"}], \"histogram2dcontour\": [{\"colorbar\": {\"outlinewidth\": 0, \"ticks\": \"\"}, \"colorscale\": [[0.0, \"#0d0887\"], [0.1111111111111111, \"#46039f\"], [0.2222222222222222, \"#7201a8\"], [0.3333333333333333, \"#9c179e\"], [0.4444444444444444, \"#bd3786\"], [0.5555555555555556, \"#d8576b\"], [0.6666666666666666, \"#ed7953\"], [0.7777777777777778, \"#fb9f3a\"], [0.8888888888888888, \"#fdca26\"], [1.0, \"#f0f921\"]], \"type\": \"histogram2dcontour\"}], \"mesh3d\": [{\"colorbar\": {\"outlinewidth\": 0, \"ticks\": \"\"}, \"type\": \"mesh3d\"}], \"parcoords\": [{\"line\": {\"colorbar\": {\"outlinewidth\": 0, \"ticks\": \"\"}}, \"type\": \"parcoords\"}], \"pie\": [{\"automargin\": true, \"type\": \"pie\"}], \"scatter\": [{\"marker\": {\"colorbar\": {\"outlinewidth\": 0, \"ticks\": \"\"}}, \"type\": \"scatter\"}], \"scatter3d\": [{\"line\": {\"colorbar\": {\"outlinewidth\": 0, \"ticks\": \"\"}}, \"marker\": {\"colorbar\": {\"outlinewidth\": 0, \"ticks\": \"\"}}, \"type\": \"scatter3d\"}], \"scattercarpet\": [{\"marker\": {\"colorbar\": {\"outlinewidth\": 0, \"ticks\": \"\"}}, \"type\": \"scattercarpet\"}], \"scattergeo\": [{\"marker\": {\"colorbar\": {\"outlinewidth\": 0, \"ticks\": \"\"}}, \"type\": \"scattergeo\"}], \"scattergl\": [{\"marker\": {\"colorbar\": {\"outlinewidth\": 0, \"ticks\": \"\"}}, \"type\": \"scattergl\"}], \"scattermapbox\": [{\"marker\": {\"colorbar\": {\"outlinewidth\": 0, \"ticks\": \"\"}}, \"type\": \"scattermapbox\"}], \"scatterpolar\": [{\"marker\": {\"colorbar\": {\"outlinewidth\": 0, \"ticks\": \"\"}}, \"type\": \"scatterpolar\"}], \"scatterpolargl\": [{\"marker\": {\"colorbar\": {\"outlinewidth\": 0, \"ticks\": \"\"}}, \"type\": \"scatterpolargl\"}], \"scatterternary\": [{\"marker\": {\"colorbar\": {\"outlinewidth\": 0, \"ticks\": \"\"}}, \"type\": \"scatterternary\"}], \"surface\": [{\"colorbar\": {\"outlinewidth\": 0, \"ticks\": \"\"}, \"colorscale\": [[0.0, \"#0d0887\"], [0.1111111111111111, \"#46039f\"], [0.2222222222222222, \"#7201a8\"], [0.3333333333333333, \"#9c179e\"], [0.4444444444444444, \"#bd3786\"], [0.5555555555555556, \"#d8576b\"], [0.6666666666666666, \"#ed7953\"], [0.7777777777777778, \"#fb9f3a\"], [0.8888888888888888, \"#fdca26\"], [1.0, \"#f0f921\"]], \"type\": \"surface\"}], \"table\": [{\"cells\": {\"fill\": {\"color\": \"#EBF0F8\"}, \"line\": {\"color\": \"white\"}}, \"header\": {\"fill\": {\"color\": \"#C8D4E3\"}, \"line\": {\"color\": \"white\"}}, \"type\": \"table\"}]}, \"layout\": {\"annotationdefaults\": {\"arrowcolor\": \"#2a3f5f\", \"arrowhead\": 0, \"arrowwidth\": 1}, \"coloraxis\": {\"colorbar\": {\"outlinewidth\": 0, \"ticks\": \"\"}}, \"colorscale\": {\"diverging\": [[0, \"#8e0152\"], [0.1, \"#c51b7d\"], [0.2, \"#de77ae\"], [0.3, \"#f1b6da\"], [0.4, \"#fde0ef\"], [0.5, \"#f7f7f7\"], [0.6, \"#e6f5d0\"], [0.7, \"#b8e186\"], [0.8, \"#7fbc41\"], [0.9, \"#4d9221\"], [1, \"#276419\"]], \"sequential\": [[0.0, \"#0d0887\"], [0.1111111111111111, \"#46039f\"], [0.2222222222222222, \"#7201a8\"], [0.3333333333333333, \"#9c179e\"], [0.4444444444444444, \"#bd3786\"], [0.5555555555555556, \"#d8576b\"], [0.6666666666666666, \"#ed7953\"], [0.7777777777777778, \"#fb9f3a\"], [0.8888888888888888, \"#fdca26\"], [1.0, \"#f0f921\"]], \"sequentialminus\": [[0.0, \"#0d0887\"], [0.1111111111111111, \"#46039f\"], [0.2222222222222222, \"#7201a8\"], [0.3333333333333333, \"#9c179e\"], [0.4444444444444444, \"#bd3786\"], [0.5555555555555556, \"#d8576b\"], [0.6666666666666666, \"#ed7953\"], [0.7777777777777778, \"#fb9f3a\"], [0.8888888888888888, \"#fdca26\"], [1.0, \"#f0f921\"]]}, \"colorway\": [\"#636efa\", \"#EF553B\", \"#00cc96\", \"#ab63fa\", \"#FFA15A\", \"#19d3f3\", \"#FF6692\", \"#B6E880\", \"#FF97FF\", \"#FECB52\"], \"font\": {\"color\": \"#2a3f5f\"}, \"geo\": {\"bgcolor\": \"white\", \"lakecolor\": \"white\", \"landcolor\": \"#E5ECF6\", \"showlakes\": true, \"showland\": true, \"subunitcolor\": \"white\"}, \"hoverlabel\": {\"align\": \"left\"}, \"hovermode\": \"closest\", \"mapbox\": {\"style\": \"light\"}, \"paper_bgcolor\": \"white\", \"plot_bgcolor\": \"#E5ECF6\", \"polar\": {\"angularaxis\": {\"gridcolor\": \"white\", \"linecolor\": \"white\", \"ticks\": \"\"}, \"bgcolor\": \"#E5ECF6\", \"radialaxis\": {\"gridcolor\": \"white\", \"linecolor\": \"white\", \"ticks\": \"\"}}, \"scene\": {\"xaxis\": {\"backgroundcolor\": \"#E5ECF6\", \"gridcolor\": \"white\", \"gridwidth\": 2, \"linecolor\": \"white\", \"showbackground\": true, \"ticks\": \"\", \"zerolinecolor\": \"white\"}, \"yaxis\": {\"backgroundcolor\": \"#E5ECF6\", \"gridcolor\": \"white\", \"gridwidth\": 2, \"linecolor\": \"white\", \"showbackground\": true, \"ticks\": \"\", \"zerolinecolor\": \"white\"}, \"zaxis\": {\"backgroundcolor\": \"#E5ECF6\", \"gridcolor\": \"white\", \"gridwidth\": 2, \"linecolor\": \"white\", \"showbackground\": true, \"ticks\": \"\", \"zerolinecolor\": \"white\"}}, \"shapedefaults\": {\"line\": {\"color\": \"#2a3f5f\"}}, \"ternary\": {\"aaxis\": {\"gridcolor\": \"white\", \"linecolor\": \"white\", \"ticks\": \"\"}, \"baxis\": {\"gridcolor\": \"white\", \"linecolor\": \"white\", \"ticks\": \"\"}, \"bgcolor\": \"#E5ECF6\", \"caxis\": {\"gridcolor\": \"white\", \"linecolor\": \"white\", \"ticks\": \"\"}}, \"title\": {\"x\": 0.05}, \"xaxis\": {\"automargin\": true, \"gridcolor\": \"white\", \"linecolor\": \"white\", \"ticks\": \"\", \"title\": {\"standoff\": 15}, \"zerolinecolor\": \"white\", \"zerolinewidth\": 2}, \"yaxis\": {\"automargin\": true, \"gridcolor\": \"white\", \"linecolor\": \"white\", \"ticks\": \"\", \"title\": {\"standoff\": 15}, \"zerolinecolor\": \"white\", \"zerolinewidth\": 2}}}, \"xaxis\": {\"dtick\": \"Y1\", \"tickformat\": \"Y\"}, \"yaxis\": {\"range\": [1300, 1800], \"showgrid\": false, \"showticklabels\": true, \"title\": {\"text\": \"Employment\"}}},\n",
              "                        {\"responsive\": true}\n",
              "                    ).then(function(){\n",
              "                            \n",
              "var gd = document.getElementById('9d5c0917-56fc-4e22-b59b-1ff7a0d45ce9');\n",
              "var x = new MutationObserver(function (mutations, observer) {{\n",
              "        var display = window.getComputedStyle(gd).display;\n",
              "        if (!display || display === 'none') {{\n",
              "            console.log([gd, 'removed!']);\n",
              "            Plotly.purge(gd);\n",
              "            observer.disconnect();\n",
              "        }}\n",
              "}});\n",
              "\n",
              "// Listen for the removal of the full notebook cells\n",
              "var notebookContainer = gd.closest('#notebook-container');\n",
              "if (notebookContainer) {{\n",
              "    x.observe(notebookContainer, {childList: true});\n",
              "}}\n",
              "\n",
              "// Listen for the clearing of the current output cell\n",
              "var outputEl = gd.closest('.output');\n",
              "if (outputEl) {{\n",
              "    x.observe(outputEl, {childList: true});\n",
              "}}\n",
              "\n",
              "                        })\n",
              "                };\n",
              "                \n",
              "            </script>\n",
              "        </div>\n",
              "</body>\n",
              "</html>"
            ]
          },
          "metadata": {
            "tags": []
          }
        }
      ]
    },
    {
      "cell_type": "markdown",
      "metadata": {
        "id": "xfffCE3soceP"
      },
      "source": [
        "**Post-Processing** \n",
        "\n",
        "You will notice the lack of titles or descriptions in the above graph. I went through a couple of iterations off screen to see whether the text capababilities of Plotly was good enough for my inflammatory purposes and I was unsatisfied. Perhaps in large due to my still relative inexperience towards plotly, I simply felt that post-processing the graph in Photoshop would be much easier and I could make it much more fun. \n",
        "\n",
        "It was then that I decided I wanted to make a sort of pamphlet ad style. While I debated on adding a lot more graphs, I decided I wanted 1 more. The next section will detail my data exploration and experiments for my second graph.\n",
        "\n",
        "One last note. I decided to add in that little statistics canada logo on the top right to show that the data was from statscan. Just a little authority to back up the graph. After all, none of the data is fake, it's just that the interpretation is \"unique\". "
      ]
    },
    {
      "cell_type": "markdown",
      "metadata": {
        "id": "7IxO6G-BplHl"
      },
      "source": [
        "# Section 2: Second Graph"
      ]
    },
    {
      "cell_type": "markdown",
      "metadata": {
        "id": "NoF86jmDppVN"
      },
      "source": [
        "**Data** \n",
        "\n",
        "Data was taken from the Neighbourhood Profiles dataset from Open Data Toronto. [Link Here](https://open.toronto.ca/dataset/neighbourhood-profiles/)\n",
        "\n",
        "The data transformation and cleaning was done prior to this project, in which I filtered the data to show income levels of economic units in each neighbourhood. The [code](https://colab.research.google.com/drive/1qyjOoCe31BdHIYs_GeAcDGiPZdu-qnbl?usp=sharing) has been linked if interested.\n",
        "\n",
        "Basically I used the Organization for Economic Cooperation and\n",
        "Development’s [online calculator](http://www.oecd.org/social/under-pressure-the-squeezed-middle-class-689afed1-en.htm), under the assumption that the average\n",
        "household is 3.16 people large (based on the dataset), and split households into low and middle plus income."
      ]
    },
    {
      "cell_type": "code",
      "metadata": {
        "colab": {
          "base_uri": "https://localhost:8080/",
          "height": 542
        },
        "id": "214O_fT2Q-e3",
        "outputId": "4d92aaa8-ca6c-4973-e944-660b5c4d5b16"
      },
      "source": [
        "fig6 = px.scatter(df2, x=\"percent_nol\", y=\"percent China\", trendline=\"ols\")\n",
        "fig6.update_xaxes(range=(0.4,0.8))\n",
        "fig6.show()\n",
        "\n",
        "# The higher percentage a neighbourhood has of Chinese immigrants, the less likely the neighbourhood is to speak English. "
      ],
      "execution_count": 18,
      "outputs": [
        {
          "output_type": "display_data",
          "data": {
            "text/html": [
              "<html>\n",
              "<head><meta charset=\"utf-8\" /></head>\n",
              "<body>\n",
              "    <div>\n",
              "            <script src=\"https://cdnjs.cloudflare.com/ajax/libs/mathjax/2.7.5/MathJax.js?config=TeX-AMS-MML_SVG\"></script><script type=\"text/javascript\">if (window.MathJax) {MathJax.Hub.Config({SVG: {font: \"STIX-Web\"}});}</script>\n",
              "                <script type=\"text/javascript\">window.PlotlyConfig = {MathJaxConfig: 'local'};</script>\n",
              "        <script src=\"https://cdn.plot.ly/plotly-latest.min.js\"></script>    \n",
              "            <div id=\"1f579c1b-b6ad-4013-855d-cfbc56ad3967\" class=\"plotly-graph-div\" style=\"height:525px; width:100%;\"></div>\n",
              "            <script type=\"text/javascript\">\n",
              "                \n",
              "                    window.PLOTLYENV=window.PLOTLYENV || {};\n",
              "                    \n",
              "                if (document.getElementById(\"1f579c1b-b6ad-4013-855d-cfbc56ad3967\")) {\n",
              "                    Plotly.newPlot(\n",
              "                        '1f579c1b-b6ad-4013-855d-cfbc56ad3967',\n",
              "                        [{\"hoverlabel\": {\"namelength\": 0}, \"hovertemplate\": \"percent_nol=%{x}<br>percent China=%{y}\", \"legendgroup\": \"\", \"marker\": {\"color\": \"#636efa\", \"symbol\": \"circle\"}, \"mode\": \"markers\", \"name\": \"\", \"showlegend\": false, \"type\": \"scatter\", \"x\": [0.706557208, 0.652649745, 0.34884685600000004, 0.25404573199999997, 0.43545766399999997, 0.512820513, 0.532038609, 0.6038511870000001, 0.577010795, 0.237562403, 0.396837464, 0.519526035, 0.199407833, 0.46073515200000004, 0.297657564, 0.554815179, 0.30541765600000004, 0.39438212, 0.482908149, 0.231382295, 0.547965846, 0.19876002899999998, 0.27241430899999997, 0.350989151, 0.441002075, 0.41798203, 0.30781299, 0.485035024, 0.294330643, 0.317520373, 0.634172489, 0.524737032, 0.41583617700000003, 0.516803606, 0.386084005, 0.217248959, 0.410041841, 0.440156305, 0.42935702200000003, 0.365412122, 0.433613084, 0.47054355200000003, 0.639447408, 0.342417617, 0.21571002600000003, 0.49227640899999997, 0.287507803, 0.22083291300000002, 0.622972715, 0.339319556, 0.280668757, 0.417800544, 0.670544467, 0.477712824, 0.5778833760000001, 0.53811515, 0.272885486, 0.45707792700000005, 0.45240532200000005, 0.30419045, 0.570175439, 0.46049173600000004, 0.477291725, 0.49659090899999997, 0.208176033, 0.282404508, 0.638169709, 0.44574362799999995, 0.198877251, 0.17458330600000002, 0.15955550300000002, 0.341602931, 0.309896866, 0.459423665, 0.550885175, 0.395584612, 0.75135481, 0.373189259, 0.404468634, 0.279918073, 0.412712426, 0.545305577, 0.22116244399999999, 0.354878953, 0.307947309, 0.675902342, 0.664680458, 0.268601668, 0.211480363, 0.507655117, 0.508486818, 0.42951438, 0.351271754, 0.331961443, 0.293288008, 0.43801178, 0.469595225, 0.21143003600000002, 0.647995954, 0.330286852, 0.487364621, 0.398898281, 0.47806347200000004, 0.27314011, 0.201452947, 0.41702512, 0.223435948, 0.451664822, 0.43350873, 0.367064854, 0.29792653199999997, 0.478609926, 0.7631076640000001, 0.371841443, 0.583509437, 0.520308614, 0.11406315199999999, 0.49710424700000005, 0.672256964, 0.395928968, 0.310240568, 0.45402627100000004, 0.335290459, 0.324729848, 0.488712776, 0.653878359, 0.365718097, 0.477563525, 0.441308163, 0.6835666420000001, 0.613486065, 0.430131793, 0.510703936, 0.187784068, 0.269548633, 0.296187888, 0.235254295, 0.219907407, 0.52930091, 0.49918940799999995], \"xaxis\": \"x\", \"y\": [0.29643114800000003, 0.249189713, 0.009125601, 0.020310555, 0.068965517, 0.019215019, 0.08450595, 0.110300991, 0.147863768, 0.015708384, 0.0030409000000000005, 0.056074766, 0.017047239, 0.004140406, 0.06276692099999999, 0.0073648030000000005, 0.055579538, 0.017827637, 0.007039477, 0.030850972999999997, 0.006027121999999999, 0.011852662, 0.016838797, 0.034460753, 0.040950192999999996, 0.012445362, 0.021650455, 0.012736148999999999, 0.032588453999999996, 0.032305006000000004, 0.13197294, 0.050993881, 0.033174061, 0.004849937, 0.026304625, 0.019877461000000003, 0.008046346999999999, 0.016684229, 0.004230118, 0.007598784, 0.016408436000000002, 0.012660365, 0.029863676000000002, 0.009370608, 0.01677227, 0.00524745, 0.061732677, 0.011596249, 0.083635439, 0.01128057, 0.010867294, 0.020809988999999997, 0.255403331, 0.0, 0.0040270620000000005, 0.00611129, 0.0055690919999999994, 0.017227476000000002, 0.017968839, 0.022274816, 0.002260807, 0.024528412000000003, 0.166620228, 0.008409091, 0.006471794, 0.007514089, 0.214352283, 0.033407572, 0.016088177, 0.015152513000000001, 0.010993582, 0.037598817, 0.007437525, 0.031282824, 0.002472555, 0.0042637859999999994, 0.354132169, 0.020904487, 0.020910914, 0.017555837, 0.005149709000000001, 0.002124173, 0.014605067, 0.021073572000000002, 0.01090465, 0.120208735, 0.040493475, 0.023572803, 0.041540785, 0.020950846000000002, 0.028530155, 0.016973126, 0.013922356, 0.023286038999999998, 0.03327065, 0.033903175, 0.0032643159999999997, 0.019861609, 0.20577822699999998, 0.022622387, 0.059705637, 0.002374395, 0.005169469, 0.014692133000000001, 0.015055202, 0.012796799999999999, 0.0064548159999999995, 0.0, 0.012257833000000001, 0.024943932999999998, 0.09398766, 0.09347630800000001, 0.37485278, 0.007584528, 0.17015229899999998, 0.016259644, 0.005100385, 0.004343629, 0.00710631, 0.099359749, 0.043381095999999994, 0.019988578, 0.046879977999999996, 0.010221963, 0.00420269, 0.01294055, 0.004724322, 0.005856910999999999, 0.038507003, 0.134036563, 0.082073689, 0.010606608, 0.028886604, 0.029104537000000003, 0.026700572000000002, 0.022998117999999998, 0.022002200000000003, 0.013569603999999999, 0.020113797, 0.018576061], \"yaxis\": \"y\"}, {\"hoverlabel\": {\"namelength\": 0}, \"hovertemplate\": \"<b>OLS trendline</b><br>percent China = 0.244898 * percent_nol + -0.060547<br>R<sup>2</sup>=0.284521<br><br>percent_nol=%{x}<br>percent China=%{y} <b>(trend)</b>\", \"legendgroup\": \"\", \"marker\": {\"color\": \"#636efa\", \"symbol\": \"circle\"}, \"mode\": \"lines\", \"name\": \"\", \"showlegend\": false, \"type\": \"scatter\", \"x\": [0.11406315199999999, 0.15955550300000002, 0.17458330600000002, 0.187784068, 0.19876002899999998, 0.198877251, 0.199407833, 0.201452947, 0.208176033, 0.21143003600000002, 0.211480363, 0.21571002600000003, 0.217248959, 0.219907407, 0.22083291300000002, 0.22116244399999999, 0.223435948, 0.231382295, 0.235254295, 0.237562403, 0.25404573199999997, 0.268601668, 0.269548633, 0.27241430899999997, 0.272885486, 0.27314011, 0.279918073, 0.280668757, 0.282404508, 0.287507803, 0.293288008, 0.294330643, 0.296187888, 0.297657564, 0.29792653199999997, 0.30419045, 0.30541765600000004, 0.30781299, 0.307947309, 0.309896866, 0.310240568, 0.317520373, 0.324729848, 0.330286852, 0.331961443, 0.335290459, 0.339319556, 0.341602931, 0.342417617, 0.34884685600000004, 0.350989151, 0.351271754, 0.354878953, 0.365412122, 0.365718097, 0.367064854, 0.371841443, 0.373189259, 0.386084005, 0.39438212, 0.395584612, 0.395928968, 0.396837464, 0.398898281, 0.404468634, 0.410041841, 0.412712426, 0.41583617700000003, 0.41702512, 0.417800544, 0.41798203, 0.42935702200000003, 0.42951438, 0.430131793, 0.43350873, 0.433613084, 0.43545766399999997, 0.43801178, 0.440156305, 0.441002075, 0.441308163, 0.44574362799999995, 0.451664822, 0.45240532200000005, 0.45402627100000004, 0.45707792700000005, 0.459423665, 0.46049173600000004, 0.46073515200000004, 0.469595225, 0.47054355200000003, 0.477291725, 0.477563525, 0.477712824, 0.47806347200000004, 0.478609926, 0.482908149, 0.485035024, 0.487364621, 0.488712776, 0.49227640899999997, 0.49659090899999997, 0.49710424700000005, 0.49918940799999995, 0.507655117, 0.508486818, 0.510703936, 0.512820513, 0.516803606, 0.519526035, 0.520308614, 0.524737032, 0.52930091, 0.532038609, 0.53811515, 0.545305577, 0.547965846, 0.550885175, 0.554815179, 0.570175439, 0.577010795, 0.5778833760000001, 0.583509437, 0.6038511870000001, 0.613486065, 0.622972715, 0.634172489, 0.638169709, 0.639447408, 0.647995954, 0.652649745, 0.653878359, 0.664680458, 0.670544467, 0.672256964, 0.675902342, 0.6835666420000001, 0.706557208, 0.75135481, 0.7631076640000001], \"xaxis\": \"x\", \"y\": [-0.03261310935928419, -0.021472111047516305, -0.01779182800713046, -0.014558984157050057, -0.011870990235367931, -0.011842282769708432, -0.011712344152857122, -0.011211499260902147, -0.009565027092957465, -0.008768127369540496, -0.008755802374025623, -0.007719965199060819, -0.007343083161134849, -0.00669203383022815, -0.006465379006793517, -0.006384677433144914, -0.0058279002240312835, -0.003881853546608048, -0.002933607423580349, -0.002368355754538712, 0.0016683830933021879, 0.005233106719087138, 0.005465016814617335, 0.006166815925374949, 0.006282206360165715, 0.006344563338685813, 0.008004474789299235, 0.008188316006401228, 0.008613398433129402, 0.00986318657838163, 0.011278748815353554, 0.011534088328908038, 0.011988924426728956, 0.01234884554478341, 0.012414715344168353, 0.013948738060713659, 0.01424927869388938, 0.014835891859916336, 0.01486878635139334, 0.015346229498829161, 0.015430401525940954, 0.01721321321696566, 0.018978801212269136, 0.020339701909234384, 0.02074980635742836, 0.021565076635191055, 0.022551795542616826, 0.023110990142608645, 0.023310505339144014, 0.02488501488350571, 0.025409659234779364, 0.025478868222151785, 0.02636226503690886, 0.028941819961352436, 0.029016752711221602, 0.0293465711781406, 0.030516349587372718, 0.030846427401565568, 0.03400432846094752, 0.03603652251497333, 0.03633101073216648, 0.03641534292275049, 0.036637832026517575, 0.03714252255609392, 0.038506692400139805, 0.0398715611838642, 0.04052558284514156, 0.04129058407836829, 0.041581754168825646, 0.04177165416926537, 0.041816099777706436, 0.044601815703189676, 0.04464035240603764, 0.04479155578505545, 0.045618561833081994, 0.04564411794773138, 0.04609585240889212, 0.04672135101291151, 0.04724654148733971, 0.047453669101873056, 0.04752862952524735, 0.048614867255122096, 0.05006495745506913, 0.050246304628132676, 0.05064327224302824, 0.05139061753507737, 0.05196508472622888, 0.052226653472320916, 0.05228626563096836, 0.05445608223013994, 0.05468832587712148, 0.056340941808105505, 0.05640750515940689, 0.056444068227052, 0.05652994131758596, 0.05666376695986719, 0.05771639436060544, 0.05823726238046972, 0.0588077766685552, 0.05913793750326346, 0.06001066507974681, 0.06106727868971659, 0.061192994280703905, 0.06170364661390082, 0.06377688414952343, 0.0639805662902177, 0.06452353466516474, 0.06504188072258717, 0.06601733332974334, 0.06668405149721963, 0.06687570374482109, 0.06796021567654788, 0.06907790152868408, 0.0697483592928284, 0.07123649370519124, 0.07299741687814155, 0.07364891216880808, 0.07436385080674514, 0.07532630200934932, 0.07908800319573812, 0.08076197009308163, 0.08097566367528143, 0.08235347631246308, 0.08733513580964765, 0.08969470081722637, 0.09201796504321312, 0.09476077038264662, 0.09573968266774184, 0.09605258894954617, 0.0981461131236226, 0.09928581851441061, 0.09958670396435833, 0.10223211938205239, 0.10366820507411063, 0.10408759263633856, 0.1049803394223588, 0.10685731327585087, 0.1124876632437518, 0.12345851872346199, 0.12633677240115065], \"yaxis\": \"y\"}],\n",
              "                        {\"legend\": {\"tracegroupgap\": 0}, \"margin\": {\"t\": 60}, \"template\": {\"data\": {\"bar\": [{\"error_x\": {\"color\": \"#2a3f5f\"}, \"error_y\": {\"color\": \"#2a3f5f\"}, \"marker\": {\"line\": {\"color\": \"#E5ECF6\", \"width\": 0.5}}, \"type\": \"bar\"}], \"barpolar\": [{\"marker\": {\"line\": {\"color\": \"#E5ECF6\", \"width\": 0.5}}, \"type\": \"barpolar\"}], \"carpet\": [{\"aaxis\": {\"endlinecolor\": \"#2a3f5f\", \"gridcolor\": \"white\", \"linecolor\": \"white\", \"minorgridcolor\": \"white\", \"startlinecolor\": \"#2a3f5f\"}, \"baxis\": {\"endlinecolor\": \"#2a3f5f\", \"gridcolor\": \"white\", \"linecolor\": \"white\", \"minorgridcolor\": \"white\", \"startlinecolor\": \"#2a3f5f\"}, \"type\": \"carpet\"}], \"choropleth\": [{\"colorbar\": {\"outlinewidth\": 0, \"ticks\": \"\"}, \"type\": \"choropleth\"}], \"contour\": [{\"colorbar\": {\"outlinewidth\": 0, \"ticks\": \"\"}, \"colorscale\": [[0.0, \"#0d0887\"], [0.1111111111111111, \"#46039f\"], [0.2222222222222222, \"#7201a8\"], [0.3333333333333333, \"#9c179e\"], [0.4444444444444444, \"#bd3786\"], [0.5555555555555556, \"#d8576b\"], [0.6666666666666666, \"#ed7953\"], [0.7777777777777778, \"#fb9f3a\"], [0.8888888888888888, \"#fdca26\"], [1.0, \"#f0f921\"]], \"type\": \"contour\"}], \"contourcarpet\": [{\"colorbar\": {\"outlinewidth\": 0, \"ticks\": \"\"}, \"type\": \"contourcarpet\"}], \"heatmap\": [{\"colorbar\": {\"outlinewidth\": 0, \"ticks\": \"\"}, \"colorscale\": [[0.0, \"#0d0887\"], [0.1111111111111111, \"#46039f\"], [0.2222222222222222, \"#7201a8\"], [0.3333333333333333, \"#9c179e\"], [0.4444444444444444, \"#bd3786\"], [0.5555555555555556, \"#d8576b\"], [0.6666666666666666, \"#ed7953\"], [0.7777777777777778, \"#fb9f3a\"], [0.8888888888888888, \"#fdca26\"], [1.0, \"#f0f921\"]], \"type\": \"heatmap\"}], \"heatmapgl\": [{\"colorbar\": {\"outlinewidth\": 0, \"ticks\": \"\"}, \"colorscale\": [[0.0, \"#0d0887\"], [0.1111111111111111, \"#46039f\"], [0.2222222222222222, \"#7201a8\"], [0.3333333333333333, \"#9c179e\"], [0.4444444444444444, \"#bd3786\"], [0.5555555555555556, \"#d8576b\"], [0.6666666666666666, \"#ed7953\"], [0.7777777777777778, \"#fb9f3a\"], [0.8888888888888888, \"#fdca26\"], [1.0, \"#f0f921\"]], \"type\": \"heatmapgl\"}], \"histogram\": [{\"marker\": {\"colorbar\": {\"outlinewidth\": 0, \"ticks\": \"\"}}, \"type\": \"histogram\"}], \"histogram2d\": [{\"colorbar\": {\"outlinewidth\": 0, \"ticks\": \"\"}, \"colorscale\": [[0.0, \"#0d0887\"], [0.1111111111111111, \"#46039f\"], [0.2222222222222222, \"#7201a8\"], [0.3333333333333333, \"#9c179e\"], [0.4444444444444444, \"#bd3786\"], [0.5555555555555556, \"#d8576b\"], [0.6666666666666666, \"#ed7953\"], [0.7777777777777778, \"#fb9f3a\"], [0.8888888888888888, \"#fdca26\"], [1.0, \"#f0f921\"]], \"type\": \"histogram2d\"}], \"histogram2dcontour\": [{\"colorbar\": {\"outlinewidth\": 0, \"ticks\": \"\"}, \"colorscale\": [[0.0, \"#0d0887\"], [0.1111111111111111, \"#46039f\"], [0.2222222222222222, \"#7201a8\"], [0.3333333333333333, \"#9c179e\"], [0.4444444444444444, \"#bd3786\"], [0.5555555555555556, \"#d8576b\"], [0.6666666666666666, \"#ed7953\"], [0.7777777777777778, \"#fb9f3a\"], [0.8888888888888888, \"#fdca26\"], [1.0, \"#f0f921\"]], \"type\": \"histogram2dcontour\"}], \"mesh3d\": [{\"colorbar\": {\"outlinewidth\": 0, \"ticks\": \"\"}, \"type\": \"mesh3d\"}], \"parcoords\": [{\"line\": {\"colorbar\": {\"outlinewidth\": 0, \"ticks\": \"\"}}, \"type\": \"parcoords\"}], \"pie\": [{\"automargin\": true, \"type\": \"pie\"}], \"scatter\": [{\"marker\": {\"colorbar\": {\"outlinewidth\": 0, \"ticks\": \"\"}}, \"type\": \"scatter\"}], \"scatter3d\": [{\"line\": {\"colorbar\": {\"outlinewidth\": 0, \"ticks\": \"\"}}, \"marker\": {\"colorbar\": {\"outlinewidth\": 0, \"ticks\": \"\"}}, \"type\": \"scatter3d\"}], \"scattercarpet\": [{\"marker\": {\"colorbar\": {\"outlinewidth\": 0, \"ticks\": \"\"}}, \"type\": \"scattercarpet\"}], \"scattergeo\": [{\"marker\": {\"colorbar\": {\"outlinewidth\": 0, \"ticks\": \"\"}}, \"type\": \"scattergeo\"}], \"scattergl\": [{\"marker\": {\"colorbar\": {\"outlinewidth\": 0, \"ticks\": \"\"}}, \"type\": \"scattergl\"}], \"scattermapbox\": [{\"marker\": {\"colorbar\": {\"outlinewidth\": 0, \"ticks\": \"\"}}, \"type\": \"scattermapbox\"}], \"scatterpolar\": [{\"marker\": {\"colorbar\": {\"outlinewidth\": 0, \"ticks\": \"\"}}, \"type\": \"scatterpolar\"}], \"scatterpolargl\": [{\"marker\": {\"colorbar\": {\"outlinewidth\": 0, \"ticks\": \"\"}}, \"type\": \"scatterpolargl\"}], \"scatterternary\": [{\"marker\": {\"colorbar\": {\"outlinewidth\": 0, \"ticks\": \"\"}}, \"type\": \"scatterternary\"}], \"surface\": [{\"colorbar\": {\"outlinewidth\": 0, \"ticks\": \"\"}, \"colorscale\": [[0.0, \"#0d0887\"], [0.1111111111111111, \"#46039f\"], [0.2222222222222222, \"#7201a8\"], [0.3333333333333333, \"#9c179e\"], [0.4444444444444444, \"#bd3786\"], [0.5555555555555556, \"#d8576b\"], [0.6666666666666666, \"#ed7953\"], [0.7777777777777778, \"#fb9f3a\"], [0.8888888888888888, \"#fdca26\"], [1.0, \"#f0f921\"]], \"type\": \"surface\"}], \"table\": [{\"cells\": {\"fill\": {\"color\": \"#EBF0F8\"}, \"line\": {\"color\": \"white\"}}, \"header\": {\"fill\": {\"color\": \"#C8D4E3\"}, \"line\": {\"color\": \"white\"}}, \"type\": \"table\"}]}, \"layout\": {\"annotationdefaults\": {\"arrowcolor\": \"#2a3f5f\", \"arrowhead\": 0, \"arrowwidth\": 1}, \"coloraxis\": {\"colorbar\": {\"outlinewidth\": 0, \"ticks\": \"\"}}, \"colorscale\": {\"diverging\": [[0, \"#8e0152\"], [0.1, \"#c51b7d\"], [0.2, \"#de77ae\"], [0.3, \"#f1b6da\"], [0.4, \"#fde0ef\"], [0.5, \"#f7f7f7\"], [0.6, \"#e6f5d0\"], [0.7, \"#b8e186\"], [0.8, \"#7fbc41\"], [0.9, \"#4d9221\"], [1, \"#276419\"]], \"sequential\": [[0.0, \"#0d0887\"], [0.1111111111111111, \"#46039f\"], [0.2222222222222222, \"#7201a8\"], [0.3333333333333333, \"#9c179e\"], [0.4444444444444444, \"#bd3786\"], [0.5555555555555556, \"#d8576b\"], [0.6666666666666666, \"#ed7953\"], [0.7777777777777778, \"#fb9f3a\"], [0.8888888888888888, \"#fdca26\"], [1.0, \"#f0f921\"]], \"sequentialminus\": [[0.0, \"#0d0887\"], [0.1111111111111111, \"#46039f\"], [0.2222222222222222, \"#7201a8\"], [0.3333333333333333, \"#9c179e\"], [0.4444444444444444, \"#bd3786\"], [0.5555555555555556, \"#d8576b\"], [0.6666666666666666, \"#ed7953\"], [0.7777777777777778, \"#fb9f3a\"], [0.8888888888888888, \"#fdca26\"], [1.0, \"#f0f921\"]]}, \"colorway\": [\"#636efa\", \"#EF553B\", \"#00cc96\", \"#ab63fa\", \"#FFA15A\", \"#19d3f3\", \"#FF6692\", \"#B6E880\", \"#FF97FF\", \"#FECB52\"], \"font\": {\"color\": \"#2a3f5f\"}, \"geo\": {\"bgcolor\": \"white\", \"lakecolor\": \"white\", \"landcolor\": \"#E5ECF6\", \"showlakes\": true, \"showland\": true, \"subunitcolor\": \"white\"}, \"hoverlabel\": {\"align\": \"left\"}, \"hovermode\": \"closest\", \"mapbox\": {\"style\": \"light\"}, \"paper_bgcolor\": \"white\", \"plot_bgcolor\": \"#E5ECF6\", \"polar\": {\"angularaxis\": {\"gridcolor\": \"white\", \"linecolor\": \"white\", \"ticks\": \"\"}, \"bgcolor\": \"#E5ECF6\", \"radialaxis\": {\"gridcolor\": \"white\", \"linecolor\": \"white\", \"ticks\": \"\"}}, \"scene\": {\"xaxis\": {\"backgroundcolor\": \"#E5ECF6\", \"gridcolor\": \"white\", \"gridwidth\": 2, \"linecolor\": \"white\", \"showbackground\": true, \"ticks\": \"\", \"zerolinecolor\": \"white\"}, \"yaxis\": {\"backgroundcolor\": \"#E5ECF6\", \"gridcolor\": \"white\", \"gridwidth\": 2, \"linecolor\": \"white\", \"showbackground\": true, \"ticks\": \"\", \"zerolinecolor\": \"white\"}, \"zaxis\": {\"backgroundcolor\": \"#E5ECF6\", \"gridcolor\": \"white\", \"gridwidth\": 2, \"linecolor\": \"white\", \"showbackground\": true, \"ticks\": \"\", \"zerolinecolor\": \"white\"}}, \"shapedefaults\": {\"line\": {\"color\": \"#2a3f5f\"}}, \"ternary\": {\"aaxis\": {\"gridcolor\": \"white\", \"linecolor\": \"white\", \"ticks\": \"\"}, \"baxis\": {\"gridcolor\": \"white\", \"linecolor\": \"white\", \"ticks\": \"\"}, \"bgcolor\": \"#E5ECF6\", \"caxis\": {\"gridcolor\": \"white\", \"linecolor\": \"white\", \"ticks\": \"\"}}, \"title\": {\"x\": 0.05}, \"xaxis\": {\"automargin\": true, \"gridcolor\": \"white\", \"linecolor\": \"white\", \"ticks\": \"\", \"title\": {\"standoff\": 15}, \"zerolinecolor\": \"white\", \"zerolinewidth\": 2}, \"yaxis\": {\"automargin\": true, \"gridcolor\": \"white\", \"linecolor\": \"white\", \"ticks\": \"\", \"title\": {\"standoff\": 15}, \"zerolinecolor\": \"white\", \"zerolinewidth\": 2}}}, \"xaxis\": {\"anchor\": \"y\", \"domain\": [0.0, 1.0], \"range\": [0.4, 0.8], \"title\": {\"text\": \"percent_nol\"}}, \"yaxis\": {\"anchor\": \"x\", \"domain\": [0.0, 1.0], \"title\": {\"text\": \"percent China\"}}},\n",
              "                        {\"responsive\": true}\n",
              "                    ).then(function(){\n",
              "                            \n",
              "var gd = document.getElementById('1f579c1b-b6ad-4013-855d-cfbc56ad3967');\n",
              "var x = new MutationObserver(function (mutations, observer) {{\n",
              "        var display = window.getComputedStyle(gd).display;\n",
              "        if (!display || display === 'none') {{\n",
              "            console.log([gd, 'removed!']);\n",
              "            Plotly.purge(gd);\n",
              "            observer.disconnect();\n",
              "        }}\n",
              "}});\n",
              "\n",
              "// Listen for the removal of the full notebook cells\n",
              "var notebookContainer = gd.closest('#notebook-container');\n",
              "if (notebookContainer) {{\n",
              "    x.observe(notebookContainer, {childList: true});\n",
              "}}\n",
              "\n",
              "// Listen for the clearing of the current output cell\n",
              "var outputEl = gd.closest('.output');\n",
              "if (outputEl) {{\n",
              "    x.observe(outputEl, {childList: true});\n",
              "}}\n",
              "\n",
              "                        })\n",
              "                };\n",
              "                \n",
              "            </script>\n",
              "        </div>\n",
              "</body>\n",
              "</html>"
            ]
          },
          "metadata": {
            "tags": []
          }
        }
      ]
    },
    {
      "cell_type": "markdown",
      "metadata": {
        "id": "ni6Xiuy5yoSR"
      },
      "source": [
        "**Graph 1 Key Takeaway:** My first inclination was to look at percentage of households who speak an official language versus the percentage of households taht come from China. Nothing really came out of it and I couldn't fit in into my story so I abandoned it."
      ]
    },
    {
      "cell_type": "code",
      "metadata": {
        "colab": {
          "base_uri": "https://localhost:8080/",
          "height": 542
        },
        "id": "G7PoaKwK-Ljd",
        "outputId": "78b4c741-3249-479a-f871-2335d303230d"
      },
      "source": [
        "fig7 = px.scatter(df2, x=\"percent_low\", y=\"Americas\", trendline=\"ols\")\n",
        "fig7.show()"
      ],
      "execution_count": 15,
      "outputs": [
        {
          "output_type": "display_data",
          "data": {
            "text/html": [
              "<html>\n",
              "<head><meta charset=\"utf-8\" /></head>\n",
              "<body>\n",
              "    <div>\n",
              "            <script src=\"https://cdnjs.cloudflare.com/ajax/libs/mathjax/2.7.5/MathJax.js?config=TeX-AMS-MML_SVG\"></script><script type=\"text/javascript\">if (window.MathJax) {MathJax.Hub.Config({SVG: {font: \"STIX-Web\"}});}</script>\n",
              "                <script type=\"text/javascript\">window.PlotlyConfig = {MathJaxConfig: 'local'};</script>\n",
              "        <script src=\"https://cdn.plot.ly/plotly-latest.min.js\"></script>    \n",
              "            <div id=\"20d7bfdc-f545-4bec-89bf-dbfa3795a51f\" class=\"plotly-graph-div\" style=\"height:525px; width:100%;\"></div>\n",
              "            <script type=\"text/javascript\">\n",
              "                \n",
              "                    window.PLOTLYENV=window.PLOTLYENV || {};\n",
              "                    \n",
              "                if (document.getElementById(\"20d7bfdc-f545-4bec-89bf-dbfa3795a51f\")) {\n",
              "                    Plotly.newPlot(\n",
              "                        '20d7bfdc-f545-4bec-89bf-dbfa3795a51f',\n",
              "                        [{\"hoverlabel\": {\"namelength\": 0}, \"hovertemplate\": \"percent_low=%{x}<br>Americas=%{y}\", \"legendgroup\": \"\", \"marker\": {\"color\": \"#636efa\", \"symbol\": \"circle\"}, \"mode\": \"markers\", \"name\": \"\", \"showlegend\": false, \"type\": \"scatter\", \"x\": [0.44395974299999996, 0.43818664, 0.21113323399999998, 0.286477101, 0.24715652600000002, 0.332955333, 0.48455246700000004, 0.354505515, 0.316253611, 0.187639869, 0.48578379200000005, 0.41338451299999995, 0.274774573, 0.591617979, 0.390837324, 0.369993687, 0.138139434, 0.396991043, 0.480655516, 0.320507327, 0.32847815199999997, 0.211524435, 0.145562042, 0.37811104, 0.36132523, 0.305973774, 0.31377471, 0.307082714, 0.286054211, 0.259022119, 0.413293409, 0.440147182, 0.36546075100000003, 0.407252083, 0.37632583799999997, 0.309152986, 0.21821693, 0.48011064299999995, 0.464784264, 0.39893617, 0.211695718, 0.35786630700000005, 0.5797200570000001, 0.295564579, 0.190085725, 0.50047555, 0.34265103700000005, 0.176464657, 0.459835909, 0.284270373, 0.21128526600000003, 0.22690891600000002, 0.360812566, 0.28407015, 0.424855026, 0.466387906, 0.30073094300000003, 0.45048017, 0.285340612, 0.27425866600000004, 0.39292819700000003, 0.463995795, 0.5383115070000001, 0.461818182, 0.09545895800000001, 0.285535379, 0.444275226, 0.290460282, 0.114328746, 0.124514131, 0.126277633, 0.326177775, 0.334688616, 0.42197561299999997, 0.36099297799999996, 0.191870381, 0.48396808700000005, 0.303703922, 0.41649957, 0.409392373, 0.46347384700000005, 0.542574498, 0.18271237, 0.322509947, 0.40565297, 0.40690812, 0.462632705, 0.235246953, 0.205605908, 0.575342466, 0.636691947, 0.380480905, 0.391700134, 0.272934041, 0.328728483, 0.381698032, 0.273269912, 0.24410558699999998, 0.360981161, 0.1402588, 0.616495418, 0.368506031, 0.42074979799999995, 0.351275544, 0.164412369, 0.24937629, 0.148460775, 0.515038728, 0.541736427, 0.49224220799999996, 0.326445688, 0.259375702, 0.44775210200000004, 0.23112849800000002, 0.42610945100000003, 0.554421986, 0.170862892, 0.40202702700000004, 0.6646769, 0.350326166, 0.35887997899999996, 0.43946316399999996, 0.267473791, 0.424393984, 0.343569885, 0.46985613200000004, 0.494664295, 0.401874212, 0.375040298, 0.425110045, 0.384093056, 0.30465788, 0.47667570299999995, 0.269515988, 0.283534647, 0.302460102, 0.209444021, 0.217911877, 0.477294966, 0.34247500700000005], \"xaxis\": \"x\", \"y\": [1635, 1415, 450, 1630, 1335, 920, 1050, 925, 550, 1120, 1290, 2215, 970, 4035, 440, 1620, 345, 715, 3560, 795, 1250, 740, 850, 1740, 1615, 770, 880, 1395, 370, 715, 1495, 2120, 2550, 5640, 865, 1065, 1020, 2965, 1440, 1875, 1005, 690, 1065, 825, 595, 6470, 730, 640, 825, 1210, 1025, 1895, 755, 850, 1525, 3160, 1095, 1405, 2460, 855, 1535, 1525, 795, 2000, 300, 505, 2670, 695, 555, 545, 590, 650, 650, 7120, 965, 440, 1110, 2165, 2205, 1205, 3150, 4940, 870, 1675, 830, 405, 840, 1680, 585, 1185, 810, 2775, 1230, 445, 675, 2910, 1105, 340, 675, 345, 550, 1505, 3335, 900, 1150, 6015, 405, 1640, 2080, 1575, 1075, 845, 690, 940, 1775, 870, 920, 1205, 890, 470, 400, 1425, 3470, 3865, 5370, 1085, 3655, 1290, 1880, 1800, 530, 2065, 4570, 660, 490, 960, 580, 695, 3645, 1510], \"yaxis\": \"y\"}, {\"hoverlabel\": {\"namelength\": 0}, \"hovertemplate\": \"<b>OLS trendline</b><br>Americas = 3767.596549 * percent_low + 184.622185<br>R<sup>2</sup>=0.120762<br><br>percent_low=%{x}<br>Americas=%{y} <b>(trend)</b>\", \"legendgroup\": \"\", \"marker\": {\"color\": \"#636efa\", \"symbol\": \"circle\"}, \"mode\": \"lines\", \"name\": \"\", \"showlegend\": false, \"type\": \"scatter\", \"x\": [0.09545895800000001, 0.114328746, 0.124514131, 0.126277633, 0.138139434, 0.1402588, 0.145562042, 0.148460775, 0.164412369, 0.170862892, 0.176464657, 0.18271237, 0.187639869, 0.190085725, 0.191870381, 0.205605908, 0.209444021, 0.21113323399999998, 0.21128526600000003, 0.211524435, 0.211695718, 0.217911877, 0.21821693, 0.22690891600000002, 0.23112849800000002, 0.235246953, 0.24410558699999998, 0.24715652600000002, 0.24937629, 0.259022119, 0.259375702, 0.267473791, 0.269515988, 0.272934041, 0.273269912, 0.27425866600000004, 0.274774573, 0.283534647, 0.28407015, 0.284270373, 0.285340612, 0.285535379, 0.286054211, 0.286477101, 0.290460282, 0.295564579, 0.30073094300000003, 0.302460102, 0.303703922, 0.30465788, 0.305973774, 0.307082714, 0.309152986, 0.31377471, 0.316253611, 0.320507327, 0.322509947, 0.326177775, 0.326445688, 0.32847815199999997, 0.328728483, 0.332955333, 0.334688616, 0.34247500700000005, 0.34265103700000005, 0.343569885, 0.350326166, 0.351275544, 0.354505515, 0.35786630700000005, 0.35887997899999996, 0.360812566, 0.360981161, 0.36099297799999996, 0.36132523, 0.36546075100000003, 0.368506031, 0.369993687, 0.375040298, 0.37632583799999997, 0.37811104, 0.380480905, 0.381698032, 0.384093056, 0.390837324, 0.391700134, 0.39292819700000003, 0.396991043, 0.39893617, 0.401874212, 0.40202702700000004, 0.40565297, 0.40690812, 0.407252083, 0.409392373, 0.413293409, 0.41338451299999995, 0.41649957, 0.42074979799999995, 0.42197561299999997, 0.424393984, 0.424855026, 0.425110045, 0.42610945100000003, 0.43818664, 0.43946316399999996, 0.440147182, 0.44395974299999996, 0.444275226, 0.44775210200000004, 0.45048017, 0.459835909, 0.461818182, 0.462632705, 0.46347384700000005, 0.463995795, 0.464784264, 0.466387906, 0.46985613200000004, 0.47667570299999995, 0.477294966, 0.48011064299999995, 0.480655516, 0.48396808700000005, 0.48455246700000004, 0.48578379200000005, 0.49224220799999996, 0.494664295, 0.50047555, 0.515038728, 0.5383115070000001, 0.541736427, 0.542574498, 0.554421986, 0.575342466, 0.5797200570000001, 0.591617979, 0.616495418, 0.636691947, 0.6646769], \"xaxis\": \"x\", \"y\": [544.2730253206522, 615.3667734608727, 653.741194832283, 660.385358880802, 705.0758393877063, 713.06075541437, 733.041231669569, 743.9624881154679, 804.0616586133586, 828.3646268043473, 849.469817284002, 873.0086792189842, 891.5735074442503, 900.7885060680424, 907.5123698539488, 959.2622939713369, 973.7227552629903, 980.0870283315157, 980.6598235699814, 981.5609158688959, 982.206241108517, 1005.6262203020069, 1006.7755369319245, 1039.5234333853623, 1055.4211159647855, 1070.9377928080457, 1104.3135516911022, 1115.8082589372661, 1124.171434122209, 1160.5130261702825, 1161.8451842606999, 1192.3555164267577, 1200.0496907953682, 1212.9275354808478, 1214.1929619011978, 1217.9181880589394, 1219.8619174914998, 1252.8663420587334, 1254.883901313259, 1255.6382607969945, 1259.6704895594926, 1260.4042930364592, 1262.3590426889243, 1263.9523215933307, 1278.9593405810856, 1298.190272340938, 1317.655047515768, 1324.169820996021, 1328.8560329350087, 1332.4501618032475, 1337.4079194958738, 1341.5859580123965, 1349.385907654107, 1366.7986990447475, 1376.1381978964855, 1392.1644836164962, 1399.7095478165056, 1413.5284439298932, 1414.5378320239986, 1422.1953363754021, 1423.1384825869914, 1439.0635480581293, 1445.5938591065483, 1474.9298389636238, 1475.5930489840607, 1479.0548975374809, 1504.5098385139536, 1508.0867117900002, 1520.25593938144, 1532.9180477209545, 1536.7371548494918, 1544.0183629604185, 1544.6535609005173, 1544.6980825889311, 1545.949874077372, 1561.5308487233297, 1573.0042351406255, 1578.6091227516197, 1597.6227169369738, 1602.466113003966, 1609.1920338975883, 1618.120729092061, 1622.7063725763792, 1631.7298567324165, 1657.139537571552, 1660.3902575495858, 1665.0171034697587, 1680.324268036552, 1687.652721808197, 1698.722078706822, 1699.297823973385, 1712.9589143053377, 1717.68781311322, 1718.9837269248408, 1727.0474761416858, 1741.7450059109624, 1742.0882490269191, 1753.8245270285815, 1769.8376713718305, 1774.4560477349623, 1783.5674939676182, 1785.3045142155438, 1786.2653229197524, 1790.0306815159288, 1835.532657108227, 1840.3420845247376, 1842.9191883806677, 1857.283380045313, 1858.471992707232, 1871.5714587244854, 1881.8497183054299, 1917.0983682707415, 1924.5667731837782, 1927.6355672272732, 1930.804650923294, 1932.771140406604, 1935.741773489624, 1941.7836495538954, 1954.8505258610044, 1980.543918023033, 1982.8770511644632, 1993.4853861114277, 1995.538247745613, 2008.0186788119609, 2010.2203868829886, 2014.8595227031026, 2039.1922285336486, 2048.3176751550786, 2070.2121394356845, 2125.0803186040566, 2212.762760439069, 2225.666477210047, 2228.823990617067, 2273.4605455145725, 2352.280473756083, 2368.773470498543, 2413.600040360376, 2507.3281936729463, 2583.420566625555, 2688.856578959022], \"yaxis\": \"y\"}],\n",
              "                        {\"legend\": {\"tracegroupgap\": 0}, \"margin\": {\"t\": 60}, \"template\": {\"data\": {\"bar\": [{\"error_x\": {\"color\": \"#2a3f5f\"}, \"error_y\": {\"color\": \"#2a3f5f\"}, \"marker\": {\"line\": {\"color\": \"#E5ECF6\", \"width\": 0.5}}, \"type\": \"bar\"}], \"barpolar\": [{\"marker\": {\"line\": {\"color\": \"#E5ECF6\", \"width\": 0.5}}, \"type\": \"barpolar\"}], \"carpet\": [{\"aaxis\": {\"endlinecolor\": \"#2a3f5f\", \"gridcolor\": \"white\", \"linecolor\": \"white\", \"minorgridcolor\": \"white\", \"startlinecolor\": \"#2a3f5f\"}, \"baxis\": {\"endlinecolor\": \"#2a3f5f\", \"gridcolor\": \"white\", \"linecolor\": \"white\", \"minorgridcolor\": \"white\", \"startlinecolor\": \"#2a3f5f\"}, \"type\": \"carpet\"}], \"choropleth\": [{\"colorbar\": {\"outlinewidth\": 0, \"ticks\": \"\"}, \"type\": \"choropleth\"}], \"contour\": [{\"colorbar\": {\"outlinewidth\": 0, \"ticks\": \"\"}, \"colorscale\": [[0.0, \"#0d0887\"], [0.1111111111111111, \"#46039f\"], [0.2222222222222222, \"#7201a8\"], [0.3333333333333333, \"#9c179e\"], [0.4444444444444444, \"#bd3786\"], [0.5555555555555556, \"#d8576b\"], [0.6666666666666666, \"#ed7953\"], [0.7777777777777778, \"#fb9f3a\"], [0.8888888888888888, \"#fdca26\"], [1.0, \"#f0f921\"]], \"type\": \"contour\"}], \"contourcarpet\": [{\"colorbar\": {\"outlinewidth\": 0, \"ticks\": \"\"}, \"type\": \"contourcarpet\"}], \"heatmap\": [{\"colorbar\": {\"outlinewidth\": 0, \"ticks\": \"\"}, \"colorscale\": [[0.0, \"#0d0887\"], [0.1111111111111111, \"#46039f\"], [0.2222222222222222, \"#7201a8\"], [0.3333333333333333, \"#9c179e\"], [0.4444444444444444, \"#bd3786\"], [0.5555555555555556, \"#d8576b\"], [0.6666666666666666, \"#ed7953\"], [0.7777777777777778, \"#fb9f3a\"], [0.8888888888888888, \"#fdca26\"], [1.0, \"#f0f921\"]], \"type\": \"heatmap\"}], \"heatmapgl\": [{\"colorbar\": {\"outlinewidth\": 0, \"ticks\": \"\"}, \"colorscale\": [[0.0, \"#0d0887\"], [0.1111111111111111, \"#46039f\"], [0.2222222222222222, \"#7201a8\"], [0.3333333333333333, \"#9c179e\"], [0.4444444444444444, \"#bd3786\"], [0.5555555555555556, \"#d8576b\"], [0.6666666666666666, \"#ed7953\"], [0.7777777777777778, \"#fb9f3a\"], [0.8888888888888888, \"#fdca26\"], [1.0, \"#f0f921\"]], \"type\": \"heatmapgl\"}], \"histogram\": [{\"marker\": {\"colorbar\": {\"outlinewidth\": 0, \"ticks\": \"\"}}, \"type\": \"histogram\"}], \"histogram2d\": [{\"colorbar\": {\"outlinewidth\": 0, \"ticks\": \"\"}, \"colorscale\": [[0.0, \"#0d0887\"], [0.1111111111111111, \"#46039f\"], [0.2222222222222222, \"#7201a8\"], [0.3333333333333333, \"#9c179e\"], [0.4444444444444444, \"#bd3786\"], [0.5555555555555556, \"#d8576b\"], [0.6666666666666666, \"#ed7953\"], [0.7777777777777778, \"#fb9f3a\"], [0.8888888888888888, \"#fdca26\"], [1.0, \"#f0f921\"]], \"type\": \"histogram2d\"}], \"histogram2dcontour\": [{\"colorbar\": {\"outlinewidth\": 0, \"ticks\": \"\"}, \"colorscale\": [[0.0, \"#0d0887\"], [0.1111111111111111, \"#46039f\"], [0.2222222222222222, \"#7201a8\"], [0.3333333333333333, \"#9c179e\"], [0.4444444444444444, \"#bd3786\"], [0.5555555555555556, \"#d8576b\"], [0.6666666666666666, \"#ed7953\"], [0.7777777777777778, \"#fb9f3a\"], [0.8888888888888888, \"#fdca26\"], [1.0, \"#f0f921\"]], \"type\": \"histogram2dcontour\"}], \"mesh3d\": [{\"colorbar\": {\"outlinewidth\": 0, \"ticks\": \"\"}, \"type\": \"mesh3d\"}], \"parcoords\": [{\"line\": {\"colorbar\": {\"outlinewidth\": 0, \"ticks\": \"\"}}, \"type\": \"parcoords\"}], \"pie\": [{\"automargin\": true, \"type\": \"pie\"}], \"scatter\": [{\"marker\": {\"colorbar\": {\"outlinewidth\": 0, \"ticks\": \"\"}}, \"type\": \"scatter\"}], \"scatter3d\": [{\"line\": {\"colorbar\": {\"outlinewidth\": 0, \"ticks\": \"\"}}, \"marker\": {\"colorbar\": {\"outlinewidth\": 0, \"ticks\": \"\"}}, \"type\": \"scatter3d\"}], \"scattercarpet\": [{\"marker\": {\"colorbar\": {\"outlinewidth\": 0, \"ticks\": \"\"}}, \"type\": \"scattercarpet\"}], \"scattergeo\": [{\"marker\": {\"colorbar\": {\"outlinewidth\": 0, \"ticks\": \"\"}}, \"type\": \"scattergeo\"}], \"scattergl\": [{\"marker\": {\"colorbar\": {\"outlinewidth\": 0, \"ticks\": \"\"}}, \"type\": \"scattergl\"}], \"scattermapbox\": [{\"marker\": {\"colorbar\": {\"outlinewidth\": 0, \"ticks\": \"\"}}, \"type\": \"scattermapbox\"}], \"scatterpolar\": [{\"marker\": {\"colorbar\": {\"outlinewidth\": 0, \"ticks\": \"\"}}, \"type\": \"scatterpolar\"}], \"scatterpolargl\": [{\"marker\": {\"colorbar\": {\"outlinewidth\": 0, \"ticks\": \"\"}}, \"type\": \"scatterpolargl\"}], \"scatterternary\": [{\"marker\": {\"colorbar\": {\"outlinewidth\": 0, \"ticks\": \"\"}}, \"type\": \"scatterternary\"}], \"surface\": [{\"colorbar\": {\"outlinewidth\": 0, \"ticks\": \"\"}, \"colorscale\": [[0.0, \"#0d0887\"], [0.1111111111111111, \"#46039f\"], [0.2222222222222222, \"#7201a8\"], [0.3333333333333333, \"#9c179e\"], [0.4444444444444444, \"#bd3786\"], [0.5555555555555556, \"#d8576b\"], [0.6666666666666666, \"#ed7953\"], [0.7777777777777778, \"#fb9f3a\"], [0.8888888888888888, \"#fdca26\"], [1.0, \"#f0f921\"]], \"type\": \"surface\"}], \"table\": [{\"cells\": {\"fill\": {\"color\": \"#EBF0F8\"}, \"line\": {\"color\": \"white\"}}, \"header\": {\"fill\": {\"color\": \"#C8D4E3\"}, \"line\": {\"color\": \"white\"}}, \"type\": \"table\"}]}, \"layout\": {\"annotationdefaults\": {\"arrowcolor\": \"#2a3f5f\", \"arrowhead\": 0, \"arrowwidth\": 1}, \"coloraxis\": {\"colorbar\": {\"outlinewidth\": 0, \"ticks\": \"\"}}, \"colorscale\": {\"diverging\": [[0, \"#8e0152\"], [0.1, \"#c51b7d\"], [0.2, \"#de77ae\"], [0.3, \"#f1b6da\"], [0.4, \"#fde0ef\"], [0.5, \"#f7f7f7\"], [0.6, \"#e6f5d0\"], [0.7, \"#b8e186\"], [0.8, \"#7fbc41\"], [0.9, \"#4d9221\"], [1, \"#276419\"]], \"sequential\": [[0.0, \"#0d0887\"], [0.1111111111111111, \"#46039f\"], [0.2222222222222222, \"#7201a8\"], [0.3333333333333333, \"#9c179e\"], [0.4444444444444444, \"#bd3786\"], [0.5555555555555556, \"#d8576b\"], [0.6666666666666666, \"#ed7953\"], [0.7777777777777778, \"#fb9f3a\"], [0.8888888888888888, \"#fdca26\"], [1.0, \"#f0f921\"]], \"sequentialminus\": [[0.0, \"#0d0887\"], [0.1111111111111111, \"#46039f\"], [0.2222222222222222, \"#7201a8\"], [0.3333333333333333, \"#9c179e\"], [0.4444444444444444, \"#bd3786\"], [0.5555555555555556, \"#d8576b\"], [0.6666666666666666, \"#ed7953\"], [0.7777777777777778, \"#fb9f3a\"], [0.8888888888888888, \"#fdca26\"], [1.0, \"#f0f921\"]]}, \"colorway\": [\"#636efa\", \"#EF553B\", \"#00cc96\", \"#ab63fa\", \"#FFA15A\", \"#19d3f3\", \"#FF6692\", \"#B6E880\", \"#FF97FF\", \"#FECB52\"], \"font\": {\"color\": \"#2a3f5f\"}, \"geo\": {\"bgcolor\": \"white\", \"lakecolor\": \"white\", \"landcolor\": \"#E5ECF6\", \"showlakes\": true, \"showland\": true, \"subunitcolor\": \"white\"}, \"hoverlabel\": {\"align\": \"left\"}, \"hovermode\": \"closest\", \"mapbox\": {\"style\": \"light\"}, \"paper_bgcolor\": \"white\", \"plot_bgcolor\": \"#E5ECF6\", \"polar\": {\"angularaxis\": {\"gridcolor\": \"white\", \"linecolor\": \"white\", \"ticks\": \"\"}, \"bgcolor\": \"#E5ECF6\", \"radialaxis\": {\"gridcolor\": \"white\", \"linecolor\": \"white\", \"ticks\": \"\"}}, \"scene\": {\"xaxis\": {\"backgroundcolor\": \"#E5ECF6\", \"gridcolor\": \"white\", \"gridwidth\": 2, \"linecolor\": \"white\", \"showbackground\": true, \"ticks\": \"\", \"zerolinecolor\": \"white\"}, \"yaxis\": {\"backgroundcolor\": \"#E5ECF6\", \"gridcolor\": \"white\", \"gridwidth\": 2, \"linecolor\": \"white\", \"showbackground\": true, \"ticks\": \"\", \"zerolinecolor\": \"white\"}, \"zaxis\": {\"backgroundcolor\": \"#E5ECF6\", \"gridcolor\": \"white\", \"gridwidth\": 2, \"linecolor\": \"white\", \"showbackground\": true, \"ticks\": \"\", \"zerolinecolor\": \"white\"}}, \"shapedefaults\": {\"line\": {\"color\": \"#2a3f5f\"}}, \"ternary\": {\"aaxis\": {\"gridcolor\": \"white\", \"linecolor\": \"white\", \"ticks\": \"\"}, \"baxis\": {\"gridcolor\": \"white\", \"linecolor\": \"white\", \"ticks\": \"\"}, \"bgcolor\": \"#E5ECF6\", \"caxis\": {\"gridcolor\": \"white\", \"linecolor\": \"white\", \"ticks\": \"\"}}, \"title\": {\"x\": 0.05}, \"xaxis\": {\"automargin\": true, \"gridcolor\": \"white\", \"linecolor\": \"white\", \"ticks\": \"\", \"title\": {\"standoff\": 15}, \"zerolinecolor\": \"white\", \"zerolinewidth\": 2}, \"yaxis\": {\"automargin\": true, \"gridcolor\": \"white\", \"linecolor\": \"white\", \"ticks\": \"\", \"title\": {\"standoff\": 15}, \"zerolinecolor\": \"white\", \"zerolinewidth\": 2}}}, \"xaxis\": {\"anchor\": \"y\", \"domain\": [0.0, 1.0], \"title\": {\"text\": \"percent_low\"}}, \"yaxis\": {\"anchor\": \"x\", \"domain\": [0.0, 1.0], \"title\": {\"text\": \"Americas\"}}},\n",
              "                        {\"responsive\": true}\n",
              "                    ).then(function(){\n",
              "                            \n",
              "var gd = document.getElementById('20d7bfdc-f545-4bec-89bf-dbfa3795a51f');\n",
              "var x = new MutationObserver(function (mutations, observer) {{\n",
              "        var display = window.getComputedStyle(gd).display;\n",
              "        if (!display || display === 'none') {{\n",
              "            console.log([gd, 'removed!']);\n",
              "            Plotly.purge(gd);\n",
              "            observer.disconnect();\n",
              "        }}\n",
              "}});\n",
              "\n",
              "// Listen for the removal of the full notebook cells\n",
              "var notebookContainer = gd.closest('#notebook-container');\n",
              "if (notebookContainer) {{\n",
              "    x.observe(notebookContainer, {childList: true});\n",
              "}}\n",
              "\n",
              "// Listen for the clearing of the current output cell\n",
              "var outputEl = gd.closest('.output');\n",
              "if (outputEl) {{\n",
              "    x.observe(outputEl, {childList: true});\n",
              "}}\n",
              "\n",
              "                        })\n",
              "                };\n",
              "                \n",
              "            </script>\n",
              "        </div>\n",
              "</body>\n",
              "</html>"
            ]
          },
          "metadata": {
            "tags": []
          }
        }
      ]
    },
    {
      "cell_type": "markdown",
      "metadata": {
        "id": "eL_IiB6Qy11C"
      },
      "source": [
        "**Graph 2 Key Takeaway:** I then wanted to flub \"Americas\" a bit so that it felt more \"white immigrants\" (even though it's mostly South America) and see whether I could make something out of it. Even though the more a neighbourhood has families from teh Americas the higher the percentage of low income households there are, it doesn't really fit well with the \"American immigrant\" narrative and I abandoned it as well."
      ]
    },
    {
      "cell_type": "code",
      "metadata": {
        "colab": {
          "base_uri": "https://localhost:8080/",
          "height": 542
        },
        "id": "NlYV7J0KAa_C",
        "outputId": "6f17e6ab-168c-4c79-9244-4eadd2daef8e"
      },
      "source": [
        "fig8 = px.scatter(df2, x=\"low_income\", y=\"Europe\", trendline=\"ols\")\n",
        "fig8.show()"
      ],
      "execution_count": 16,
      "outputs": [
        {
          "output_type": "display_data",
          "data": {
            "text/html": [
              "<html>\n",
              "<head><meta charset=\"utf-8\" /></head>\n",
              "<body>\n",
              "    <div>\n",
              "            <script src=\"https://cdnjs.cloudflare.com/ajax/libs/mathjax/2.7.5/MathJax.js?config=TeX-AMS-MML_SVG\"></script><script type=\"text/javascript\">if (window.MathJax) {MathJax.Hub.Config({SVG: {font: \"STIX-Web\"}});}</script>\n",
              "                <script type=\"text/javascript\">window.PlotlyConfig = {MathJaxConfig: 'local'};</script>\n",
              "        <script src=\"https://cdn.plot.ly/plotly-latest.min.js\"></script>    \n",
              "            <div id=\"784d29e3-58f2-4a0e-9115-a8a5f705e0b0\" class=\"plotly-graph-div\" style=\"height:525px; width:100%;\"></div>\n",
              "            <script type=\"text/javascript\">\n",
              "                \n",
              "                    window.PLOTLYENV=window.PLOTLYENV || {};\n",
              "                    \n",
              "                if (document.getElementById(\"784d29e3-58f2-4a0e-9115-a8a5f705e0b0\")) {\n",
              "                    Plotly.newPlot(\n",
              "                        '784d29e3-58f2-4a0e-9115-a8a5f705e0b0',\n",
              "                        [{\"hoverlabel\": {\"namelength\": 0}, \"hovertemplate\": \"low_income=%{x}<br>Europe=%{y}\", \"legendgroup\": \"\", \"marker\": {\"color\": \"#636efa\", \"symbol\": \"circle\"}, \"mode\": \"markers\", \"name\": \"\", \"showlegend\": false, \"type\": \"scatter\", \"x\": [12925, 10410, 2545, 8745, 6845, 5285, 12500, 7585, 4160, 4360, 3195, 12385, 6125, 12860, 3020, 5275, 1280, 4565, 8535, 3740, 3270, 2320, 1945, 11850, 9750, 5040, 5000, 4340, 2765, 4450, 11180, 11005, 13385, 14275, 4435, 6610, 3390, 10935, 4395, 8925, 3935, 4240, 12715, 3785, 2040, 15260, 4940, 1750, 7230, 6300, 5055, 2835, 6110, 3110, 5275, 7250, 4320, 6145, 12545, 3940, 4345, 7945, 9660, 10160, 885, 2280, 19545, 4695, 1670, 1890, 2125, 5075, 3375, 18480, 3650, 2025, 12860, 10315, 7270, 8395, 6300, 17880, 3065, 9565, 4650, 6550, 11025, 7335, 2450, 10710, 8815, 8070, 7315, 2520, 4545, 13285, 2930, 1905, 5710, 1550, 6660, 3880, 9360, 5260, 3440, 11595, 1495, 5120, 9060, 10755, 9100, 4620, 11025, 5790, 11695, 8695, 3685, 4165, 14030, 5800, 2730, 7695, 17630, 11625, 11445, 12345, 8900, 4460, 10470, 21440, 6505, 6750, 25495, 3380, 2230, 4340, 2475, 2730, 13170, 5070], \"xaxis\": \"x\", \"y\": [675, 1075, 2380, 2895, 3495, 3160, 1575, 1650, 1145, 2085, 1095, 1885, 2215, 1580, 580, 3325, 895, 2435, 2100, 1290, 2775, 1175, 1375, 2685, 2100, 2295, 1425, 3630, 1345, 2620, 2535, 1255, 6490, 5420, 2080, 1615, 3590, 1255, 975, 2610, 4505, 2520, 1750, 1760, 1095, 3360, 940, 1185, 910, 4065, 3730, 910, 1320, 2800, 1965, 1380, 1410, 915, 8325, 1855, 3045, 1125, 860, 2870, 1095, 1280, 2385, 1785, 1295, 1225, 1435, 2410, 1855, 1060, 2185, 2725, 245, 5990, 955, 1325, 1395, 1400, 1830, 3775, 1660, 1275, 4035, 2695, 1085, 1065, 590, 3655, 2245, 1445, 2115, 3755, 1980, 840, 2085, 1805, 395, 1340, 4195, 1815, 2205, 1685, 1335, 1720, 965, 1835, 1390, 1660, 755, 5520, 1620, 1205, 2240, 1140, 1285, 2770, 600, 1830, 5390, 2025, 1795, 7105, 1730, 2545, 2890, 3035, 2020, 3915, 2890, 920, 720, 1935, 1065, 1420, 2925, 3090], \"yaxis\": \"y\"}, {\"hoverlabel\": {\"namelength\": 0}, \"hovertemplate\": \"<b>OLS trendline</b><br>Europe = 0.084910 * low_income + 1528.157186<br>R<sup>2</sup>=0.083271<br><br>low_income=%{x}<br>Europe=%{y} <b>(trend)</b>\", \"legendgroup\": \"\", \"marker\": {\"color\": \"#636efa\", \"symbol\": \"circle\"}, \"mode\": \"lines\", \"name\": \"\", \"showlegend\": false, \"type\": \"scatter\", \"x\": [885, 1280, 1495, 1550, 1670, 1750, 1890, 1905, 1945, 2025, 2040, 2125, 2230, 2280, 2320, 2450, 2475, 2520, 2545, 2730, 2730, 2765, 2835, 2930, 3020, 3065, 3110, 3195, 3270, 3375, 3380, 3390, 3440, 3650, 3685, 3740, 3785, 3880, 3935, 3940, 4160, 4165, 4240, 4320, 4340, 4340, 4345, 4360, 4395, 4435, 4450, 4460, 4545, 4565, 4620, 4650, 4695, 4940, 5000, 5040, 5055, 5070, 5075, 5120, 5260, 5275, 5275, 5285, 5710, 5790, 5800, 6110, 6125, 6145, 6300, 6300, 6505, 6550, 6610, 6660, 6750, 6845, 7230, 7250, 7270, 7315, 7335, 7585, 7695, 7945, 8070, 8395, 8535, 8695, 8745, 8815, 8900, 8925, 9060, 9100, 9360, 9565, 9660, 9750, 10160, 10315, 10410, 10470, 10710, 10755, 10935, 11005, 11025, 11025, 11180, 11445, 11595, 11625, 11695, 11850, 12345, 12385, 12500, 12545, 12715, 12860, 12860, 12925, 13170, 13285, 13385, 14030, 14275, 15260, 17630, 17880, 18480, 19545, 21440, 25495], \"xaxis\": \"x\", \"y\": [1603.3027077084662, 1636.8422343626976, 1655.0979260858867, 1659.7679867592608, 1669.9572100466223, 1676.75002557153, 1688.6374527401183, 1689.9111056510385, 1693.3075134134922, 1700.1003289383998, 1701.37398184932, 1708.5913483445345, 1717.5069187209756, 1721.752428424043, 1725.1488361864967, 1736.1871614144716, 1738.3099162660053, 1742.1308749987659, 1744.2536298502994, 1759.9620157516483, 1759.9620157516483, 1762.9338725437956, 1768.8775861280897, 1776.9440545639175, 1784.5859720294386, 1788.406930762199, 1792.2278894949595, 1799.445255990174, 1805.813520544775, 1814.729090921216, 1815.153641891523, 1816.0027438321363, 1820.2482535352037, 1838.0793942880862, 1841.0512510802332, 1845.7213117536073, 1849.5422704863677, 1857.6087389221957, 1862.2787995955696, 1862.7033505658765, 1881.3835932593724, 1881.808144229679, 1888.1764087842798, 1894.9692243091877, 1896.6674281904145, 1896.6674281904145, 1897.0919791607212, 1898.3656320716414, 1901.3374888637886, 1904.7338966262423, 1906.0075495371625, 1906.856651477776, 1914.0740179729903, 1915.7722218542172, 1920.4422825275913, 1922.9895883494316, 1926.8105470821922, 1947.6135446272217, 1952.7081562709025, 1956.1045640333564, 1957.3782169442766, 1958.6518698551968, 1959.0764208255034, 1962.897379558264, 1974.7848067268524, 1976.0584596377726, 1976.0584596377726, 1976.9075615783859, 2012.9943940544576, 2019.7872095793655, 2020.6363115199788, 2046.958471678996, 2048.232124589916, 2049.930328471143, 2063.0914085506515, 2063.0914085506515, 2080.4979983332273, 2084.318957065988, 2089.4135687096687, 2093.6590784127357, 2101.300995878257, 2109.367464314085, 2142.057889027703, 2143.7560929089295, 2145.4542967901566, 2149.275255522917, 2150.973459404144, 2172.2010079194806, 2181.5411292662284, 2202.7686777815647, 2213.3824520392327, 2240.97826510917, 2252.8656922777586, 2266.451323327574, 2270.696833030641, 2276.6405466149354, 2283.8579131101496, 2285.980667961683, 2297.443544159965, 2300.8399519224185, 2322.9166023783687, 2340.3231921609445, 2348.389660596772, 2356.031578062293, 2390.844757627445, 2404.0058377069536, 2412.072306142781, 2417.166917786462, 2437.545364361185, 2441.3663230939455, 2456.650158024988, 2462.593871609282, 2464.2920754905085, 2464.2920754905085, 2477.4531555700173, 2499.954356996274, 2512.6908861054753, 2515.2381919273157, 2521.1819055116102, 2534.3429855911186, 2576.373531651485, 2579.769939413938, 2589.534611730993, 2593.355570463754, 2607.7903034541823, 2620.1022815930774, 2620.1022815930774, 2625.621444207065, 2646.4244417520945, 2656.1891140691496, 2664.6801334752836, 2719.4472086448513, 2740.2502061898813, 2823.8867473403066, 3025.1239072656954, 3046.3514557810313, 3097.297572217839, 3187.7269288931716, 3348.631746639421, 3692.942583558177], \"yaxis\": \"y\"}],\n",
              "                        {\"legend\": {\"tracegroupgap\": 0}, \"margin\": {\"t\": 60}, \"template\": {\"data\": {\"bar\": [{\"error_x\": {\"color\": \"#2a3f5f\"}, \"error_y\": {\"color\": \"#2a3f5f\"}, \"marker\": {\"line\": {\"color\": \"#E5ECF6\", \"width\": 0.5}}, \"type\": \"bar\"}], \"barpolar\": [{\"marker\": {\"line\": {\"color\": \"#E5ECF6\", \"width\": 0.5}}, \"type\": \"barpolar\"}], \"carpet\": [{\"aaxis\": {\"endlinecolor\": \"#2a3f5f\", \"gridcolor\": \"white\", \"linecolor\": \"white\", \"minorgridcolor\": \"white\", \"startlinecolor\": \"#2a3f5f\"}, \"baxis\": {\"endlinecolor\": \"#2a3f5f\", \"gridcolor\": \"white\", \"linecolor\": \"white\", \"minorgridcolor\": \"white\", \"startlinecolor\": \"#2a3f5f\"}, \"type\": \"carpet\"}], \"choropleth\": [{\"colorbar\": {\"outlinewidth\": 0, \"ticks\": \"\"}, \"type\": \"choropleth\"}], \"contour\": [{\"colorbar\": {\"outlinewidth\": 0, \"ticks\": \"\"}, \"colorscale\": [[0.0, \"#0d0887\"], [0.1111111111111111, \"#46039f\"], [0.2222222222222222, \"#7201a8\"], [0.3333333333333333, \"#9c179e\"], [0.4444444444444444, \"#bd3786\"], [0.5555555555555556, \"#d8576b\"], [0.6666666666666666, \"#ed7953\"], [0.7777777777777778, \"#fb9f3a\"], [0.8888888888888888, \"#fdca26\"], [1.0, \"#f0f921\"]], \"type\": \"contour\"}], \"contourcarpet\": [{\"colorbar\": {\"outlinewidth\": 0, \"ticks\": \"\"}, \"type\": \"contourcarpet\"}], \"heatmap\": [{\"colorbar\": {\"outlinewidth\": 0, \"ticks\": \"\"}, \"colorscale\": [[0.0, \"#0d0887\"], [0.1111111111111111, \"#46039f\"], [0.2222222222222222, \"#7201a8\"], [0.3333333333333333, \"#9c179e\"], [0.4444444444444444, \"#bd3786\"], [0.5555555555555556, \"#d8576b\"], [0.6666666666666666, \"#ed7953\"], [0.7777777777777778, \"#fb9f3a\"], [0.8888888888888888, \"#fdca26\"], [1.0, \"#f0f921\"]], \"type\": \"heatmap\"}], \"heatmapgl\": [{\"colorbar\": {\"outlinewidth\": 0, \"ticks\": \"\"}, \"colorscale\": [[0.0, \"#0d0887\"], [0.1111111111111111, \"#46039f\"], [0.2222222222222222, \"#7201a8\"], [0.3333333333333333, \"#9c179e\"], [0.4444444444444444, \"#bd3786\"], [0.5555555555555556, \"#d8576b\"], [0.6666666666666666, \"#ed7953\"], [0.7777777777777778, \"#fb9f3a\"], [0.8888888888888888, \"#fdca26\"], [1.0, \"#f0f921\"]], \"type\": \"heatmapgl\"}], \"histogram\": [{\"marker\": {\"colorbar\": {\"outlinewidth\": 0, \"ticks\": \"\"}}, \"type\": \"histogram\"}], \"histogram2d\": [{\"colorbar\": {\"outlinewidth\": 0, \"ticks\": \"\"}, \"colorscale\": [[0.0, \"#0d0887\"], [0.1111111111111111, \"#46039f\"], [0.2222222222222222, \"#7201a8\"], [0.3333333333333333, \"#9c179e\"], [0.4444444444444444, \"#bd3786\"], [0.5555555555555556, \"#d8576b\"], [0.6666666666666666, \"#ed7953\"], [0.7777777777777778, \"#fb9f3a\"], [0.8888888888888888, \"#fdca26\"], [1.0, \"#f0f921\"]], \"type\": \"histogram2d\"}], \"histogram2dcontour\": [{\"colorbar\": {\"outlinewidth\": 0, \"ticks\": \"\"}, \"colorscale\": [[0.0, \"#0d0887\"], [0.1111111111111111, \"#46039f\"], [0.2222222222222222, \"#7201a8\"], [0.3333333333333333, \"#9c179e\"], [0.4444444444444444, \"#bd3786\"], [0.5555555555555556, \"#d8576b\"], [0.6666666666666666, \"#ed7953\"], [0.7777777777777778, \"#fb9f3a\"], [0.8888888888888888, \"#fdca26\"], [1.0, \"#f0f921\"]], \"type\": \"histogram2dcontour\"}], \"mesh3d\": [{\"colorbar\": {\"outlinewidth\": 0, \"ticks\": \"\"}, \"type\": \"mesh3d\"}], \"parcoords\": [{\"line\": {\"colorbar\": {\"outlinewidth\": 0, \"ticks\": \"\"}}, \"type\": \"parcoords\"}], \"pie\": [{\"automargin\": true, \"type\": \"pie\"}], \"scatter\": [{\"marker\": {\"colorbar\": {\"outlinewidth\": 0, \"ticks\": \"\"}}, \"type\": \"scatter\"}], \"scatter3d\": [{\"line\": {\"colorbar\": {\"outlinewidth\": 0, \"ticks\": \"\"}}, \"marker\": {\"colorbar\": {\"outlinewidth\": 0, \"ticks\": \"\"}}, \"type\": \"scatter3d\"}], \"scattercarpet\": [{\"marker\": {\"colorbar\": {\"outlinewidth\": 0, \"ticks\": \"\"}}, \"type\": \"scattercarpet\"}], \"scattergeo\": [{\"marker\": {\"colorbar\": {\"outlinewidth\": 0, \"ticks\": \"\"}}, \"type\": \"scattergeo\"}], \"scattergl\": [{\"marker\": {\"colorbar\": {\"outlinewidth\": 0, \"ticks\": \"\"}}, \"type\": \"scattergl\"}], \"scattermapbox\": [{\"marker\": {\"colorbar\": {\"outlinewidth\": 0, \"ticks\": \"\"}}, \"type\": \"scattermapbox\"}], \"scatterpolar\": [{\"marker\": {\"colorbar\": {\"outlinewidth\": 0, \"ticks\": \"\"}}, \"type\": \"scatterpolar\"}], \"scatterpolargl\": [{\"marker\": {\"colorbar\": {\"outlinewidth\": 0, \"ticks\": \"\"}}, \"type\": \"scatterpolargl\"}], \"scatterternary\": [{\"marker\": {\"colorbar\": {\"outlinewidth\": 0, \"ticks\": \"\"}}, \"type\": \"scatterternary\"}], \"surface\": [{\"colorbar\": {\"outlinewidth\": 0, \"ticks\": \"\"}, \"colorscale\": [[0.0, \"#0d0887\"], [0.1111111111111111, \"#46039f\"], [0.2222222222222222, \"#7201a8\"], [0.3333333333333333, \"#9c179e\"], [0.4444444444444444, \"#bd3786\"], [0.5555555555555556, \"#d8576b\"], [0.6666666666666666, \"#ed7953\"], [0.7777777777777778, \"#fb9f3a\"], [0.8888888888888888, \"#fdca26\"], [1.0, \"#f0f921\"]], \"type\": \"surface\"}], \"table\": [{\"cells\": {\"fill\": {\"color\": \"#EBF0F8\"}, \"line\": {\"color\": \"white\"}}, \"header\": {\"fill\": {\"color\": \"#C8D4E3\"}, \"line\": {\"color\": \"white\"}}, \"type\": \"table\"}]}, \"layout\": {\"annotationdefaults\": {\"arrowcolor\": \"#2a3f5f\", \"arrowhead\": 0, \"arrowwidth\": 1}, \"coloraxis\": {\"colorbar\": {\"outlinewidth\": 0, \"ticks\": \"\"}}, \"colorscale\": {\"diverging\": [[0, \"#8e0152\"], [0.1, \"#c51b7d\"], [0.2, \"#de77ae\"], [0.3, \"#f1b6da\"], [0.4, \"#fde0ef\"], [0.5, \"#f7f7f7\"], [0.6, \"#e6f5d0\"], [0.7, \"#b8e186\"], [0.8, \"#7fbc41\"], [0.9, \"#4d9221\"], [1, \"#276419\"]], \"sequential\": [[0.0, \"#0d0887\"], [0.1111111111111111, \"#46039f\"], [0.2222222222222222, \"#7201a8\"], [0.3333333333333333, \"#9c179e\"], [0.4444444444444444, \"#bd3786\"], [0.5555555555555556, \"#d8576b\"], [0.6666666666666666, \"#ed7953\"], [0.7777777777777778, \"#fb9f3a\"], [0.8888888888888888, \"#fdca26\"], [1.0, \"#f0f921\"]], \"sequentialminus\": [[0.0, \"#0d0887\"], [0.1111111111111111, \"#46039f\"], [0.2222222222222222, \"#7201a8\"], [0.3333333333333333, \"#9c179e\"], [0.4444444444444444, \"#bd3786\"], [0.5555555555555556, \"#d8576b\"], [0.6666666666666666, \"#ed7953\"], [0.7777777777777778, \"#fb9f3a\"], [0.8888888888888888, \"#fdca26\"], [1.0, \"#f0f921\"]]}, \"colorway\": [\"#636efa\", \"#EF553B\", \"#00cc96\", \"#ab63fa\", \"#FFA15A\", \"#19d3f3\", \"#FF6692\", \"#B6E880\", \"#FF97FF\", \"#FECB52\"], \"font\": {\"color\": \"#2a3f5f\"}, \"geo\": {\"bgcolor\": \"white\", \"lakecolor\": \"white\", \"landcolor\": \"#E5ECF6\", \"showlakes\": true, \"showland\": true, \"subunitcolor\": \"white\"}, \"hoverlabel\": {\"align\": \"left\"}, \"hovermode\": \"closest\", \"mapbox\": {\"style\": \"light\"}, \"paper_bgcolor\": \"white\", \"plot_bgcolor\": \"#E5ECF6\", \"polar\": {\"angularaxis\": {\"gridcolor\": \"white\", \"linecolor\": \"white\", \"ticks\": \"\"}, \"bgcolor\": \"#E5ECF6\", \"radialaxis\": {\"gridcolor\": \"white\", \"linecolor\": \"white\", \"ticks\": \"\"}}, \"scene\": {\"xaxis\": {\"backgroundcolor\": \"#E5ECF6\", \"gridcolor\": \"white\", \"gridwidth\": 2, \"linecolor\": \"white\", \"showbackground\": true, \"ticks\": \"\", \"zerolinecolor\": \"white\"}, \"yaxis\": {\"backgroundcolor\": \"#E5ECF6\", \"gridcolor\": \"white\", \"gridwidth\": 2, \"linecolor\": \"white\", \"showbackground\": true, \"ticks\": \"\", \"zerolinecolor\": \"white\"}, \"zaxis\": {\"backgroundcolor\": \"#E5ECF6\", \"gridcolor\": \"white\", \"gridwidth\": 2, \"linecolor\": \"white\", \"showbackground\": true, \"ticks\": \"\", \"zerolinecolor\": \"white\"}}, \"shapedefaults\": {\"line\": {\"color\": \"#2a3f5f\"}}, \"ternary\": {\"aaxis\": {\"gridcolor\": \"white\", \"linecolor\": \"white\", \"ticks\": \"\"}, \"baxis\": {\"gridcolor\": \"white\", \"linecolor\": \"white\", \"ticks\": \"\"}, \"bgcolor\": \"#E5ECF6\", \"caxis\": {\"gridcolor\": \"white\", \"linecolor\": \"white\", \"ticks\": \"\"}}, \"title\": {\"x\": 0.05}, \"xaxis\": {\"automargin\": true, \"gridcolor\": \"white\", \"linecolor\": \"white\", \"ticks\": \"\", \"title\": {\"standoff\": 15}, \"zerolinecolor\": \"white\", \"zerolinewidth\": 2}, \"yaxis\": {\"automargin\": true, \"gridcolor\": \"white\", \"linecolor\": \"white\", \"ticks\": \"\", \"title\": {\"standoff\": 15}, \"zerolinecolor\": \"white\", \"zerolinewidth\": 2}}}, \"xaxis\": {\"anchor\": \"y\", \"domain\": [0.0, 1.0], \"title\": {\"text\": \"low_income\"}}, \"yaxis\": {\"anchor\": \"x\", \"domain\": [0.0, 1.0], \"title\": {\"text\": \"Europe\"}}},\n",
              "                        {\"responsive\": true}\n",
              "                    ).then(function(){\n",
              "                            \n",
              "var gd = document.getElementById('784d29e3-58f2-4a0e-9115-a8a5f705e0b0');\n",
              "var x = new MutationObserver(function (mutations, observer) {{\n",
              "        var display = window.getComputedStyle(gd).display;\n",
              "        if (!display || display === 'none') {{\n",
              "            console.log([gd, 'removed!']);\n",
              "            Plotly.purge(gd);\n",
              "            observer.disconnect();\n",
              "        }}\n",
              "}});\n",
              "\n",
              "// Listen for the removal of the full notebook cells\n",
              "var notebookContainer = gd.closest('#notebook-container');\n",
              "if (notebookContainer) {{\n",
              "    x.observe(notebookContainer, {childList: true});\n",
              "}}\n",
              "\n",
              "// Listen for the clearing of the current output cell\n",
              "var outputEl = gd.closest('.output');\n",
              "if (outputEl) {{\n",
              "    x.observe(outputEl, {childList: true});\n",
              "}}\n",
              "\n",
              "                        })\n",
              "                };\n",
              "                \n",
              "            </script>\n",
              "        </div>\n",
              "</body>\n",
              "</html>"
            ]
          },
          "metadata": {
            "tags": []
          }
        }
      ]
    },
    {
      "cell_type": "markdown",
      "metadata": {
        "id": "A1q50iWQzP-2"
      },
      "source": [
        "**Graph 3 Key Takeaway:** Like graph 2, this time I looked at immigrants from Europe. No substantial results and honestly, just wanted inflammatory enough."
      ]
    },
    {
      "cell_type": "markdown",
      "metadata": {
        "id": "ymG_82yizb8w"
      },
      "source": [
        "**Graph 4. The Graph I landed on**\n",
        "\n",
        "So finally I decided to use a combination percentage of households with mid plus income with percentage of Asian immigrants in a household. I get to flub the distinction a bit by covering all of Asia, and then show that Asian immigrants are well off. This would fit well into COVID and feed into the Trump China flu discourse. To make it even more obvious, I cut off the outliers on the side of the graph. So my graph went from this:"
      ]
    },
    {
      "cell_type": "code",
      "metadata": {
        "colab": {
          "base_uri": "https://localhost:8080/",
          "height": 542
        },
        "id": "zHGbPGtGz1w4",
        "outputId": "7fc7ef2d-c223-4ff4-a03b-07d1f2976705"
      },
      "source": [
        "# Original Graph\n",
        "\n",
        "fig9_original = px.scatter(df2, x=\"midplus_income\", y=\"Asia\", trendline=\"ols\")\n",
        "fig9_original.show()"
      ],
      "execution_count": 20,
      "outputs": [
        {
          "output_type": "display_data",
          "data": {
            "text/html": [
              "<html>\n",
              "<head><meta charset=\"utf-8\" /></head>\n",
              "<body>\n",
              "    <div>\n",
              "            <script src=\"https://cdnjs.cloudflare.com/ajax/libs/mathjax/2.7.5/MathJax.js?config=TeX-AMS-MML_SVG\"></script><script type=\"text/javascript\">if (window.MathJax) {MathJax.Hub.Config({SVG: {font: \"STIX-Web\"}});}</script>\n",
              "                <script type=\"text/javascript\">window.PlotlyConfig = {MathJaxConfig: 'local'};</script>\n",
              "        <script src=\"https://cdn.plot.ly/plotly-latest.min.js\"></script>    \n",
              "            <div id=\"e47b3a19-1585-46b3-88d3-df48612816b1\" class=\"plotly-graph-div\" style=\"height:525px; width:100%;\"></div>\n",
              "            <script type=\"text/javascript\">\n",
              "                \n",
              "                    window.PLOTLYENV=window.PLOTLYENV || {};\n",
              "                    \n",
              "                if (document.getElementById(\"e47b3a19-1585-46b3-88d3-df48612816b1\")) {\n",
              "                    Plotly.newPlot(\n",
              "                        'e47b3a19-1585-46b3-88d3-df48612816b1',\n",
              "                        [{\"hoverlabel\": {\"namelength\": 0}, \"hovertemplate\": \"midplus_income=%{x}<br>Asia=%{y}\", \"legendgroup\": \"\", \"marker\": {\"color\": \"#636efa\", \"symbol\": \"circle\"}, \"mode\": \"markers\", \"name\": \"\", \"showlegend\": false, \"type\": \"scatter\", \"x\": [15880, 13065, 9490, 19935, 20165, 10300, 13095, 13565, 8505, 18755, 3180, 16725, 15565, 8705, 4655, 8945, 7915, 6770, 9165, 7255, 6640, 8470, 11395, 18480, 16550, 11375, 10805, 9745, 6830, 12620, 15650, 13385, 22910, 20665, 7280, 14400, 11815, 11330, 5050, 12980, 14595, 7220, 9190, 8885, 8570, 14960, 9435, 7910, 8485, 15520, 18280, 9620, 10795, 6990, 7130, 8270, 9915, 7470, 30685, 10135, 6670, 9150, 7795, 11830, 8285, 5690, 23935, 11380, 12890, 13200, 14515, 9970, 6680, 25295, 6200, 8430, 13185, 22995, 9885, 10065, 6975, 14945, 13695, 19340, 6635, 8975, 12605, 23105, 9225, 7650, 4810, 12895, 11180, 6700, 9200, 21420, 7785, 5740, 10090, 9505, 4015, 6480, 12875, 9615, 17175, 34470, 8565, 4625, 7390, 9895, 17960, 13050, 13235, 19110, 15330, 6795, 17755, 5955, 6825, 10430, 3965, 9490, 48000, 15340, 21430, 13720, 8800, 6630, 17075, 28810, 10230, 15405, 27550, 9055, 5610, 8865, 9330, 9655, 14405, 8960], \"xaxis\": \"x\", \"y\": [17220, 12240, 1035, 3045, 7255, 3680, 7180, 9635, 5570, 3135, 695, 11060, 2590, 5425, 1105, 3350, 1715, 1430, 3000, 1480, 1155, 715, 2555, 5640, 8495, 3995, 3330, 910, 970, 2100, 12845, 10705, 4605, 7485, 1285, 2805, 1025, 7845, 1450, 4595, 2260, 2360, 9505, 2130, 895, 6370, 2420, 1165, 7255, 1995, 1425, 4000, 8860, 560, 3510, 4100, 1800, 4915, 7415, 1640, 1450, 6080, 5615, 3935, 420, 415, 21875, 4260, 1335, 1145, 1105, 1485, 825, 17440, 1940, 625, 16660, 4515, 5800, 2620, 1835, 12570, 1535, 5130, 1045, 8045, 10460, 3875, 1100, 6125, 5145, 2955, 2925, 1070, 1150, 9175, 1545, 495, 6655, 1025, 3385, 1745, 2630, 1475, 1710, 16890, 440, 810, 5290, 4715, 5320, 5825, 15300, 1915, 12575, 5740, 805, 2655, 10035, 2410, 910, 4800, 13015, 6265, 10395, 9340, 1815, 1125, 8450, 25150, 6625, 3035, 21405, 1100, 900, 1225, 1390, 1195, 7890, 2380], \"yaxis\": \"y\"}, {\"hoverlabel\": {\"namelength\": 0}, \"hovertemplate\": \"<b>OLS trendline</b><br>Asia = 0.439489 * midplus_income + -514.547971<br>R<sup>2</sup>=0.350034<br><br>midplus_income=%{x}<br>Asia=%{y} <b>(trend)</b>\", \"legendgroup\": \"\", \"marker\": {\"color\": \"#636efa\", \"symbol\": \"circle\"}, \"mode\": \"lines\", \"name\": \"\", \"showlegend\": false, \"type\": \"scatter\", \"x\": [3180, 3965, 4015, 4625, 4655, 4810, 5050, 5610, 5690, 5740, 5955, 6200, 6480, 6630, 6635, 6640, 6670, 6680, 6700, 6770, 6795, 6825, 6830, 6975, 6990, 7130, 7220, 7255, 7280, 7390, 7470, 7650, 7785, 7795, 7910, 7915, 8270, 8285, 8430, 8470, 8485, 8505, 8565, 8570, 8705, 8800, 8865, 8885, 8945, 8960, 8975, 9055, 9150, 9165, 9190, 9200, 9225, 9330, 9435, 9490, 9490, 9505, 9615, 9620, 9655, 9745, 9885, 9895, 9915, 9970, 10065, 10090, 10135, 10230, 10300, 10430, 10795, 10805, 11180, 11330, 11375, 11380, 11395, 11815, 11830, 12605, 12620, 12875, 12890, 12895, 12980, 13050, 13065, 13095, 13185, 13200, 13235, 13385, 13565, 13695, 13720, 14400, 14405, 14515, 14595, 14945, 14960, 15330, 15340, 15405, 15520, 15565, 15650, 15880, 16550, 16725, 17075, 17175, 17755, 17960, 18280, 18480, 18755, 19110, 19340, 19935, 20165, 20665, 21420, 21430, 22910, 22995, 23105, 23935, 25295, 27550, 28810, 30685, 34470, 48000], \"xaxis\": \"x\", \"y\": [883.0271082742793, 1228.0259878413756, 1250.000438769216, 1518.0887400888703, 1531.2734106455746, 1599.39420852188, 1704.8715729755145, 1950.9854233673286, 1986.1445448518734, 2008.1189957797137, 2102.6091347694282, 2210.2839443158464, 2333.3408695117537, 2399.264222295275, 2401.461667388059, 2403.6591124808433, 2416.8437830375474, 2421.2386732231157, 2430.028453594252, 2460.7926848932284, 2471.7799103571488, 2484.964580913853, 2487.162026006637, 2550.8879336973746, 2557.4802689757266, 2619.00873157368, 2658.562743243793, 2673.9448588932814, 2684.932084357202, 2733.2758763984507, 2768.4349978829955, 2847.5430212232213, 2906.874038728391, 2911.268928913959, 2961.8101660479924, 2964.007611140776, 3120.026212728444, 3126.618548006796, 3190.3444556975337, 3207.924016439806, 3214.516351718158, 3223.3061320892944, 3249.675473202703, 3251.872918295487, 3311.2039358006564, 3352.9553925635532, 3381.522178769746, 3390.311959140882, 3416.681300254291, 3423.2736355326433, 3429.8659708109953, 3465.02509229554, 3506.776549058437, 3513.368884336789, 3524.3561098007094, 3528.7509999862777, 3539.7382254501977, 3585.8845723986633, 3632.0309193471276, 3656.202815367753, 3656.202815367753, 3662.795150646105, 3711.138942687354, 3713.3363877801376, 3728.7185034296263, 3768.2725150997394, 3829.8009776976924, 3834.1958678832607, 3842.9856482543973, 3867.157544275022, 3908.9090010379186, 3919.896226501839, 3939.673232336895, 3981.424689099792, 4012.1889203987694, 4069.322492811154, 4229.73598458439, 4234.130874769958, 4398.939256728762, 4464.862609512284, 4484.63961534734, 4486.837060440124, 4493.429395718476, 4678.014783512336, 4684.607118790689, 5025.211108172217, 5031.803443450569, 5143.873143182555, 5150.465478460907, 5152.662923553692, 5190.019490131021, 5220.783721429997, 5227.376056708349, 5240.560727265054, 5280.114738935166, 5286.707074213519, 5302.089189863007, 5368.012542646528, 5447.120565986755, 5504.25413839914, 5515.2413638630605, 5814.093896481691, 5816.291341574475, 5864.635133615724, 5899.794255100269, 6053.615411595153, 6060.207746873505, 6222.818683739525, 6227.2135739250925, 6255.780360131285, 6306.321597265319, 6326.098603100375, 6363.455169677704, 6464.5376439457705, 6758.995286378833, 6835.905864626276, 6989.727021121159, 7033.6759229768395, 7288.57955373979, 7378.6748025439365, 7519.311288482116, 7607.209092193478, 7728.068572296601, 7884.087173884267, 7985.169648152334, 8246.665614193636, 8347.748088461703, 8567.492597740107, 8899.3068067505, 8903.701696936068, 9554.145444400147, 9591.502010977476, 9639.845803018725, 10004.621688420877, 10602.32675365814, 11593.374490503747, 12147.130653885328, 12971.172563679347, 14634.638498916875, 20580.924919990517], \"yaxis\": \"y\"}],\n",
              "                        {\"legend\": {\"tracegroupgap\": 0}, \"margin\": {\"t\": 60}, \"template\": {\"data\": {\"bar\": [{\"error_x\": {\"color\": \"#2a3f5f\"}, \"error_y\": {\"color\": \"#2a3f5f\"}, \"marker\": {\"line\": {\"color\": \"#E5ECF6\", \"width\": 0.5}}, \"type\": \"bar\"}], \"barpolar\": [{\"marker\": {\"line\": {\"color\": \"#E5ECF6\", \"width\": 0.5}}, \"type\": \"barpolar\"}], \"carpet\": [{\"aaxis\": {\"endlinecolor\": \"#2a3f5f\", \"gridcolor\": \"white\", \"linecolor\": \"white\", \"minorgridcolor\": \"white\", \"startlinecolor\": \"#2a3f5f\"}, \"baxis\": {\"endlinecolor\": \"#2a3f5f\", \"gridcolor\": \"white\", \"linecolor\": \"white\", \"minorgridcolor\": \"white\", \"startlinecolor\": \"#2a3f5f\"}, \"type\": \"carpet\"}], \"choropleth\": [{\"colorbar\": {\"outlinewidth\": 0, \"ticks\": \"\"}, \"type\": \"choropleth\"}], \"contour\": [{\"colorbar\": {\"outlinewidth\": 0, \"ticks\": \"\"}, \"colorscale\": [[0.0, \"#0d0887\"], [0.1111111111111111, \"#46039f\"], [0.2222222222222222, \"#7201a8\"], [0.3333333333333333, \"#9c179e\"], [0.4444444444444444, \"#bd3786\"], [0.5555555555555556, \"#d8576b\"], [0.6666666666666666, \"#ed7953\"], [0.7777777777777778, \"#fb9f3a\"], [0.8888888888888888, \"#fdca26\"], [1.0, \"#f0f921\"]], \"type\": \"contour\"}], \"contourcarpet\": [{\"colorbar\": {\"outlinewidth\": 0, \"ticks\": \"\"}, \"type\": \"contourcarpet\"}], \"heatmap\": [{\"colorbar\": {\"outlinewidth\": 0, \"ticks\": \"\"}, \"colorscale\": [[0.0, \"#0d0887\"], [0.1111111111111111, \"#46039f\"], [0.2222222222222222, \"#7201a8\"], [0.3333333333333333, \"#9c179e\"], [0.4444444444444444, \"#bd3786\"], [0.5555555555555556, \"#d8576b\"], [0.6666666666666666, \"#ed7953\"], [0.7777777777777778, \"#fb9f3a\"], [0.8888888888888888, \"#fdca26\"], [1.0, \"#f0f921\"]], \"type\": \"heatmap\"}], \"heatmapgl\": [{\"colorbar\": {\"outlinewidth\": 0, \"ticks\": \"\"}, \"colorscale\": [[0.0, \"#0d0887\"], [0.1111111111111111, \"#46039f\"], [0.2222222222222222, \"#7201a8\"], [0.3333333333333333, \"#9c179e\"], [0.4444444444444444, \"#bd3786\"], [0.5555555555555556, \"#d8576b\"], [0.6666666666666666, \"#ed7953\"], [0.7777777777777778, \"#fb9f3a\"], [0.8888888888888888, \"#fdca26\"], [1.0, \"#f0f921\"]], \"type\": \"heatmapgl\"}], \"histogram\": [{\"marker\": {\"colorbar\": {\"outlinewidth\": 0, \"ticks\": \"\"}}, \"type\": \"histogram\"}], \"histogram2d\": [{\"colorbar\": {\"outlinewidth\": 0, \"ticks\": \"\"}, \"colorscale\": [[0.0, \"#0d0887\"], [0.1111111111111111, \"#46039f\"], [0.2222222222222222, \"#7201a8\"], [0.3333333333333333, \"#9c179e\"], [0.4444444444444444, \"#bd3786\"], [0.5555555555555556, \"#d8576b\"], [0.6666666666666666, \"#ed7953\"], [0.7777777777777778, \"#fb9f3a\"], [0.8888888888888888, \"#fdca26\"], [1.0, \"#f0f921\"]], \"type\": \"histogram2d\"}], \"histogram2dcontour\": [{\"colorbar\": {\"outlinewidth\": 0, \"ticks\": \"\"}, \"colorscale\": [[0.0, \"#0d0887\"], [0.1111111111111111, \"#46039f\"], [0.2222222222222222, \"#7201a8\"], [0.3333333333333333, \"#9c179e\"], [0.4444444444444444, \"#bd3786\"], [0.5555555555555556, \"#d8576b\"], [0.6666666666666666, \"#ed7953\"], [0.7777777777777778, \"#fb9f3a\"], [0.8888888888888888, \"#fdca26\"], [1.0, \"#f0f921\"]], \"type\": \"histogram2dcontour\"}], \"mesh3d\": [{\"colorbar\": {\"outlinewidth\": 0, \"ticks\": \"\"}, \"type\": \"mesh3d\"}], \"parcoords\": [{\"line\": {\"colorbar\": {\"outlinewidth\": 0, \"ticks\": \"\"}}, \"type\": \"parcoords\"}], \"pie\": [{\"automargin\": true, \"type\": \"pie\"}], \"scatter\": [{\"marker\": {\"colorbar\": {\"outlinewidth\": 0, \"ticks\": \"\"}}, \"type\": \"scatter\"}], \"scatter3d\": [{\"line\": {\"colorbar\": {\"outlinewidth\": 0, \"ticks\": \"\"}}, \"marker\": {\"colorbar\": {\"outlinewidth\": 0, \"ticks\": \"\"}}, \"type\": \"scatter3d\"}], \"scattercarpet\": [{\"marker\": {\"colorbar\": {\"outlinewidth\": 0, \"ticks\": \"\"}}, \"type\": \"scattercarpet\"}], \"scattergeo\": [{\"marker\": {\"colorbar\": {\"outlinewidth\": 0, \"ticks\": \"\"}}, \"type\": \"scattergeo\"}], \"scattergl\": [{\"marker\": {\"colorbar\": {\"outlinewidth\": 0, \"ticks\": \"\"}}, \"type\": \"scattergl\"}], \"scattermapbox\": [{\"marker\": {\"colorbar\": {\"outlinewidth\": 0, \"ticks\": \"\"}}, \"type\": \"scattermapbox\"}], \"scatterpolar\": [{\"marker\": {\"colorbar\": {\"outlinewidth\": 0, \"ticks\": \"\"}}, \"type\": \"scatterpolar\"}], \"scatterpolargl\": [{\"marker\": {\"colorbar\": {\"outlinewidth\": 0, \"ticks\": \"\"}}, \"type\": \"scatterpolargl\"}], \"scatterternary\": [{\"marker\": {\"colorbar\": {\"outlinewidth\": 0, \"ticks\": \"\"}}, \"type\": \"scatterternary\"}], \"surface\": [{\"colorbar\": {\"outlinewidth\": 0, \"ticks\": \"\"}, \"colorscale\": [[0.0, \"#0d0887\"], [0.1111111111111111, \"#46039f\"], [0.2222222222222222, \"#7201a8\"], [0.3333333333333333, \"#9c179e\"], [0.4444444444444444, \"#bd3786\"], [0.5555555555555556, \"#d8576b\"], [0.6666666666666666, \"#ed7953\"], [0.7777777777777778, \"#fb9f3a\"], [0.8888888888888888, \"#fdca26\"], [1.0, \"#f0f921\"]], \"type\": \"surface\"}], \"table\": [{\"cells\": {\"fill\": {\"color\": \"#EBF0F8\"}, \"line\": {\"color\": \"white\"}}, \"header\": {\"fill\": {\"color\": \"#C8D4E3\"}, \"line\": {\"color\": \"white\"}}, \"type\": \"table\"}]}, \"layout\": {\"annotationdefaults\": {\"arrowcolor\": \"#2a3f5f\", \"arrowhead\": 0, \"arrowwidth\": 1}, \"coloraxis\": {\"colorbar\": {\"outlinewidth\": 0, \"ticks\": \"\"}}, \"colorscale\": {\"diverging\": [[0, \"#8e0152\"], [0.1, \"#c51b7d\"], [0.2, \"#de77ae\"], [0.3, \"#f1b6da\"], [0.4, \"#fde0ef\"], [0.5, \"#f7f7f7\"], [0.6, \"#e6f5d0\"], [0.7, \"#b8e186\"], [0.8, \"#7fbc41\"], [0.9, \"#4d9221\"], [1, \"#276419\"]], \"sequential\": [[0.0, \"#0d0887\"], [0.1111111111111111, \"#46039f\"], [0.2222222222222222, \"#7201a8\"], [0.3333333333333333, \"#9c179e\"], [0.4444444444444444, \"#bd3786\"], [0.5555555555555556, \"#d8576b\"], [0.6666666666666666, \"#ed7953\"], [0.7777777777777778, \"#fb9f3a\"], [0.8888888888888888, \"#fdca26\"], [1.0, \"#f0f921\"]], \"sequentialminus\": [[0.0, \"#0d0887\"], [0.1111111111111111, \"#46039f\"], [0.2222222222222222, \"#7201a8\"], [0.3333333333333333, \"#9c179e\"], [0.4444444444444444, \"#bd3786\"], [0.5555555555555556, \"#d8576b\"], [0.6666666666666666, \"#ed7953\"], [0.7777777777777778, \"#fb9f3a\"], [0.8888888888888888, \"#fdca26\"], [1.0, \"#f0f921\"]]}, \"colorway\": [\"#636efa\", \"#EF553B\", \"#00cc96\", \"#ab63fa\", \"#FFA15A\", \"#19d3f3\", \"#FF6692\", \"#B6E880\", \"#FF97FF\", \"#FECB52\"], \"font\": {\"color\": \"#2a3f5f\"}, \"geo\": {\"bgcolor\": \"white\", \"lakecolor\": \"white\", \"landcolor\": \"#E5ECF6\", \"showlakes\": true, \"showland\": true, \"subunitcolor\": \"white\"}, \"hoverlabel\": {\"align\": \"left\"}, \"hovermode\": \"closest\", \"mapbox\": {\"style\": \"light\"}, \"paper_bgcolor\": \"white\", \"plot_bgcolor\": \"#E5ECF6\", \"polar\": {\"angularaxis\": {\"gridcolor\": \"white\", \"linecolor\": \"white\", \"ticks\": \"\"}, \"bgcolor\": \"#E5ECF6\", \"radialaxis\": {\"gridcolor\": \"white\", \"linecolor\": \"white\", \"ticks\": \"\"}}, \"scene\": {\"xaxis\": {\"backgroundcolor\": \"#E5ECF6\", \"gridcolor\": \"white\", \"gridwidth\": 2, \"linecolor\": \"white\", \"showbackground\": true, \"ticks\": \"\", \"zerolinecolor\": \"white\"}, \"yaxis\": {\"backgroundcolor\": \"#E5ECF6\", \"gridcolor\": \"white\", \"gridwidth\": 2, \"linecolor\": \"white\", \"showbackground\": true, \"ticks\": \"\", \"zerolinecolor\": \"white\"}, \"zaxis\": {\"backgroundcolor\": \"#E5ECF6\", \"gridcolor\": \"white\", \"gridwidth\": 2, \"linecolor\": \"white\", \"showbackground\": true, \"ticks\": \"\", \"zerolinecolor\": \"white\"}}, \"shapedefaults\": {\"line\": {\"color\": \"#2a3f5f\"}}, \"ternary\": {\"aaxis\": {\"gridcolor\": \"white\", \"linecolor\": \"white\", \"ticks\": \"\"}, \"baxis\": {\"gridcolor\": \"white\", \"linecolor\": \"white\", \"ticks\": \"\"}, \"bgcolor\": \"#E5ECF6\", \"caxis\": {\"gridcolor\": \"white\", \"linecolor\": \"white\", \"ticks\": \"\"}}, \"title\": {\"x\": 0.05}, \"xaxis\": {\"automargin\": true, \"gridcolor\": \"white\", \"linecolor\": \"white\", \"ticks\": \"\", \"title\": {\"standoff\": 15}, \"zerolinecolor\": \"white\", \"zerolinewidth\": 2}, \"yaxis\": {\"automargin\": true, \"gridcolor\": \"white\", \"linecolor\": \"white\", \"ticks\": \"\", \"title\": {\"standoff\": 15}, \"zerolinecolor\": \"white\", \"zerolinewidth\": 2}}}, \"xaxis\": {\"anchor\": \"y\", \"domain\": [0.0, 1.0], \"title\": {\"text\": \"midplus_income\"}}, \"yaxis\": {\"anchor\": \"x\", \"domain\": [0.0, 1.0], \"title\": {\"text\": \"Asia\"}}},\n",
              "                        {\"responsive\": true}\n",
              "                    ).then(function(){\n",
              "                            \n",
              "var gd = document.getElementById('e47b3a19-1585-46b3-88d3-df48612816b1');\n",
              "var x = new MutationObserver(function (mutations, observer) {{\n",
              "        var display = window.getComputedStyle(gd).display;\n",
              "        if (!display || display === 'none') {{\n",
              "            console.log([gd, 'removed!']);\n",
              "            Plotly.purge(gd);\n",
              "            observer.disconnect();\n",
              "        }}\n",
              "}});\n",
              "\n",
              "// Listen for the removal of the full notebook cells\n",
              "var notebookContainer = gd.closest('#notebook-container');\n",
              "if (notebookContainer) {{\n",
              "    x.observe(notebookContainer, {childList: true});\n",
              "}}\n",
              "\n",
              "// Listen for the clearing of the current output cell\n",
              "var outputEl = gd.closest('.output');\n",
              "if (outputEl) {{\n",
              "    x.observe(outputEl, {childList: true});\n",
              "}}\n",
              "\n",
              "                        })\n",
              "                };\n",
              "                \n",
              "            </script>\n",
              "        </div>\n",
              "</body>\n",
              "</html>"
            ]
          },
          "metadata": {
            "tags": []
          }
        }
      ]
    },
    {
      "cell_type": "markdown",
      "metadata": {
        "id": "QJwTKbwe0CLb"
      },
      "source": [
        "To this:"
      ]
    },
    {
      "cell_type": "code",
      "metadata": {
        "colab": {
          "base_uri": "https://localhost:8080/",
          "height": 542
        },
        "id": "3XVeu4i8Akpo",
        "outputId": "532be4ca-5786-42f8-e5d4-5fe746541d53"
      },
      "source": [
        "fig9 = px.scatter(df2, x=\"midplus_income\", y=\"Asia\", trendline=\"ols\", color=\"Asia\",\n",
        "                  color_continuous_scale=[(0, '#f8cece'), (0.05, '#f25563'), (1, '#660810')],\n",
        "                  size = \"Asia\")\n",
        "    \n",
        "fig9.update_yaxes(range=[0, 11800],\n",
        "                  showgrid = False,\n",
        "                  #visible=False, \n",
        "                  showticklabels=False,\n",
        "                  title_text = \"Asian Immigrants\")\n",
        "\n",
        "\n",
        "fig9.update_xaxes(range=[2500, 25000],\n",
        "                  title_text = \"Number of Families Middle Class and Higher\")\n",
        "\n",
        "fig9.update_layout(#paper_bgcolor='#6b6266',\n",
        "                   plot_bgcolor='white') \n",
        "fig9.update_traces(aaxis_showgrid=False, selector=dict(type='carpet'))\n",
        "fig9.update(layout_coloraxis_showscale=False)\n",
        "fig9.show()"
      ],
      "execution_count": 17,
      "outputs": [
        {
          "output_type": "display_data",
          "data": {
            "text/html": [
              "<html>\n",
              "<head><meta charset=\"utf-8\" /></head>\n",
              "<body>\n",
              "    <div>\n",
              "            <script src=\"https://cdnjs.cloudflare.com/ajax/libs/mathjax/2.7.5/MathJax.js?config=TeX-AMS-MML_SVG\"></script><script type=\"text/javascript\">if (window.MathJax) {MathJax.Hub.Config({SVG: {font: \"STIX-Web\"}});}</script>\n",
              "                <script type=\"text/javascript\">window.PlotlyConfig = {MathJaxConfig: 'local'};</script>\n",
              "        <script src=\"https://cdn.plot.ly/plotly-latest.min.js\"></script>    \n",
              "            <div id=\"7d3f63ef-0f71-4018-b2fb-ac7d1b914164\" class=\"plotly-graph-div\" style=\"height:525px; width:100%;\"></div>\n",
              "            <script type=\"text/javascript\">\n",
              "                \n",
              "                    window.PLOTLYENV=window.PLOTLYENV || {};\n",
              "                    \n",
              "                if (document.getElementById(\"7d3f63ef-0f71-4018-b2fb-ac7d1b914164\")) {\n",
              "                    Plotly.newPlot(\n",
              "                        '7d3f63ef-0f71-4018-b2fb-ac7d1b914164',\n",
              "                        [{\"hoverlabel\": {\"namelength\": 0}, \"hovertemplate\": \"midplus_income=%{x}<br>Asia=%{marker.color}\", \"legendgroup\": \"\", \"marker\": {\"color\": [17220, 12240, 1035, 3045, 7255, 3680, 7180, 9635, 5570, 3135, 695, 11060, 2590, 5425, 1105, 3350, 1715, 1430, 3000, 1480, 1155, 715, 2555, 5640, 8495, 3995, 3330, 910, 970, 2100, 12845, 10705, 4605, 7485, 1285, 2805, 1025, 7845, 1450, 4595, 2260, 2360, 9505, 2130, 895, 6370, 2420, 1165, 7255, 1995, 1425, 4000, 8860, 560, 3510, 4100, 1800, 4915, 7415, 1640, 1450, 6080, 5615, 3935, 420, 415, 21875, 4260, 1335, 1145, 1105, 1485, 825, 17440, 1940, 625, 16660, 4515, 5800, 2620, 1835, 12570, 1535, 5130, 1045, 8045, 10460, 3875, 1100, 6125, 5145, 2955, 2925, 1070, 1150, 9175, 1545, 495, 6655, 1025, 3385, 1745, 2630, 1475, 1710, 16890, 440, 810, 5290, 4715, 5320, 5825, 15300, 1915, 12575, 5740, 805, 2655, 10035, 2410, 910, 4800, 13015, 6265, 10395, 9340, 1815, 1125, 8450, 25150, 6625, 3035, 21405, 1100, 900, 1225, 1390, 1195, 7890, 2380], \"coloraxis\": \"coloraxis\", \"size\": [17220, 12240, 1035, 3045, 7255, 3680, 7180, 9635, 5570, 3135, 695, 11060, 2590, 5425, 1105, 3350, 1715, 1430, 3000, 1480, 1155, 715, 2555, 5640, 8495, 3995, 3330, 910, 970, 2100, 12845, 10705, 4605, 7485, 1285, 2805, 1025, 7845, 1450, 4595, 2260, 2360, 9505, 2130, 895, 6370, 2420, 1165, 7255, 1995, 1425, 4000, 8860, 560, 3510, 4100, 1800, 4915, 7415, 1640, 1450, 6080, 5615, 3935, 420, 415, 21875, 4260, 1335, 1145, 1105, 1485, 825, 17440, 1940, 625, 16660, 4515, 5800, 2620, 1835, 12570, 1535, 5130, 1045, 8045, 10460, 3875, 1100, 6125, 5145, 2955, 2925, 1070, 1150, 9175, 1545, 495, 6655, 1025, 3385, 1745, 2630, 1475, 1710, 16890, 440, 810, 5290, 4715, 5320, 5825, 15300, 1915, 12575, 5740, 805, 2655, 10035, 2410, 910, 4800, 13015, 6265, 10395, 9340, 1815, 1125, 8450, 25150, 6625, 3035, 21405, 1100, 900, 1225, 1390, 1195, 7890, 2380], \"sizemode\": \"area\", \"sizeref\": 62.875, \"symbol\": \"circle\"}, \"mode\": \"markers\", \"name\": \"\", \"showlegend\": false, \"type\": \"scatter\", \"x\": [15880, 13065, 9490, 19935, 20165, 10300, 13095, 13565, 8505, 18755, 3180, 16725, 15565, 8705, 4655, 8945, 7915, 6770, 9165, 7255, 6640, 8470, 11395, 18480, 16550, 11375, 10805, 9745, 6830, 12620, 15650, 13385, 22910, 20665, 7280, 14400, 11815, 11330, 5050, 12980, 14595, 7220, 9190, 8885, 8570, 14960, 9435, 7910, 8485, 15520, 18280, 9620, 10795, 6990, 7130, 8270, 9915, 7470, 30685, 10135, 6670, 9150, 7795, 11830, 8285, 5690, 23935, 11380, 12890, 13200, 14515, 9970, 6680, 25295, 6200, 8430, 13185, 22995, 9885, 10065, 6975, 14945, 13695, 19340, 6635, 8975, 12605, 23105, 9225, 7650, 4810, 12895, 11180, 6700, 9200, 21420, 7785, 5740, 10090, 9505, 4015, 6480, 12875, 9615, 17175, 34470, 8565, 4625, 7390, 9895, 17960, 13050, 13235, 19110, 15330, 6795, 17755, 5955, 6825, 10430, 3965, 9490, 48000, 15340, 21430, 13720, 8800, 6630, 17075, 28810, 10230, 15405, 27550, 9055, 5610, 8865, 9330, 9655, 14405, 8960], \"xaxis\": \"x\", \"y\": [17220, 12240, 1035, 3045, 7255, 3680, 7180, 9635, 5570, 3135, 695, 11060, 2590, 5425, 1105, 3350, 1715, 1430, 3000, 1480, 1155, 715, 2555, 5640, 8495, 3995, 3330, 910, 970, 2100, 12845, 10705, 4605, 7485, 1285, 2805, 1025, 7845, 1450, 4595, 2260, 2360, 9505, 2130, 895, 6370, 2420, 1165, 7255, 1995, 1425, 4000, 8860, 560, 3510, 4100, 1800, 4915, 7415, 1640, 1450, 6080, 5615, 3935, 420, 415, 21875, 4260, 1335, 1145, 1105, 1485, 825, 17440, 1940, 625, 16660, 4515, 5800, 2620, 1835, 12570, 1535, 5130, 1045, 8045, 10460, 3875, 1100, 6125, 5145, 2955, 2925, 1070, 1150, 9175, 1545, 495, 6655, 1025, 3385, 1745, 2630, 1475, 1710, 16890, 440, 810, 5290, 4715, 5320, 5825, 15300, 1915, 12575, 5740, 805, 2655, 10035, 2410, 910, 4800, 13015, 6265, 10395, 9340, 1815, 1125, 8450, 25150, 6625, 3035, 21405, 1100, 900, 1225, 1390, 1195, 7890, 2380], \"yaxis\": \"y\"}, {\"hoverlabel\": {\"namelength\": 0}, \"hovertemplate\": \"<b>OLS trendline</b><br>Asia = 0.439489 * midplus_income + -514.547971<br>R<sup>2</sup>=0.350034<br><br>midplus_income=%{x}<br>Asia=%{y} <b>(trend)</b>\", \"legendgroup\": \"\", \"marker\": {\"symbol\": \"circle\"}, \"mode\": \"lines\", \"name\": \"\", \"showlegend\": false, \"type\": \"scatter\", \"x\": [3180, 3965, 4015, 4625, 4655, 4810, 5050, 5610, 5690, 5740, 5955, 6200, 6480, 6630, 6635, 6640, 6670, 6680, 6700, 6770, 6795, 6825, 6830, 6975, 6990, 7130, 7220, 7255, 7280, 7390, 7470, 7650, 7785, 7795, 7910, 7915, 8270, 8285, 8430, 8470, 8485, 8505, 8565, 8570, 8705, 8800, 8865, 8885, 8945, 8960, 8975, 9055, 9150, 9165, 9190, 9200, 9225, 9330, 9435, 9490, 9490, 9505, 9615, 9620, 9655, 9745, 9885, 9895, 9915, 9970, 10065, 10090, 10135, 10230, 10300, 10430, 10795, 10805, 11180, 11330, 11375, 11380, 11395, 11815, 11830, 12605, 12620, 12875, 12890, 12895, 12980, 13050, 13065, 13095, 13185, 13200, 13235, 13385, 13565, 13695, 13720, 14400, 14405, 14515, 14595, 14945, 14960, 15330, 15340, 15405, 15520, 15565, 15650, 15880, 16550, 16725, 17075, 17175, 17755, 17960, 18280, 18480, 18755, 19110, 19340, 19935, 20165, 20665, 21420, 21430, 22910, 22995, 23105, 23935, 25295, 27550, 28810, 30685, 34470, 48000], \"xaxis\": \"x\", \"y\": [883.0271082742793, 1228.0259878413756, 1250.000438769216, 1518.0887400888703, 1531.2734106455746, 1599.39420852188, 1704.8715729755145, 1950.9854233673286, 1986.1445448518734, 2008.1189957797137, 2102.6091347694282, 2210.2839443158464, 2333.3408695117537, 2399.264222295275, 2401.461667388059, 2403.6591124808433, 2416.8437830375474, 2421.2386732231157, 2430.028453594252, 2460.7926848932284, 2471.7799103571488, 2484.964580913853, 2487.162026006637, 2550.8879336973746, 2557.4802689757266, 2619.00873157368, 2658.562743243793, 2673.9448588932814, 2684.932084357202, 2733.2758763984507, 2768.4349978829955, 2847.5430212232213, 2906.874038728391, 2911.268928913959, 2961.8101660479924, 2964.007611140776, 3120.026212728444, 3126.618548006796, 3190.3444556975337, 3207.924016439806, 3214.516351718158, 3223.3061320892944, 3249.675473202703, 3251.872918295487, 3311.2039358006564, 3352.9553925635532, 3381.522178769746, 3390.311959140882, 3416.681300254291, 3423.2736355326433, 3429.8659708109953, 3465.02509229554, 3506.776549058437, 3513.368884336789, 3524.3561098007094, 3528.7509999862777, 3539.7382254501977, 3585.8845723986633, 3632.0309193471276, 3656.202815367753, 3656.202815367753, 3662.795150646105, 3711.138942687354, 3713.3363877801376, 3728.7185034296263, 3768.2725150997394, 3829.8009776976924, 3834.1958678832607, 3842.9856482543973, 3867.157544275022, 3908.9090010379186, 3919.896226501839, 3939.673232336895, 3981.424689099792, 4012.1889203987694, 4069.322492811154, 4229.73598458439, 4234.130874769958, 4398.939256728762, 4464.862609512284, 4484.63961534734, 4486.837060440124, 4493.429395718476, 4678.014783512336, 4684.607118790689, 5025.211108172217, 5031.803443450569, 5143.873143182555, 5150.465478460907, 5152.662923553692, 5190.019490131021, 5220.783721429997, 5227.376056708349, 5240.560727265054, 5280.114738935166, 5286.707074213519, 5302.089189863007, 5368.012542646528, 5447.120565986755, 5504.25413839914, 5515.2413638630605, 5814.093896481691, 5816.291341574475, 5864.635133615724, 5899.794255100269, 6053.615411595153, 6060.207746873505, 6222.818683739525, 6227.2135739250925, 6255.780360131285, 6306.321597265319, 6326.098603100375, 6363.455169677704, 6464.5376439457705, 6758.995286378833, 6835.905864626276, 6989.727021121159, 7033.6759229768395, 7288.57955373979, 7378.6748025439365, 7519.311288482116, 7607.209092193478, 7728.068572296601, 7884.087173884267, 7985.169648152334, 8246.665614193636, 8347.748088461703, 8567.492597740107, 8899.3068067505, 8903.701696936068, 9554.145444400147, 9591.502010977476, 9639.845803018725, 10004.621688420877, 10602.32675365814, 11593.374490503747, 12147.130653885328, 12971.172563679347, 14634.638498916875, 20580.924919990517], \"yaxis\": \"y\"}],\n",
              "                        {\"coloraxis\": {\"colorbar\": {\"title\": {\"text\": \"Asia\"}}, \"colorscale\": [[0, \"#f8cece\"], [0.05, \"#f25563\"], [1, \"#660810\"]], \"showscale\": false}, \"legend\": {\"itemsizing\": \"constant\", \"tracegroupgap\": 0}, \"margin\": {\"t\": 60}, \"plot_bgcolor\": \"white\", \"template\": {\"data\": {\"bar\": [{\"error_x\": {\"color\": \"#2a3f5f\"}, \"error_y\": {\"color\": \"#2a3f5f\"}, \"marker\": {\"line\": {\"color\": \"#E5ECF6\", \"width\": 0.5}}, \"type\": \"bar\"}], \"barpolar\": [{\"marker\": {\"line\": {\"color\": \"#E5ECF6\", \"width\": 0.5}}, \"type\": \"barpolar\"}], \"carpet\": [{\"aaxis\": {\"endlinecolor\": \"#2a3f5f\", \"gridcolor\": \"white\", \"linecolor\": \"white\", \"minorgridcolor\": \"white\", \"startlinecolor\": \"#2a3f5f\"}, \"baxis\": {\"endlinecolor\": \"#2a3f5f\", \"gridcolor\": \"white\", \"linecolor\": \"white\", \"minorgridcolor\": \"white\", \"startlinecolor\": \"#2a3f5f\"}, \"type\": \"carpet\"}], \"choropleth\": [{\"colorbar\": {\"outlinewidth\": 0, \"ticks\": \"\"}, \"type\": \"choropleth\"}], \"contour\": [{\"colorbar\": {\"outlinewidth\": 0, \"ticks\": \"\"}, \"colorscale\": [[0.0, \"#0d0887\"], [0.1111111111111111, \"#46039f\"], [0.2222222222222222, \"#7201a8\"], [0.3333333333333333, \"#9c179e\"], [0.4444444444444444, \"#bd3786\"], [0.5555555555555556, \"#d8576b\"], [0.6666666666666666, \"#ed7953\"], [0.7777777777777778, \"#fb9f3a\"], [0.8888888888888888, \"#fdca26\"], [1.0, \"#f0f921\"]], \"type\": \"contour\"}], \"contourcarpet\": [{\"colorbar\": {\"outlinewidth\": 0, \"ticks\": \"\"}, \"type\": \"contourcarpet\"}], \"heatmap\": [{\"colorbar\": {\"outlinewidth\": 0, \"ticks\": \"\"}, \"colorscale\": [[0.0, \"#0d0887\"], [0.1111111111111111, \"#46039f\"], [0.2222222222222222, \"#7201a8\"], [0.3333333333333333, \"#9c179e\"], [0.4444444444444444, \"#bd3786\"], [0.5555555555555556, \"#d8576b\"], [0.6666666666666666, \"#ed7953\"], [0.7777777777777778, \"#fb9f3a\"], [0.8888888888888888, \"#fdca26\"], [1.0, \"#f0f921\"]], \"type\": \"heatmap\"}], \"heatmapgl\": [{\"colorbar\": {\"outlinewidth\": 0, \"ticks\": \"\"}, \"colorscale\": [[0.0, \"#0d0887\"], [0.1111111111111111, \"#46039f\"], [0.2222222222222222, \"#7201a8\"], [0.3333333333333333, \"#9c179e\"], [0.4444444444444444, \"#bd3786\"], [0.5555555555555556, \"#d8576b\"], [0.6666666666666666, \"#ed7953\"], [0.7777777777777778, \"#fb9f3a\"], [0.8888888888888888, \"#fdca26\"], [1.0, \"#f0f921\"]], \"type\": \"heatmapgl\"}], \"histogram\": [{\"marker\": {\"colorbar\": {\"outlinewidth\": 0, \"ticks\": \"\"}}, \"type\": \"histogram\"}], \"histogram2d\": [{\"colorbar\": {\"outlinewidth\": 0, \"ticks\": \"\"}, \"colorscale\": [[0.0, \"#0d0887\"], [0.1111111111111111, \"#46039f\"], [0.2222222222222222, \"#7201a8\"], [0.3333333333333333, \"#9c179e\"], [0.4444444444444444, \"#bd3786\"], [0.5555555555555556, \"#d8576b\"], [0.6666666666666666, \"#ed7953\"], [0.7777777777777778, \"#fb9f3a\"], [0.8888888888888888, \"#fdca26\"], [1.0, \"#f0f921\"]], \"type\": \"histogram2d\"}], \"histogram2dcontour\": [{\"colorbar\": {\"outlinewidth\": 0, \"ticks\": \"\"}, \"colorscale\": [[0.0, \"#0d0887\"], [0.1111111111111111, \"#46039f\"], [0.2222222222222222, \"#7201a8\"], [0.3333333333333333, \"#9c179e\"], [0.4444444444444444, \"#bd3786\"], [0.5555555555555556, \"#d8576b\"], [0.6666666666666666, \"#ed7953\"], [0.7777777777777778, \"#fb9f3a\"], [0.8888888888888888, \"#fdca26\"], [1.0, \"#f0f921\"]], \"type\": \"histogram2dcontour\"}], \"mesh3d\": [{\"colorbar\": {\"outlinewidth\": 0, \"ticks\": \"\"}, \"type\": \"mesh3d\"}], \"parcoords\": [{\"line\": {\"colorbar\": {\"outlinewidth\": 0, \"ticks\": \"\"}}, \"type\": \"parcoords\"}], \"pie\": [{\"automargin\": true, \"type\": \"pie\"}], \"scatter\": [{\"marker\": {\"colorbar\": {\"outlinewidth\": 0, \"ticks\": \"\"}}, \"type\": \"scatter\"}], \"scatter3d\": [{\"line\": {\"colorbar\": {\"outlinewidth\": 0, \"ticks\": \"\"}}, \"marker\": {\"colorbar\": {\"outlinewidth\": 0, \"ticks\": \"\"}}, \"type\": \"scatter3d\"}], \"scattercarpet\": [{\"marker\": {\"colorbar\": {\"outlinewidth\": 0, \"ticks\": \"\"}}, \"type\": \"scattercarpet\"}], \"scattergeo\": [{\"marker\": {\"colorbar\": {\"outlinewidth\": 0, \"ticks\": \"\"}}, \"type\": \"scattergeo\"}], \"scattergl\": [{\"marker\": {\"colorbar\": {\"outlinewidth\": 0, \"ticks\": \"\"}}, \"type\": \"scattergl\"}], \"scattermapbox\": [{\"marker\": {\"colorbar\": {\"outlinewidth\": 0, \"ticks\": \"\"}}, \"type\": \"scattermapbox\"}], \"scatterpolar\": [{\"marker\": {\"colorbar\": {\"outlinewidth\": 0, \"ticks\": \"\"}}, \"type\": \"scatterpolar\"}], \"scatterpolargl\": [{\"marker\": {\"colorbar\": {\"outlinewidth\": 0, \"ticks\": \"\"}}, \"type\": \"scatterpolargl\"}], \"scatterternary\": [{\"marker\": {\"colorbar\": {\"outlinewidth\": 0, \"ticks\": \"\"}}, \"type\": \"scatterternary\"}], \"surface\": [{\"colorbar\": {\"outlinewidth\": 0, \"ticks\": \"\"}, \"colorscale\": [[0.0, \"#0d0887\"], [0.1111111111111111, \"#46039f\"], [0.2222222222222222, \"#7201a8\"], [0.3333333333333333, \"#9c179e\"], [0.4444444444444444, \"#bd3786\"], [0.5555555555555556, \"#d8576b\"], [0.6666666666666666, \"#ed7953\"], [0.7777777777777778, \"#fb9f3a\"], [0.8888888888888888, \"#fdca26\"], [1.0, \"#f0f921\"]], \"type\": \"surface\"}], \"table\": [{\"cells\": {\"fill\": {\"color\": \"#EBF0F8\"}, \"line\": {\"color\": \"white\"}}, \"header\": {\"fill\": {\"color\": \"#C8D4E3\"}, \"line\": {\"color\": \"white\"}}, \"type\": \"table\"}]}, \"layout\": {\"annotationdefaults\": {\"arrowcolor\": \"#2a3f5f\", \"arrowhead\": 0, \"arrowwidth\": 1}, \"coloraxis\": {\"colorbar\": {\"outlinewidth\": 0, \"ticks\": \"\"}}, \"colorscale\": {\"diverging\": [[0, \"#8e0152\"], [0.1, \"#c51b7d\"], [0.2, \"#de77ae\"], [0.3, \"#f1b6da\"], [0.4, \"#fde0ef\"], [0.5, \"#f7f7f7\"], [0.6, \"#e6f5d0\"], [0.7, \"#b8e186\"], [0.8, \"#7fbc41\"], [0.9, \"#4d9221\"], [1, \"#276419\"]], \"sequential\": [[0.0, \"#0d0887\"], [0.1111111111111111, \"#46039f\"], [0.2222222222222222, \"#7201a8\"], [0.3333333333333333, \"#9c179e\"], [0.4444444444444444, \"#bd3786\"], [0.5555555555555556, \"#d8576b\"], [0.6666666666666666, \"#ed7953\"], [0.7777777777777778, \"#fb9f3a\"], [0.8888888888888888, \"#fdca26\"], [1.0, \"#f0f921\"]], \"sequentialminus\": [[0.0, \"#0d0887\"], [0.1111111111111111, \"#46039f\"], [0.2222222222222222, \"#7201a8\"], [0.3333333333333333, \"#9c179e\"], [0.4444444444444444, \"#bd3786\"], [0.5555555555555556, \"#d8576b\"], [0.6666666666666666, \"#ed7953\"], [0.7777777777777778, \"#fb9f3a\"], [0.8888888888888888, \"#fdca26\"], [1.0, \"#f0f921\"]]}, \"colorway\": [\"#636efa\", \"#EF553B\", \"#00cc96\", \"#ab63fa\", \"#FFA15A\", \"#19d3f3\", \"#FF6692\", \"#B6E880\", \"#FF97FF\", \"#FECB52\"], \"font\": {\"color\": \"#2a3f5f\"}, \"geo\": {\"bgcolor\": \"white\", \"lakecolor\": \"white\", \"landcolor\": \"#E5ECF6\", \"showlakes\": true, \"showland\": true, \"subunitcolor\": \"white\"}, \"hoverlabel\": {\"align\": \"left\"}, \"hovermode\": \"closest\", \"mapbox\": {\"style\": \"light\"}, \"paper_bgcolor\": \"white\", \"plot_bgcolor\": \"#E5ECF6\", \"polar\": {\"angularaxis\": {\"gridcolor\": \"white\", \"linecolor\": \"white\", \"ticks\": \"\"}, \"bgcolor\": \"#E5ECF6\", \"radialaxis\": {\"gridcolor\": \"white\", \"linecolor\": \"white\", \"ticks\": \"\"}}, \"scene\": {\"xaxis\": {\"backgroundcolor\": \"#E5ECF6\", \"gridcolor\": \"white\", \"gridwidth\": 2, \"linecolor\": \"white\", \"showbackground\": true, \"ticks\": \"\", \"zerolinecolor\": \"white\"}, \"yaxis\": {\"backgroundcolor\": \"#E5ECF6\", \"gridcolor\": \"white\", \"gridwidth\": 2, \"linecolor\": \"white\", \"showbackground\": true, \"ticks\": \"\", \"zerolinecolor\": \"white\"}, \"zaxis\": {\"backgroundcolor\": \"#E5ECF6\", \"gridcolor\": \"white\", \"gridwidth\": 2, \"linecolor\": \"white\", \"showbackground\": true, \"ticks\": \"\", \"zerolinecolor\": \"white\"}}, \"shapedefaults\": {\"line\": {\"color\": \"#2a3f5f\"}}, \"ternary\": {\"aaxis\": {\"gridcolor\": \"white\", \"linecolor\": \"white\", \"ticks\": \"\"}, \"baxis\": {\"gridcolor\": \"white\", \"linecolor\": \"white\", \"ticks\": \"\"}, \"bgcolor\": \"#E5ECF6\", \"caxis\": {\"gridcolor\": \"white\", \"linecolor\": \"white\", \"ticks\": \"\"}}, \"title\": {\"x\": 0.05}, \"xaxis\": {\"automargin\": true, \"gridcolor\": \"white\", \"linecolor\": \"white\", \"ticks\": \"\", \"title\": {\"standoff\": 15}, \"zerolinecolor\": \"white\", \"zerolinewidth\": 2}, \"yaxis\": {\"automargin\": true, \"gridcolor\": \"white\", \"linecolor\": \"white\", \"ticks\": \"\", \"title\": {\"standoff\": 15}, \"zerolinecolor\": \"white\", \"zerolinewidth\": 2}}}, \"xaxis\": {\"anchor\": \"y\", \"domain\": [0.0, 1.0], \"range\": [2500, 25000], \"title\": {\"text\": \"Number of Families Middle Class and Higher\"}}, \"yaxis\": {\"anchor\": \"x\", \"domain\": [0.0, 1.0], \"range\": [0, 11800], \"showgrid\": false, \"showticklabels\": false, \"title\": {\"text\": \"Asian Immigrants\"}}},\n",
              "                        {\"responsive\": true}\n",
              "                    ).then(function(){\n",
              "                            \n",
              "var gd = document.getElementById('7d3f63ef-0f71-4018-b2fb-ac7d1b914164');\n",
              "var x = new MutationObserver(function (mutations, observer) {{\n",
              "        var display = window.getComputedStyle(gd).display;\n",
              "        if (!display || display === 'none') {{\n",
              "            console.log([gd, 'removed!']);\n",
              "            Plotly.purge(gd);\n",
              "            observer.disconnect();\n",
              "        }}\n",
              "}});\n",
              "\n",
              "// Listen for the removal of the full notebook cells\n",
              "var notebookContainer = gd.closest('#notebook-container');\n",
              "if (notebookContainer) {{\n",
              "    x.observe(notebookContainer, {childList: true});\n",
              "}}\n",
              "\n",
              "// Listen for the clearing of the current output cell\n",
              "var outputEl = gd.closest('.output');\n",
              "if (outputEl) {{\n",
              "    x.observe(outputEl, {childList: true});\n",
              "}}\n",
              "\n",
              "                        })\n",
              "                };\n",
              "                \n",
              "            </script>\n",
              "        </div>\n",
              "</body>\n",
              "</html>"
            ]
          },
          "metadata": {
            "tags": []
          }
        }
      ]
    },
    {
      "cell_type": "markdown",
      "metadata": {
        "id": "08LfR4ps0EUZ"
      },
      "source": [
        "By cutting off the edges and squeezing the y axis, I could make the upper trendline more pronounced. Then I did a skewed colour scale so that neighbourhoods with more Aisan immigrants were a darker shade of red. This time, I removed the entirety of the y axis ticks as the trendline was all I cared about showing. I kept the numbers of the x axis \"Number of Families Middle Class and Higher\" because that's what I wanted my audience to focus on, that Asian immigrants were well off."
      ]
    },
    {
      "cell_type": "markdown",
      "metadata": {
        "id": "lVt8wadQ0kS5"
      },
      "source": [
        "# Section 3: Post-Processing"
      ]
    },
    {
      "cell_type": "markdown",
      "metadata": {
        "id": "w_uG9pKi0nMx"
      },
      "source": [
        "While I can't show my Photoshop process, here's what the end result looks like. "
      ]
    },
    {
      "cell_type": "markdown",
      "metadata": {
        "id": "g5ZTYAcX1lqH"
      },
      "source": [
        "[Link to graphic here](https://raw.githubusercontent.com/JeremyJChu/misleading_graphic/main/output/image/misleading_graphic.jpg)\n"
      ]
    },
    {
      "cell_type": "markdown",
      "metadata": {
        "id": "FsbiY60X1tJx"
      },
      "source": [
        "Rather than legends, I colour coded the text to correspond to the graph to save space. Then of course, I bolded and increased the font size of inflammatory points to my audiences' eyes would be drawn to my big red immigrant phrases. Sprinkled throughout the pamphlet is StatsCan and the OpenData Toronto logo, giving the whole thing an air of legitimacy. \n",
        "\n",
        "Then considering I was targetting Asians, I turned the background yellow. I also redid the y axis text so that it fit the font of the rest of the pamphlet. \n",
        "\n",
        "Lastly, I did the cheesy white family pictures at the bottom because for some reason a lot of these propagandistic visuals use them and they somehow have an effect?"
      ]
    },
    {
      "cell_type": "markdown",
      "metadata": {
        "id": "eO1xX9tO2fO_"
      },
      "source": [
        "# Section 4: Discussion"
      ]
    },
    {
      "cell_type": "markdown",
      "metadata": {
        "id": "XFYvNzfc2i_9"
      },
      "source": [
        "Making this lie was harder than I thought. I found that I had to first decide on the story I wanted to tell, and then squish the data so that it fit the story. There were a lot more trial and error graphs than I could have shown in the code above, all of which were just experimenting to see which of the data points could show the most difference. \n",
        "\n",
        "After that, it was a matter of making sure you capture your audience's attention and muddle through the more questionable parts of your analysis. Give as little data as you can without seeming \"fake\" and appeal to emotions. I found that simplicity, for this case, taking into the account my audience, was the best choice. A simple line that moves up and another that moves down, along with big red numbers tell the story for me. The goal was not to tell something new, but capitalize on already present misinformation in my audience's minds and further cement their misguided beliefs. \n",
        "\n",
        "With anti-Asian sentiment higher than it has ever been, and COVID being heralded as the China flu by Trump, all it took was the right data and I coould tie the story into a Canadian context. The Faith Gouldy video helped too, as it showed that people were concerned about the growing immigrant population in Canada. Make it so that hardworking Canadians are hurt by this influx, and that immigrants are thriving more in COVID than them, paint COVID as an \"immigrant pandemic\", and I have a story that fits. \n",
        "\n",
        "This exercise was in part fun and in part disgusting. Being an Asian immigrant myself, sifting through racist media to find inspriation for the story was quite painful. Nonetheless it was fascinating to see how I could spin a story from real data interpreted wrongly, and how terrifying the effects could be. "
      ]
    }
  ]
}